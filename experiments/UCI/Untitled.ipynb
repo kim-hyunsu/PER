{
 "cells": [
  {
   "cell_type": "code",
   "execution_count": 1,
   "id": "71a169fd-7949-4859-a451-7a261b6d3eca",
   "metadata": {},
   "outputs": [],
   "source": [
    "import torch\n",
    "from torch.utils.data import TensorDataset, DataLoader\n",
    "import numpy as np\n",
    "from uci_helpers import uci_loader, uci_reps\n",
    "import argparse\n",
    "import pandas as pd\n",
    "import os\n",
    "import sys\n",
    "from rpp.rpp_conv import RPPConv, RPPConv_L2, RPPConv_L1, ConvNet, LinearNet\n",
    "\n",
    "import matplotlib.pyplot as plt\n",
    "import seaborn as sns"
   ]
  },
  {
   "cell_type": "code",
   "execution_count": 2,
   "id": "1f00b83f-2c4b-412d-892c-691605df5289",
   "metadata": {},
   "outputs": [],
   "source": [
    "def compute_mse(model, loader):\n",
    "    loss_func = torch.nn.MSELoss()\n",
    "    mse = 0\n",
    "    n_data = len(loader.dataset)\n",
    "    for x, y in loader:\n",
    "        x, y = x.cuda(), y.cuda()\n",
    "        mse += x.shape[0] * loss_func(model(x).squeeze(), y)\n",
    "    return mse.div(n_data).item()"
   ]
  },
  {
   "cell_type": "code",
   "execution_count": 3,
   "id": "0961fdb4-e71f-4782-bf74-009fe20531b6",
   "metadata": {},
   "outputs": [],
   "source": [
    "epochs = 1000\n",
    "lr = 0.001\n",
    "\n",
    "num_layers=4\n",
    "ch=32\n",
    "\n",
    "batch_size = 128\n",
    "conv_wd = 0.0001\n",
    "basic_wd = 0.01\n",
    "\n",
    "dataset = 'fertility'\n",
    "network = 'mlp'\n",
    "\n",
    "reg_fun = \"l2\"\n",
    "save_every = 10"
   ]
  },
  {
   "cell_type": "code",
   "execution_count": null,
   "id": "dd23cbf4-dddd-4fe2-a528-9c8e325cd258",
   "metadata": {},
   "outputs": [],
   "source": []
  },
  {
   "cell_type": "code",
   "execution_count": 4,
   "id": "21858242-a058-4ba8-b81a-6829cc933fb7",
   "metadata": {
    "tags": []
   },
   "outputs": [
    {
     "name": "stdout",
     "output_type": "stream",
     "text": [
      "Using MLP\n"
     ]
    }
   ],
   "source": [
    "kwargs = uci_reps[dataset]\n",
    "if network.lower() == 'rpp':\n",
    "    print(\"Using RPP\")\n",
    "    model = RPPConv(num_layers, ch, **kwargs).cuda()\n",
    "elif network.lower() == \"conv\":\n",
    "    print(\"Using Conv\")\n",
    "    model = ConvNet(num_layers, ch, **kwargs).cuda()\n",
    "else:\n",
    "    print(\"Using MLP\")\n",
    "    model = LinearNet(num_layers, ch, **kwargs).cuda()\n",
    "\n",
    "tr_x, tr_y, te_x, te_y = uci_loader(dataset)\n",
    "n_train = tr_x.shape[0]\n",
    "n_test = te_x.shape[0]\n",
    "\n",
    "trainset = TensorDataset(tr_x, tr_y)\n",
    "trainloader = DataLoader(trainset, batch_size, pin_memory=True, num_workers=4)\n",
    "\n",
    "testset = TensorDataset(te_x, te_y)\n",
    "testloader = DataLoader(testset, batch_size, pin_memory=True, num_workers=4)"
   ]
  },
  {
   "cell_type": "code",
   "execution_count": 5,
   "id": "af743093-4595-43a8-87d1-19a41deef4e5",
   "metadata": {},
   "outputs": [],
   "source": [
    "x, y = next(iter(trainloader))"
   ]
  },
  {
   "cell_type": "code",
   "execution_count": 6,
   "id": "e6fa2126-e814-49f0-b506-14beed570f7b",
   "metadata": {},
   "outputs": [
    {
     "data": {
      "text/plain": [
       "torch.Size([80, 1, 3, 3])"
      ]
     },
     "execution_count": 6,
     "metadata": {},
     "output_type": "execute_result"
    }
   ],
   "source": [
    "x.shape"
   ]
  },
  {
   "cell_type": "code",
   "execution_count": 7,
   "id": "1ef35718-ffac-46c5-8485-344ab03ebb6a",
   "metadata": {},
   "outputs": [
    {
     "data": {
      "text/plain": [
       "80"
      ]
     },
     "execution_count": 7,
     "metadata": {},
     "output_type": "execute_result"
    }
   ],
   "source": [
    "len(trainset)"
   ]
  },
  {
   "cell_type": "code",
   "execution_count": 8,
   "id": "2a290f52-9b1e-433a-9cc8-3d5231831158",
   "metadata": {
    "tags": []
   },
   "outputs": [
    {
     "name": "stdout",
     "output_type": "stream",
     "text": [
      "[0, 0.034006115049123764, 0.03537648916244507]\n",
      "[10, 0.01447839941829443, 0.043078094720840454]\n",
      "[20, 0.007752757053822279, 0.05553803965449333]\n",
      "[30, 0.004489687737077475, 0.050658345222473145]\n",
      "[40, 0.003519230056554079, 0.052103012800216675]\n",
      "[50, 0.0029008358251303434, 0.054779913276433945]\n",
      "[60, 0.002579576103016734, 0.055281247943639755]\n",
      "[70, 0.0023131442721933126, 0.05658991262316704]\n",
      "[80, 0.002117357449606061, 0.0578983835875988]\n",
      "[90, 0.002131856745108962, 0.058959852904081345]\n",
      "[100, 0.0020873122848570347, 0.06092583015561104]\n",
      "[110, 0.0019881564658135176, 0.059889037162065506]\n",
      "[120, 0.0019990254659205675, 0.06233615800738335]\n",
      "[130, 0.0018633430590853095, 0.06125914677977562]\n",
      "[140, 0.0018714688485488296, 0.06376035511493683]\n",
      "[150, 0.001741118379868567, 0.06235954910516739]\n",
      "[160, 0.001698190695606172, 0.06435506790876389]\n",
      "[170, 0.0017274875426664948, 0.06376013904809952]\n",
      "[180, 0.0016401391476392746, 0.06587303429841995]\n",
      "[190, 0.0015283037209883332, 0.06448446959257126]\n",
      "[200, 0.0015331556787714362, 0.0673353299498558]\n",
      "[210, 0.0014694643905386329, 0.06613565981388092]\n",
      "[220, 0.0014203052269294858, 0.0679079219698906]\n",
      "[230, 0.001438065548427403, 0.06746703386306763]\n",
      "[240, 0.0013912387657910585, 0.06855606287717819]\n",
      "[250, 0.0013389636296778917, 0.06823357194662094]\n",
      "[260, 0.0013440870679914951, 0.06832724064588547]\n",
      "[270, 0.0013618668308481574, 0.06932457536458969]\n",
      "[280, 0.0013246678281575441, 0.0683184266090393]\n",
      "[290, 0.0013101822696626186, 0.06867630779743195]\n",
      "[300, 0.001282815239392221, 0.068925641477108]\n",
      "[310, 0.0013522774679586291, 0.06985058635473251]\n",
      "[320, 0.0012755595380440354, 0.06929304450750351]\n",
      "[330, 0.001256180345080793, 0.06911692023277283]\n",
      "[340, 0.0012460422003641725, 0.06925792992115021]\n",
      "[350, 0.0012442615116015077, 0.06922312825918198]\n",
      "[360, 0.0012259910581633449, 0.0691162496805191]\n",
      "[370, 0.0012221519136801362, 0.0688023716211319]\n",
      "[380, 0.0012072791578248143, 0.06884779781103134]\n",
      "[390, 0.0012015976244583726, 0.0690881684422493]\n",
      "[400, 0.0011967093450948596, 0.06889946758747101]\n",
      "[410, 0.0011874929768964648, 0.06873083114624023]\n",
      "[420, 0.0011812330922111869, 0.06882452964782715]\n",
      "[430, 0.0011768908007070422, 0.06932946294546127]\n",
      "[440, 0.0011704365024343133, 0.0690276250243187]\n",
      "[450, 0.0011646050261333585, 0.06903880834579468]\n",
      "[460, 0.0011574532836675644, 0.06927486509084702]\n",
      "[470, 0.0011524645378813148, 0.06893506646156311]\n",
      "[480, 0.0011486307485029101, 0.06907152384519577]\n",
      "[490, 0.0011410982115194201, 0.06913888454437256]\n",
      "[500, 0.001135907368734479, 0.06912484019994736]\n",
      "[510, 0.0011321523925289512, 0.06910903006792068]\n",
      "[520, 0.0011247284710407257, 0.06923680752515793]\n",
      "[530, 0.0011197008425369859, 0.06928987801074982]\n",
      "[540, 0.0011162370210513473, 0.06901069730520248]\n",
      "[550, 0.0011086770100519061, 0.06914269924163818]\n",
      "[560, 0.0011061659315600991, 0.06898528337478638]\n",
      "[570, 0.001098879030905664, 0.06925513595342636]\n",
      "[580, 0.001094037084840238, 0.06898655742406845]\n",
      "[590, 0.001091601443476975, 0.06891237944364548]\n",
      "[600, 0.0010837424779310822, 0.06906981766223907]\n",
      "[610, 0.0010795047273859382, 0.06898167729377747]\n",
      "[620, 0.0010754590621218085, 0.06906991451978683]\n",
      "[630, 0.0010707820765674114, 0.06895375996828079]\n",
      "[640, 0.001067844801582396, 0.06893081963062286]\n",
      "[650, 0.0010640396503731608, 0.06878436356782913]\n",
      "[660, 0.0010601856047287583, 0.06896600127220154]\n",
      "[670, 0.0010575478663668036, 0.06881728768348694]\n",
      "[680, 0.0010558869689702988, 0.06877145171165466]\n",
      "[690, 0.0010538097703829408, 0.06872804462909698]\n",
      "[700, 0.0010509981075301766, 0.06882831454277039]\n",
      "[710, 0.001049172948114574, 0.06876163929700851]\n",
      "[720, 0.0010476334718987346, 0.06885003298521042]\n",
      "[730, 0.0010461139027029276, 0.06875775009393692]\n",
      "[740, 0.0010451270500198007, 0.06877433508634567]\n",
      "[750, 0.001044209348037839, 0.06873173266649246]\n",
      "[760, 0.0010430107358843088, 0.06875258684158325]\n",
      "[770, 0.0010420704493299127, 0.06883125752210617]\n",
      "[780, 0.0010412207338958979, 0.06881707906723022]\n",
      "[790, 0.0010408031521365047, 0.06877119094133377]\n",
      "[800, 0.0010400254977867007, 0.06878911703824997]\n",
      "[810, 0.0010395211866125464, 0.06878595799207687]\n",
      "[820, 0.0010390729876235127, 0.0687873587012291]\n",
      "[830, 0.0010387320071458817, 0.06876052170991898]\n",
      "[840, 0.001038411515764892, 0.06877564638853073]\n",
      "[850, 0.0010381281608715653, 0.06877388805150986]\n",
      "[860, 0.0010378856677561998, 0.06876712292432785]\n",
      "[870, 0.0010376701829954982, 0.0687609538435936]\n",
      "[880, 0.001037484616972506, 0.06878172606229782]\n",
      "[890, 0.0010374091798439622, 0.06877817958593369]\n",
      "[900, 0.001037245849147439, 0.06876784563064575]\n",
      "[910, 0.0010371310636401176, 0.06877727806568146]\n",
      "[920, 0.001037055510096252, 0.06877333670854568]\n",
      "[930, 0.0010369991650804877, 0.06877338141202927]\n",
      "[940, 0.001036947825923562, 0.0687732920050621]\n",
      "[950, 0.001036911504343152, 0.06877431273460388]\n",
      "[960, 0.0010368889197707176, 0.06877335160970688]\n",
      "[970, 0.0010368762305006385, 0.06877320259809494]\n",
      "[980, 0.0010368673829361796, 0.06877360492944717]\n",
      "[990, 0.0010368641233071685, 0.06877351552248001]\n",
      "[999, 0.0010368636576458812, 0.06877352297306061]\n"
     ]
    }
   ],
   "source": [
    "optimizer = torch.optim.Adam(model.parameters(), lr=lr)\n",
    "scheduler = torch.optim.lr_scheduler.CosineAnnealingLR(optimizer, T_max=epochs)\n",
    "loss_func = torch.nn.MSELoss()\n",
    "if reg_fun.lower() == 'l1':\n",
    "    regularizer = RPPConv_L1\n",
    "else:\n",
    "    regularizer = RPPConv_L2\n",
    "\n",
    "logger = []\n",
    "losses = []\n",
    "for epoch in range(epochs):\n",
    "    for x, y in trainloader:\n",
    "        x, y = x.cuda(), y.cuda()\n",
    "        optimizer.zero_grad()\n",
    "        outputs = model(x)\n",
    "        loss=loss_func(outputs.squeeze(), y)\n",
    "        losses.append(loss.item())\n",
    "        if network.lower() == 'rpp':\n",
    "            loss += regularizer(model, conv_wd=conv_wd, \n",
    "                  basic_wd=basic_wd)\n",
    "        loss.backward()\n",
    "        optimizer.step()        \n",
    "        scheduler.step()\n",
    "\n",
    "    if (epoch % save_every == 0) or (epoch == epochs-1):\n",
    "        with torch.no_grad():\n",
    "            tr_mse = compute_mse(model, trainloader)\n",
    "            te_mse = compute_mse(model, testloader)\n",
    "\n",
    "        logger.append([epoch, tr_mse, te_mse])\n",
    "        print(logger[-1])\n",
    "## Save Outputs ##\n",
    "df = pd.DataFrame(logger)\n",
    "df.columns = ['epoch', 'tr_mse', 'te_mse']"
   ]
  },
  {
   "cell_type": "code",
   "execution_count": 9,
   "id": "c598d982-85ca-441c-a2f3-cf751eb46809",
   "metadata": {},
   "outputs": [],
   "source": [
    "df = pd.DataFrame(logger)\n",
    "df.columns = ['epoch', 'tr_mse', 'te_mse']"
   ]
  },
  {
   "cell_type": "code",
   "execution_count": 10,
   "id": "8040fdc3-0629-429c-a8bc-b279471da55b",
   "metadata": {},
   "outputs": [
    {
     "data": {
      "text/plain": [
       "<AxesSubplot:xlabel='epoch', ylabel='te_mse'>"
      ]
     },
     "execution_count": 10,
     "metadata": {},
     "output_type": "execute_result"
    },
    {
     "data": {
      "image/png": "[encoded data removed]",
      "text/plain": [
       "<Figure size 432x288 with 1 Axes>"
      ]
     },
     "metadata": {
      "needs_background": "light"
     },
     "output_type": "display_data"
    }
   ],
   "source": [
    "sns.lineplot(x='epoch', y='te_mse', data=df)\n",
    "sns.lineplot(x='epoch', y='tr_mse', data=df)"
   ]
  },
  {
   "cell_type": "code",
   "execution_count": null,
   "id": "25a00c51-464e-41e7-afe0-10c7e64a5a7c",
   "metadata": {},
   "outputs": [],
   "source": []
  }
 ],
 "metadata": {
  "kernelspec": {
   "display_name": "Python 3",
   "language": "python",
   "name": "python3"
  },
  "language_info": {
   "codemirror_mode": {
    "name": "ipython",
    "version": 3
   },
   "file_extension": ".py",
   "mimetype": "text/x-python",
   "name": "python",
   "nbconvert_exporter": "python",
   "pygments_lexer": "ipython3",
   "version": "3.8.8"
  }
 },
 "nbformat": 4,
 "nbformat_minor": 5
}
