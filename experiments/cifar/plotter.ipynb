{
 "cells": [
  {
   "cell_type": "code",
   "execution_count": 24,
   "id": "f3356bc1-7559-4e93-9ec9-00769e51e078",
   "metadata": {},
   "outputs": [],
   "source": [
    "import numpy as np\n",
    "import seaborn as sns\n",
    "import pandas as pd\n",
    "import matplotlib.pyplot as plt\n",
    "import os"
   ]
  },
  {
   "cell_type": "code",
   "execution_count": 17,
   "id": "aa82ebc5-d297-4f81-bb46-a11c0455aa4a",
   "metadata": {},
   "outputs": [],
   "source": [
    "def str_mapper(wd):\n",
    "    if wd == 0.1:\n",
    "        return \"1e-1\"\n",
    "    elif wd == 1e-2:\n",
    "        return \"1e-2\"\n",
    "    elif wd == 1e-3:\n",
    "        return \"1e-3\"\n",
    "    elif wd == 1e-4:\n",
    "        return \"1e-4\"\n",
    "    \n",
    "def namer(basic_wd, conv_wd):\n",
    "    fpath = \"./logs/\"\n",
    "    fname = \"model0_basic\" + str_mapper(basic_wd) + \"_conv\" + str_mapper(conv_wd) + \".txt\"\n",
    "    return fpath + fname\n",
    "def get_test_loss(basic_wd, conv_wd):\n",
    "    name = namer(basic_wd, conv_wd)\n",
    "    with open(name) as f:\n",
    "        for line in f:\n",
    "            pass\n",
    "        last_line = line\n",
    "    return float(last_line.split()[-2])"
   ]
  },
  {
   "cell_type": "code",
   "execution_count": 25,
   "id": "0f80eba2-bf48-458b-b592-4eda72f56280",
   "metadata": {},
   "outputs": [],
   "source": [
    "wds = [1e-1, 1e-2, 1e-3, 1e-4]\n",
    "logger = []\n",
    "for basic_wd in wds:\n",
    "    for conv_wd in wds:\n",
    "        if os.path.exists(namer(basic_wd, conv_wd)):\n",
    "            logger.append([basic_wd, conv_wd, get_test_loss(basic_wd, conv_wd)])\n",
    "df = pd.DataFrame(logger)\n",
    "df.columns = [\"basic_wd\", \"conv_wd\", \"test_acc\"]\n",
    "df['test_err'] = 100 - df['test_acc']"
   ]
  },
  {
   "cell_type": "code",
   "execution_count": 28,
   "id": "f0944b54-38a0-4b10-9c08-84507f7eb7e0",
   "metadata": {},
   "outputs": [
    {
     "data": {
      "text/html": [
       "<div>\n",
       "<style scoped>\n",
       "    .dataframe tbody tr th:only-of-type {\n",
       "        vertical-align: middle;\n",
       "    }\n",
       "\n",
       "    .dataframe tbody tr th {\n",
       "        vertical-align: top;\n",
       "    }\n",
       "\n",
       "    .dataframe thead th {\n",
       "        text-align: right;\n",
       "    }\n",
       "</style>\n",
       "<table border=\"1\" class=\"dataframe\">\n",
       "  <thead>\n",
       "    <tr style=\"text-align: right;\">\n",
       "      <th></th>\n",
       "      <th>basic_wd</th>\n",
       "      <th>conv_wd</th>\n",
       "      <th>test_acc</th>\n",
       "      <th>test_err</th>\n",
       "    </tr>\n",
       "  </thead>\n",
       "  <tbody>\n",
       "    <tr>\n",
       "      <th>0</th>\n",
       "      <td>0.1000</td>\n",
       "      <td>0.1000</td>\n",
       "      <td>10.00</td>\n",
       "      <td>90.00</td>\n",
       "    </tr>\n",
       "    <tr>\n",
       "      <th>1</th>\n",
       "      <td>0.1000</td>\n",
       "      <td>0.0100</td>\n",
       "      <td>62.02</td>\n",
       "      <td>37.98</td>\n",
       "    </tr>\n",
       "    <tr>\n",
       "      <th>2</th>\n",
       "      <td>0.1000</td>\n",
       "      <td>0.0010</td>\n",
       "      <td>68.05</td>\n",
       "      <td>31.95</td>\n",
       "    </tr>\n",
       "    <tr>\n",
       "      <th>3</th>\n",
       "      <td>0.1000</td>\n",
       "      <td>0.0001</td>\n",
       "      <td>71.69</td>\n",
       "      <td>28.31</td>\n",
       "    </tr>\n",
       "    <tr>\n",
       "      <th>4</th>\n",
       "      <td>0.0100</td>\n",
       "      <td>0.1000</td>\n",
       "      <td>37.76</td>\n",
       "      <td>62.24</td>\n",
       "    </tr>\n",
       "    <tr>\n",
       "      <th>5</th>\n",
       "      <td>0.0100</td>\n",
       "      <td>0.0100</td>\n",
       "      <td>44.31</td>\n",
       "      <td>55.69</td>\n",
       "    </tr>\n",
       "    <tr>\n",
       "      <th>6</th>\n",
       "      <td>0.0100</td>\n",
       "      <td>0.0010</td>\n",
       "      <td>73.55</td>\n",
       "      <td>26.45</td>\n",
       "    </tr>\n",
       "    <tr>\n",
       "      <th>7</th>\n",
       "      <td>0.0100</td>\n",
       "      <td>0.0001</td>\n",
       "      <td>71.53</td>\n",
       "      <td>28.47</td>\n",
       "    </tr>\n",
       "    <tr>\n",
       "      <th>8</th>\n",
       "      <td>0.0010</td>\n",
       "      <td>0.0100</td>\n",
       "      <td>64.04</td>\n",
       "      <td>35.96</td>\n",
       "    </tr>\n",
       "    <tr>\n",
       "      <th>9</th>\n",
       "      <td>0.0010</td>\n",
       "      <td>0.0010</td>\n",
       "      <td>73.60</td>\n",
       "      <td>26.40</td>\n",
       "    </tr>\n",
       "    <tr>\n",
       "      <th>10</th>\n",
       "      <td>0.0010</td>\n",
       "      <td>0.0001</td>\n",
       "      <td>74.30</td>\n",
       "      <td>25.70</td>\n",
       "    </tr>\n",
       "    <tr>\n",
       "      <th>11</th>\n",
       "      <td>0.0001</td>\n",
       "      <td>0.1000</td>\n",
       "      <td>60.32</td>\n",
       "      <td>39.68</td>\n",
       "    </tr>\n",
       "    <tr>\n",
       "      <th>12</th>\n",
       "      <td>0.0001</td>\n",
       "      <td>0.0100</td>\n",
       "      <td>62.67</td>\n",
       "      <td>37.33</td>\n",
       "    </tr>\n",
       "    <tr>\n",
       "      <th>13</th>\n",
       "      <td>0.0001</td>\n",
       "      <td>0.0010</td>\n",
       "      <td>62.87</td>\n",
       "      <td>37.13</td>\n",
       "    </tr>\n",
       "    <tr>\n",
       "      <th>14</th>\n",
       "      <td>0.0001</td>\n",
       "      <td>0.0001</td>\n",
       "      <td>68.24</td>\n",
       "      <td>31.76</td>\n",
       "    </tr>\n",
       "  </tbody>\n",
       "</table>\n",
       "</div>"
      ],
      "text/plain": [
       "    basic_wd  conv_wd  test_acc  test_err\n",
       "0     0.1000   0.1000     10.00     90.00\n",
       "1     0.1000   0.0100     62.02     37.98\n",
       "2     0.1000   0.0010     68.05     31.95\n",
       "3     0.1000   0.0001     71.69     28.31\n",
       "4     0.0100   0.1000     37.76     62.24\n",
       "5     0.0100   0.0100     44.31     55.69\n",
       "6     0.0100   0.0010     73.55     26.45\n",
       "7     0.0100   0.0001     71.53     28.47\n",
       "8     0.0010   0.0100     64.04     35.96\n",
       "9     0.0010   0.0010     73.60     26.40\n",
       "10    0.0010   0.0001     74.30     25.70\n",
       "11    0.0001   0.1000     60.32     39.68\n",
       "12    0.0001   0.0100     62.67     37.33\n",
       "13    0.0001   0.0010     62.87     37.13\n",
       "14    0.0001   0.0001     68.24     31.76"
      ]
     },
     "execution_count": 28,
     "metadata": {},
     "output_type": "execute_result"
    }
   ],
   "source": [
    "df"
   ]
  },
  {
   "cell_type": "code",
   "execution_count": 29,
   "id": "e45f4cb4-2e4b-4d61-babd-6382bafbd63e",
   "metadata": {},
   "outputs": [
    {
     "data": {
      "text/plain": [
       "[]"
      ]
     },
     "execution_count": 29,
     "metadata": {},
     "output_type": "execute_result"
    },
    {
     "data": {
      "image/png": "[encoded data removed]",
      "text/plain": [
       "<Figure size 432x288 with 1 Axes>"
      ]
     },
     "metadata": {
      "needs_background": "light"
     },
     "output_type": "display_data"
    }
   ],
   "source": [
    "sns.lineplot(x='conv_wd', y='test_err', hue='basic_wd', data=df,\n",
    "            palette='tab10')\n",
    "plt.semilogx()"
   ]
  },
  {
   "cell_type": "code",
   "execution_count": null,
   "id": "99882edd-849e-46ea-b006-1e63bba506dd",
   "metadata": {},
   "outputs": [],
   "source": []
  }
 ],
 "metadata": {
  "kernelspec": {
   "display_name": "Python 3",
   "language": "python",
   "name": "python3"
  },
  "language_info": {
   "codemirror_mode": {
    "name": "ipython",
    "version": 3
   },
   "file_extension": ".py",
   "mimetype": "text/x-python",
   "name": "python",
   "nbconvert_exporter": "python",
   "pygments_lexer": "ipython3",
   "version": "3.8.8"
  }
 },
 "nbformat": 4,
 "nbformat_minor": 5
}
