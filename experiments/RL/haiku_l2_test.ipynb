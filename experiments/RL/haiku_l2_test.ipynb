{
 "cells": [
  {
   "cell_type": "code",
   "execution_count": 1,
   "id": "4bc5cafb-c3fa-466d-a331-bac3b4f567b1",
   "metadata": {},
   "outputs": [],
   "source": [
    "# Copyright 2020 DeepMind Technologies Limited. All Rights Reserved.\n",
    "#\n",
    "# Licensed under the Apache License, Version 2.0 (the \"License\");\n",
    "# you may not use this file except in compliance with the License.\n",
    "# You may obtain a copy of the License at\n",
    "#\n",
    "#     http://www.apache.org/licenses/LICENSE-2.0\n",
    "#\n",
    "# Unless required by applicable law or agreed to in writing, software\n",
    "# distributed under the License is distributed on an \"AS IS\" BASIS,\n",
    "# WITHOUT WARRANTIES OR CONDITIONS OF ANY KIND, either express or implied.\n",
    "# See the License for the specific language governing permissions and\n",
    "# limitations under the License.\n",
    "# ==============================================================================\n",
    "\"\"\"MNIST classifier example.\"\"\"\n",
    "\n",
    "from typing import Generator, Mapping, Tuple\n",
    "\n",
    "from absl import app\n",
    "import haiku as hk\n",
    "import jax\n",
    "import jax.numpy as jnp\n",
    "import numpy as np\n",
    "import optax\n",
    "import tensorflow_datasets as tfds\n",
    "\n",
    "Batch = Mapping[str, np.ndarray]"
   ]
  },
  {
   "cell_type": "code",
   "execution_count": 8,
   "id": "9c248153-7753-4e34-835f-26e971b190c1",
   "metadata": {},
   "outputs": [],
   "source": [
    "def net_fn(batch: Batch) -> jnp.ndarray:\n",
    "    \"\"\"Standard LeNet-300-100 MLP network.\"\"\"\n",
    "    x = batch[\"image\"].astype(jnp.float32) / 255.\n",
    "    mlp = hk.Sequential([\n",
    "      hk.Flatten(),\n",
    "      hk.Linear(300), jax.nn.relu,\n",
    "      hk.Linear(100), jax.nn.relu,\n",
    "      hk.Linear(10),\n",
    "    ])\n",
    "    return mlp(x)\n",
    "\n",
    "\n",
    "def load_dataset(\n",
    "        split: str,\n",
    "        *,\n",
    "        is_training: bool,\n",
    "        batch_size: int,\n",
    "    ) -> Generator[Batch, None, None]:\n",
    "    \"\"\"Loads the dataset as a generator of batches.\"\"\"\n",
    "    ds = tfds.load(\"mnist:3.*.*\", split=split).cache().repeat()\n",
    "    if is_training:\n",
    "        ds = ds.shuffle(10 * batch_size, seed=0)\n",
    "    ds = ds.batch(batch_size)\n",
    "    return iter(tfds.as_numpy(ds))\n",
    "\n",
    "\n",
    "\n",
    "# Make the network and optimiser.\n",
    "net = hk.without_apply_rng(hk.transform(net_fn))\n",
    "opt = optax.adam(1e-3)\n",
    "\n",
    "# Training loss (cross-entropy).\n",
    "def loss(params: hk.Params, batch: Batch) -> jnp.ndarray:\n",
    "    \"\"\"Compute the loss of the network, including L2.\"\"\"\n",
    "    logits = net.apply(params, batch)\n",
    "    labels = jax.nn.one_hot(batch[\"label\"], 10)\n",
    "\n",
    "    l2_loss = 0.5 * sum(jnp.sum(jnp.square(p)) for p in jax.tree_leaves(params))\n",
    "    softmax_xent = -jnp.sum(labels * jax.nn.log_softmax(logits))\n",
    "    softmax_xent /= labels.shape[0]\n",
    "\n",
    "    return softmax_xent + 1e-4 * l2_loss\n",
    "\n",
    "# Evaluation metric (classification accuracy).\n",
    "@jax.jit\n",
    "def accuracy(params: hk.Params, batch: Batch) -> jnp.ndarray:\n",
    "    predictions = net.apply(params, batch)\n",
    "    return jnp.mean(jnp.argmax(predictions, axis=-1) == batch[\"label\"])\n",
    "\n",
    "@jax.jit\n",
    "def update(\n",
    "      params: hk.Params,\n",
    "      opt_state: optax.OptState,\n",
    "      batch: Batch,\n",
    "    ) -> Tuple[hk.Params, optax.OptState]:\n",
    "    \"\"\"Learning rule (stochastic gradient descent).\"\"\"\n",
    "    grads = jax.grad(loss)(params, batch)\n",
    "    updates, opt_state = opt.update(grads, opt_state)\n",
    "    new_params = optax.apply_updates(params, updates)\n",
    "    return new_params, opt_state\n",
    "\n",
    "# We maintain avg_params, the exponential moving average of the \"live\" params.\n",
    "# avg_params is used only for evaluation (cf. https://doi.org/10.1137/0330046)\n",
    "@jax.jit\n",
    "def ema_update(params, avg_params):\n",
    "    return optax.incremental_update(params, avg_params, step_size=0.001)\n",
    "\n",
    "# Make datasets.\n",
    "train = load_dataset(\"train\", is_training=True, batch_size=1000)\n",
    "train_eval = load_dataset(\"train\", is_training=False, batch_size=10000)\n",
    "test_eval = load_dataset(\"test\", is_training=False, batch_size=10000)\n",
    "\n",
    "# Initialize network and optimiser; note we draw an input to get shapes.\n",
    "params = avg_params = net.init(jax.random.PRNGKey(42), next(train))\n",
    "opt_state = opt.init(params)"
   ]
  },
  {
   "cell_type": "code",
   "execution_count": 9,
   "id": "88318926-f09b-44f5-992c-7eb3bc499468",
   "metadata": {},
   "outputs": [
    {
     "name": "stdout",
     "output_type": "stream",
     "text": [
      "[Step 0] Train / Test accuracy: 0.129 / 0.132.\n",
      "[Step 1000] Train / Test accuracy: 0.979 / 0.969.\n"
     ]
    }
   ],
   "source": [
    "# Train/eval loop.\n",
    "for step in range(1001):\n",
    "    if step % 1000 == 0:\n",
    "        # Periodically evaluate classification accuracy on train & test sets.\n",
    "        train_accuracy = accuracy(avg_params, next(train_eval))\n",
    "        test_accuracy = accuracy(avg_params, next(test_eval))\n",
    "        train_accuracy, test_accuracy = jax.device_get(\n",
    "          (train_accuracy, test_accuracy))\n",
    "        print(f\"[Step {step}] Train / Test accuracy: \"\n",
    "            f\"{train_accuracy:.3f} / {test_accuracy:.3f}.\")\n",
    "\n",
    "    # Do SGD on a batch of training examples.\n",
    "    params, opt_state = update(params, opt_state, next(train))\n",
    "    avg_params = ema_update(params, avg_params)"
   ]
  },
  {
   "cell_type": "code",
   "execution_count": 10,
   "id": "1a2a9825-1162-4a68-8611-ed465ded73f7",
   "metadata": {},
   "outputs": [],
   "source": [
    "l2_loss = 0.5 * sum(jnp.sum(jnp.square(p)) for p in jax.tree_leaves(params))"
   ]
  },
  {
   "cell_type": "code",
   "execution_count": 11,
   "id": "01faa2cc-516f-40ff-a56f-e575faceae71",
   "metadata": {},
   "outputs": [
    {
     "name": "stdout",
     "output_type": "stream",
     "text": [
      "244.46423\n"
     ]
    }
   ],
   "source": [
    "print(l2_loss)"
   ]
  },
  {
   "cell_type": "code",
   "execution_count": null,
   "id": "8b50860d-23fd-40da-92fc-ea1ff5060b60",
   "metadata": {},
   "outputs": [],
   "source": []
  }
 ],
 "metadata": {
  "kernelspec": {
   "display_name": "Python 3",
   "language": "python",
   "name": "python3"
  },
  "language_info": {
   "codemirror_mode": {
    "name": "ipython",
    "version": 3
   },
   "file_extension": ".py",
   "mimetype": "text/x-python",
   "name": "python",
   "nbconvert_exporter": "python",
   "pygments_lexer": "ipython3",
   "version": "3.8.8"
  }
 },
 "nbformat": 4,
 "nbformat_minor": 5
}
