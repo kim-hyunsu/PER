{
 "cells": [
  {
   "cell_type": "code",
   "execution_count": 1,
   "metadata": {},
   "outputs": [],
   "source": [
    "import jax\n",
    "from typing import Any, Callable, Sequence, Optional\n",
    "from jax import lax, random, numpy as jnp\n",
    "import flax\n",
    "from flax.core import freeze, unfreeze\n",
    "from flax import linen as nn\n",
    "\n",
    "from jax.config import config\n",
    "config.enable_omnistaging() # Linen requires enabling omnistaging\n",
    "import logging\n",
    "logging.getLogger().setLevel(logging.INFO)"
   ]
  },
  {
   "cell_type": "code",
   "execution_count": 2,
   "metadata": {},
   "outputs": [],
   "source": [
    "from RL.emlp_flax import EMLPBlock,EMLP,MLP\n",
    "from emlp.reps import T,V\n",
    "from emlp.groups import S,SO"
   ]
  },
  {
   "cell_type": "code",
   "execution_count": 3,
   "metadata": {},
   "outputs": [],
   "source": [
    "G = SO(2)\n",
    "repin = T(1)(G)+T(0)(G)\n",
    "repout = T(0)(G) + T(2)(G)"
   ]
  },
  {
   "cell_type": "code",
   "execution_count": 4,
   "metadata": {},
   "outputs": [
    {
     "name": "stderr",
     "output_type": "stream",
     "text": [
      "INFO:root:Initing EMLP (flax)\n",
      "INFO:root:Reps: [V⁰+V, 64V⁰+32V+16V²+8V³+4V⁴+2V⁵, 64V⁰+32V+16V²+8V³+4V⁴+2V⁵, 64V⁰+32V+16V²+8V³+4V⁴+2V⁵]\n",
      "INFO:root:V cache miss\n",
      "INFO:root:Solving basis for V, for G=SO(2)\n",
      "INFO:root:V² cache miss\n",
      "INFO:root:Solving basis for V², for G=SO(2)\n",
      "INFO:root:V³ cache miss\n",
      "INFO:root:Solving basis for V³, for G=SO(2)\n",
      "INFO:root:V⁴ cache miss\n",
      "INFO:root:Solving basis for V⁴, for G=SO(2)\n",
      "INFO:root:V⁵ cache miss\n",
      "INFO:root:Solving basis for V⁵, for G=SO(2)\n",
      "INFO:root:V⁶ cache miss\n",
      "INFO:root:Solving basis for V⁶, for G=SO(2)\n",
      "INFO:root:Linear W components:1338 rep:126V⁰+158V+48V²+24V³+12V⁴+6V⁵+2V⁶\n",
      "INFO:root:BiW components: dim:69808\n",
      "INFO:root:V⁷ cache miss\n",
      "INFO:root:Solving basis for V⁷, for G=SO(2)\n",
      "INFO:root:V⁸ cache miss\n",
      "INFO:root:Solving basis for V⁸, for G=SO(2)\n",
      "INFO:root:V⁹ cache miss\n",
      "INFO:root:Solving basis for V⁹, for G=SO(2)\n",
      "INFO:root:V¹⁰ cache miss\n",
      "INFO:root:Solving basis for V¹⁰, for G=SO(2)\n",
      "INFO:root:Linear W components:171264 rep:8064V⁰+6080V+4064V²+2544V³+1528V⁴+892V⁵+320V⁶+128V⁷+48V⁸+16V⁹+4V¹⁰\n",
      "INFO:root:BiW components: dim:69808\n",
      "INFO:root:Linear W components:171264 rep:8064V⁰+6080V+4064V²+2544V³+1528V⁴+892V⁵+320V⁶+128V⁷+48V⁸+16V⁹+4V¹⁰\n",
      "INFO:root:BiW components: dim:69808\n",
      "INFO:root:Linear W components:1920 rep:64V⁰+32V+80V²+40V³+20V⁴+10V⁵+4V⁶+2V⁷\n"
     ]
    }
   ],
   "source": [
    "model = EMLP(repin,repout,G)"
   ]
  },
  {
   "cell_type": "code",
   "execution_count": 5,
   "metadata": {},
   "outputs": [
    {
     "data": {
      "text/plain": [
       "V⁰+V+V²+V³"
      ]
     },
     "execution_count": 5,
     "metadata": {},
     "output_type": "execute_result"
    }
   ],
   "source": [
    "repin>>repout"
   ]
  },
  {
   "cell_type": "code",
   "execution_count": 6,
   "metadata": {},
   "outputs": [
    {
     "data": {
      "text/plain": [
       "FrozenDict({\n",
       "    params: {\n",
       "        modules_0: {\n",
       "            bilinear: {\n",
       "                w: (69808,),\n",
       "            },\n",
       "            linear: {\n",
       "                b: (446,),\n",
       "                w: (3, 446),\n",
       "            },\n",
       "        },\n",
       "        modules_1: {\n",
       "            bilinear: {\n",
       "                w: (69808,),\n",
       "            },\n",
       "            linear: {\n",
       "                b: (446,),\n",
       "                w: (384, 446),\n",
       "            },\n",
       "        },\n",
       "        modules_2: {\n",
       "            bilinear: {\n",
       "                w: (69808,),\n",
       "            },\n",
       "            linear: {\n",
       "                b: (446,),\n",
       "                w: (384, 446),\n",
       "            },\n",
       "        },\n",
       "        modules_3: {\n",
       "            b: (5,),\n",
       "            w: (384, 5),\n",
       "        },\n",
       "    },\n",
       "})"
      ]
     },
     "execution_count": 6,
     "metadata": {},
     "output_type": "execute_result"
    }
   ],
   "source": [
    "key1, key2 = random.split(random.PRNGKey(0))\n",
    "x = random.normal(key1, (repin.size(),)) # Dummy input\n",
    "params = model.init(key2, x) # Initialization call\n",
    "jax.tree_map(lambda x: x.shape, params) # Checking output shapes"
   ]
  },
  {
   "cell_type": "code",
   "execution_count": 7,
   "metadata": {},
   "outputs": [
    {
     "data": {
      "text/plain": [
       "DeviceArray([ 0.00313691, -0.00691255, -0.00108144,  0.00487514,\n",
       "             -0.00263916], dtype=float32)"
      ]
     },
     "execution_count": 7,
     "metadata": {},
     "output_type": "execute_result"
    }
   ],
   "source": [
    "model.apply(params,x)"
   ]
  },
  {
   "cell_type": "code",
   "execution_count": 8,
   "metadata": {},
   "outputs": [
    {
     "data": {
      "text/plain": [
       "DeviceArray([ 0.00313691, -0.00691255, -0.00108144,  0.00487514,\n",
       "             -0.00263916], dtype=float32)"
      ]
     },
     "execution_count": 8,
     "metadata": {},
     "output_type": "execute_result"
    }
   ],
   "source": [
    "model.apply(params,x)"
   ]
  },
  {
   "cell_type": "code",
   "execution_count": 9,
   "metadata": {},
   "outputs": [
    {
     "data": {
      "text/plain": [
       "DeviceArray([ 0.00313691, -0.00691255, -0.00108144,  0.00487514,\n",
       "             -0.00263916], dtype=float32)"
      ]
     },
     "execution_count": 9,
     "metadata": {},
     "output_type": "execute_result"
    }
   ],
   "source": [
    "model.apply(params,x)"
   ]
  },
  {
   "cell_type": "code",
   "execution_count": null,
   "metadata": {},
   "outputs": [],
   "source": []
  }
 ],
 "metadata": {
  "kernelspec": {
   "display_name": "Python 3",
   "language": "python",
   "name": "python3"
  },
  "language_info": {
   "codemirror_mode": {
    "name": "ipython",
    "version": 3
   },
   "file_extension": ".py",
   "mimetype": "text/x-python",
   "name": "python",
   "nbconvert_exporter": "python",
   "pygments_lexer": "ipython3",
   "version": "3.8.5"
  }
 },
 "nbformat": 4,
 "nbformat_minor": 4
}
