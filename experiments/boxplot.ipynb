{
 "cells": [
  {
   "cell_type": "code",
   "execution_count": 47,
   "metadata": {},
   "outputs": [
    {
     "ename": "SyntaxError",
     "evalue": "invalid syntax (935839374.py, line 1)",
     "output_type": "error",
     "traceback": [
      "\u001b[0;36m  Input \u001b[0;32mIn [47]\u001b[0;36m\u001b[0m\n\u001b[0;31m    pip install seaborn\u001b[0m\n\u001b[0m        ^\u001b[0m\n\u001b[0;31mSyntaxError\u001b[0m\u001b[0;31m:\u001b[0m invalid syntax\n"
     ]
    }
   ],
   "source": [
    "# pip install seaborn\n",
    "# pip install matplotlib"
   ]
  },
  {
   "cell_type": "code",
   "execution_count": 1,
   "metadata": {},
   "outputs": [],
   "source": [
    "import matplotlib.pyplot as plt\n",
    "import seaborn as sns\n",
    "import numpy as np\n",
    "import pandas as pd\n",
    "from matplotlib.ticker import FormatStrFormatter"
   ]
  },
  {
   "cell_type": "code",
   "execution_count": 2,
   "metadata": {},
   "outputs": [
    {
     "data": {
      "image/png": "[encoded data removed]",
      "text/plain": [
       "<Figure size 432x288 with 2 Axes>"
      ]
     },
     "metadata": {
      "needs_background": "light"
     },
     "output_type": "display_data"
    }
   ],
   "source": [
    "# SE3 & 03\n",
    "# SE3\n",
    "mse_1 = [1.175e-04, 1.536e-04, 3.959e-04, 5.575e-05, 3.469e-03,\n",
    "        3.389e-04, 7.599e-04, 1.490e-03, 1.480e-03, 3.353e-04,\n",
    "        5.132e-05, 6.088e-05, 1.331e-04, 4.676e-04, 1.321e-04]\n",
    "model_1 = ['emlp','emlp','emlp','emlp','emlp',\n",
    "        'rpp','rpp','rpp','rpp','rpp',\n",
    "        'hper','hper','hper','hper','hper']\n",
    "data_1 = pd.DataFrame({'MSE':mse_1, '':model_1})\n",
    "# print(data)\n",
    "fig, ax = plt.subplots(nrows=2, constrained_layout=True)\n",
    "\n",
    "box_1 = sns.boxplot( x=data_1[''], y=data_1['MSE'], palette=\"Blues\", ax=ax[0])\n",
    "box_1.set_title(\"SE(3)\")\n",
    "box_1.spines['top'].set_visible(False)\n",
    "box_1.spines['right'].set_visible(False)\n",
    "box_1.set_yscale('log')\n",
    "\n",
    "# O3\n",
    "mse_2 = [2.205e-02, 1.753e-02, 1.213e-02, 1.081e-02, 1.329e-02 ,\n",
    "        5.468e-02, 4.754e-02, 5.024e-02, 8.714e-02, 4.208e-02,\n",
    "        2.223e-02, 4.008e-02, 4.690e-02, 1.953e-02, 1.517e-02]\n",
    "model_2 = ['emlp','emlp','emlp','emlp','emlp',\n",
    "        'rpp','rpp','rpp','rpp','rpp',\n",
    "        'hper','hper','hper','hper','hper']\n",
    "data_2 = pd.DataFrame({'MSE':mse_2, '':model_2})\n",
    "box_2 = sns.boxplot( x=data_2[''], y=data_2['MSE'], palette=\"Blues\", ax=ax[1])\n",
    "box_2.set_title(\"O(3)\")\n",
    "box_2.spines['top'].set_visible(False)\n",
    "box_2.spines['right'].set_visible(False)\n",
    "box_2.set_yscale('log')\n",
    "\n",
    "plt.show()\n"
   ]
  },
  {
   "cell_type": "code",
   "execution_count": 9,
   "metadata": {},
   "outputs": [
    {
     "ename": "AttributeError",
     "evalue": "'numpy.ndarray' object has no attribute 'get_xticklabels'",
     "output_type": "error",
     "traceback": [
      "\u001b[0;31m---------------------------------------------------------------------------\u001b[0m",
      "\u001b[0;31mAttributeError\u001b[0m                            Traceback (most recent call last)",
      "\u001b[1;32m/siml/shkeum/dev/SoftEMLP/experiments/boxplot.ipynb Cell 4'\u001b[0m in \u001b[0;36m<module>\u001b[0;34m\u001b[0m\n\u001b[1;32m     <a href='vscode-notebook-cell://ssh-remote%2Bshkeum2%28gpu2%29/siml/shkeum/dev/SoftEMLP/experiments/boxplot.ipynb#ch0000003vscode-remote?line=63'>64</a>\u001b[0m box_4\u001b[39m.\u001b[39mset_yscale(\u001b[39m'\u001b[39m\u001b[39mlog\u001b[39m\u001b[39m'\u001b[39m)\n\u001b[1;32m     <a href='vscode-notebook-cell://ssh-remote%2Bshkeum2%28gpu2%29/siml/shkeum/dev/SoftEMLP/experiments/boxplot.ipynb#ch0000003vscode-remote?line=64'>65</a>\u001b[0m \u001b[39m# plt.xticks(fontsize=0.1)\u001b[39;00m\n\u001b[0;32m---> <a href='vscode-notebook-cell://ssh-remote%2Bshkeum2%28gpu2%29/siml/shkeum/dev/SoftEMLP/experiments/boxplot.ipynb#ch0000003vscode-remote?line=65'>66</a>\u001b[0m plt\u001b[39m.\u001b[39msetp(ax\u001b[39m.\u001b[39;49mget_xticklabels(), fontsize\u001b[39m=\u001b[39m\u001b[39m1\u001b[39m)\n\u001b[1;32m     <a href='vscode-notebook-cell://ssh-remote%2Bshkeum2%28gpu2%29/siml/shkeum/dev/SoftEMLP/experiments/boxplot.ipynb#ch0000003vscode-remote?line=66'>67</a>\u001b[0m plt\u001b[39m.\u001b[39mshow()\n",
      "\u001b[0;31mAttributeError\u001b[0m: 'numpy.ndarray' object has no attribute 'get_xticklabels'"
     ]
    },
    {
     "data": {
      "image/png": "[encoded data removed]",
      "text/plain": [
       "<Figure size 432x288 with 4 Axes>"
      ]
     },
     "metadata": {
      "needs_background": "light"
     },
     "output_type": "display_data"
    }
   ],
   "source": [
    "fig, ax = plt.subplots(nrows=2, ncols=2, constrained_layout=True)\n",
    "# R3\n",
    "mse_1 = [1, 2, 3, 4, 5,\n",
    "         1, 2, 3, 4, 5,\n",
    "         1, 2, 3, 4, 5,\n",
    "         1, 2, 3, 4, 5]\n",
    "model_1 = ['emlp','emlp','emlp','emlp','emlp',\n",
    "        'rpp','rpp','rpp','rpp','rpp',\n",
    "        'per','per','per','per','per',\n",
    "        'hper','hper','hper','hper','hper']\n",
    "data_1 = pd.DataFrame({'MSE':mse_1, '':model_1})\n",
    "box_1 = sns.boxplot( x=data_1[''], y=data_1['MSE'], palette=\"Blues\", ax=ax[0][0])\n",
    "box_1.set_title(\"R(3)\")\n",
    "box_1.spines['top'].set_visible(False)\n",
    "box_1.spines['right'].set_visible(False)\n",
    "box_1.set_yscale('log')\n",
    "\n",
    "# T3\n",
    "mse_2 = [1.755e+00, 1.546e+00, 1.752e+00, 1.718e+00, 1.771e+00,\n",
    "         1.732e+00, 1.874e+00, 2.011e+00, 9.784e-01, 9.646e-01,\n",
    "         3.997e-01, 8.513e-01, 6.635e-01, 1.259e+00, 8.662e-01,\n",
    "         5.230e-01, 6.828e-01, 4.870e-01, 4.146e-01, 4.214e-01]\n",
    "model_2 = ['emlp','emlp','emlp','emlp','emlp',\n",
    "        'rpp','rpp','rpp','rpp','rpp',\n",
    "        'per','per','per','per','per',\n",
    "        'hper','hper','hper','hper','hper']\n",
    "data_2 = pd.DataFrame({'MSE':mse_2, '':model_2})\n",
    "box_2 = sns.boxplot( x=data_2[''], y=data_2['MSE'], palette=\"Blues\", ax=ax[0][1])\n",
    "box_2.set_title(\"T(3)\")\n",
    "box_2.spines['top'].set_visible(False)\n",
    "box_2.spines['right'].set_visible(False)\n",
    "box_2.set_yscale('log')\n",
    "\n",
    "# Rxy2\n",
    "mse_3 = [1.757e+01, 1.695e+01, 1.524e+01, 1.612e+01, 1.564e+01,\n",
    "         2.234e-03, 3.272e-02, 1.717e-03, 5.325e-03, 5.661e-03,\n",
    "         9.243e-04, 2.231e-03, 2.386e-03, 2.749e-03, 2.405e-03,\n",
    "         4.973e-03, 2.673e-03, 3.033e-03, 1.952e-03, 4.122e-03]\n",
    "model_3 = ['emlp','emlp','emlp','emlp','emlp',\n",
    "        'rpp','rpp','rpp','rpp','rpp',\n",
    "        'per','per','per','per','per',\n",
    "        'hper','hper','hper','hper','hper']\n",
    "data_3 = pd.DataFrame({'MSE':mse_3, '':model_3})\n",
    "box_3 = sns.boxplot( x=data_3[''], y=data_3['MSE'], palette=\"Blues\", ax=ax[1][0])\n",
    "box_3.set_title(\"R(3) about z\")\n",
    "box_3.spines['top'].set_visible(False)\n",
    "box_3.spines['right'].set_visible(False)\n",
    "box_3.set_yscale('log')\n",
    "\n",
    "# Txy2\n",
    "mse_4 = [8.888e+00, 7.601e+00, 8.363e+00, 8.281e+00, 8.685e+00,\n",
    "         1.269e+00, 1.024e+00, 7.115e-01, 4.634e-01, 1.252e+00,\n",
    "         5.403e-01, 7.069e-01, 1.175e+00, 6.656e-01, 3.885e-01,\n",
    "         2.106e-01, 8.770e-01, 1.162e+00, 3.090e-01, 3.371e-01 ]\n",
    "model_4 = ['emlp','emlp','emlp','emlp','emlp',\n",
    "        'rpp','rpp','rpp','rpp','rpp',\n",
    "        'per','per','per','per','per',\n",
    "        'hper','hper','hper','hper','hper']\n",
    "data_4 = pd.DataFrame({'MSE':mse_4, '':model_4})\n",
    "box_4 = sns.boxplot( x=data_4[''], y=data_4['MSE'], palette=\"Blues\", ax=ax[1][1])\n",
    "box_4.set_title(\"T(3) about z\")\n",
    "box_4.spines['top'].set_visible(False)\n",
    "box_4.spines['right'].set_visible(False)\n",
    "box_4.set_yscale('log')\n",
    "# plt.xticks(fontsize=0.1)\n",
    "# plt.setp(ax.get_xticklabels(), fontsize=1)\n",
    "plt.show()"
   ]
  },
  {
   "cell_type": "code",
   "execution_count": 4,
   "metadata": {},
   "outputs": [
    {
     "data": {
      "image/png": "[encoded data removed]",
      "text/plain": [
       "<Figure size 432x288 with 4 Axes>"
      ]
     },
     "metadata": {
      "needs_background": "light"
     },
     "output_type": "display_data"
    }
   ],
   "source": [
    "fig, ax = plt.subplots(nrows=2, ncols=2, constrained_layout=True)\n",
    "\n",
    "# Oxy(2)\n",
    "mse_1 = [9.703e-01, 8.610e-01, 9.255e-01, 9.060e-01, 8.785e-01,\n",
    "         8.644e-02, 1.790e-01, 7.849e-02, 9.605e-02, 1.365e-01,\n",
    "         3.705e-02, 4.424e-02, 1.081e-01, 2.937e-02, 5.070e-02,\n",
    "         5.860e-02, 4.630e-02, 6.037e-02, 4.400e-02, 3.983e-02]\n",
    "model_1 = ['emlp','emlp','emlp','emlp','emlp',\n",
    "        'rpp','rpp','rpp','rpp','rpp',\n",
    "        'per','per','per','per','per',\n",
    "        'hper','hper','hper','hper','hper']\n",
    "data_1 = pd.DataFrame({'MSE':mse_1, '':model_1})\n",
    "box_1 = sns.boxplot( x=data_1[''], y=data_1['MSE'], palette=\"Blues\", ax=ax[0][0])\n",
    "box_1.set_title(\"O(3) about z\")\n",
    "box_1.spines['top'].set_visible(False)\n",
    "box_1.spines['right'].set_visible(False)\n",
    "box_1.set_yscale('log')\n",
    "\n",
    "# Oyz(2)\n",
    "mse_2 = [9.433e-01, 9.125e-01, 8.785e-01, 9.286e-01, 8.394e-01,\n",
    "         9.400e-02, 1.515e-01, 6.415e-02, 1.243e-01, 6.623e-02 ,\n",
    "         3.349e-02, 5.647e-02, 5.125e-02, 2.976e-02, 3.833e-02,\n",
    "         7.388e-02, 9.562e-02, 4.923e-02, 4.717e-02, 2.925e-02]\n",
    "model_2 = ['emlp','emlp','emlp','emlp','emlp',\n",
    "        'rpp','rpp','rpp','rpp','rpp',\n",
    "        'per','per','per','per','per',\n",
    "        'hper','hper','hper','hper','hper']\n",
    "data_2 = pd.DataFrame({'MSE':mse_2, '':model_2})\n",
    "box_2 = sns.boxplot( x=data_2[''], y=data_2['MSE'], palette=\"Blues\", ax=ax[0][1])\n",
    "box_2.set_title(\"O(3) about x\")\n",
    "box_2.spines['top'].set_visible(False)\n",
    "box_2.spines['right'].set_visible(False)\n",
    "box_2.set_yscale('log')\n",
    "\n",
    "# Oxz(2)\n",
    "mse_3 = [9.653e-01, 9.604e-01, 8.980e-01, 8.768e-01, 8.602e-01,\n",
    "         9.793e-02, 1.956e-01, 6.128e-02, 1.473e-01, 6.776e-02,\n",
    "         3.090e-02, 2.997e-02, 5.249e-02, 3.728e-02, 3.971e-02,\n",
    "         4.222e-02, 5.808e-02, 8.765e-02, 3.017e-02, 3.543e-02]\n",
    "model_3 = ['emlp','emlp','emlp','emlp','emlp',\n",
    "        'rpp','rpp','rpp','rpp','rpp',\n",
    "        'per','per','per','per','per',\n",
    "        'hper','hper','hper','hper','hper']\n",
    "data_3 = pd.DataFrame({'MSE':mse_3, '':model_3})\n",
    "box_3 = sns.boxplot( x=data_3[''], y=data_3['MSE'], palette=\"Blues\", ax=ax[1][0])\n",
    "box_3.set_title(\"O(3) about y\")\n",
    "box_3.spines['top'].set_visible(False)\n",
    "box_3.spines['right'].set_visible(False)\n",
    "box_3.set_yscale('log')\n",
    "\n",
    "ax[-1,-1].axis('off')\n",
    "plt.show()"
   ]
  }
 ],
 "metadata": {
  "interpreter": {
   "hash": "31f2aee4e71d21fbe5cf8b01ff0e069b9275f58929596ceb00d14d90e3e16cd6"
  },
  "kernelspec": {
   "display_name": "Python 3.8.9 64-bit",
   "language": "python",
   "name": "python3"
  },
  "language_info": {
   "codemirror_mode": {
    "name": "ipython",
    "version": 3
   },
   "file_extension": ".py",
   "mimetype": "text/x-python",
   "name": "python",
   "nbconvert_exporter": "python",
   "pygments_lexer": "ipython3",
   "version": "3.9.10"
  },
  "orig_nbformat": 4
 },
 "nbformat": 4,
 "nbformat_minor": 2
}
