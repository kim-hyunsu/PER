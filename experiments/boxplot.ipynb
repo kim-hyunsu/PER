{
 "cells": [
  {
   "cell_type": "code",
   "execution_count": 17,
   "metadata": {},
   "outputs": [
    {
     "name": "stdout",
     "output_type": "stream",
     "text": [
      "Defaulting to user installation because normal site-packages is not writeable\n",
      "Collecting seaborn\n",
      "  Downloading seaborn-0.11.2-py3-none-any.whl (292 kB)\n",
      "\u001b[2K     \u001b[90m━━━━━━━━━━━━━━━━━━━━━━━━━━━━━━━━━━━━━━\u001b[0m \u001b[32m292.8/292.8 KB\u001b[0m \u001b[31m20.4 MB/s\u001b[0m eta \u001b[36m0:00:00\u001b[0m\n",
      "\u001b[?25hCollecting scipy>=1.0\n",
      "  Using cached scipy-1.8.0-cp39-cp39-manylinux_2_17_x86_64.manylinux2014_x86_64.whl (42.1 MB)\n",
      "Collecting pandas>=0.23\n",
      "  Downloading pandas-1.4.2-cp39-cp39-manylinux_2_17_x86_64.manylinux2014_x86_64.whl (11.7 MB)\n",
      "\u001b[2K     \u001b[90m━━━━━━━━━━━━━━━━━━━━━━━━━━━━━━━━━━━━━━━━\u001b[0m \u001b[32m11.7/11.7 MB\u001b[0m \u001b[31m3.6 MB/s\u001b[0m eta \u001b[36m0:00:00\u001b[0m00:01\u001b[0m00:01\u001b[0m\n",
      "\u001b[?25hRequirement already satisfied: numpy>=1.15 in /siml/shkeum/.local/lib/python3.9/site-packages (from seaborn) (1.22.2)\n",
      "Requirement already satisfied: matplotlib>=2.2 in /siml/shkeum/.local/lib/python3.9/site-packages (from seaborn) (3.5.2)\n",
      "Requirement already satisfied: pyparsing>=2.2.1 in /usr/local/lib/python3.9/dist-packages (from matplotlib>=2.2->seaborn) (3.0.7)\n",
      "Requirement already satisfied: packaging>=20.0 in /usr/local/lib/python3.9/dist-packages (from matplotlib>=2.2->seaborn) (21.3)\n",
      "Requirement already satisfied: python-dateutil>=2.7 in /usr/local/lib/python3.9/dist-packages (from matplotlib>=2.2->seaborn) (2.8.2)\n",
      "Requirement already satisfied: kiwisolver>=1.0.1 in /siml/shkeum/.local/lib/python3.9/site-packages (from matplotlib>=2.2->seaborn) (1.4.2)\n",
      "Requirement already satisfied: pillow>=6.2.0 in /siml/shkeum/.local/lib/python3.9/site-packages (from matplotlib>=2.2->seaborn) (9.0.1)\n",
      "Requirement already satisfied: fonttools>=4.22.0 in /siml/shkeum/.local/lib/python3.9/site-packages (from matplotlib>=2.2->seaborn) (4.33.3)\n",
      "Requirement already satisfied: cycler>=0.10 in /siml/shkeum/.local/lib/python3.9/site-packages (from matplotlib>=2.2->seaborn) (0.11.0)\n",
      "Requirement already satisfied: pytz>=2020.1 in /usr/local/lib/python3.9/dist-packages (from pandas>=0.23->seaborn) (2021.3)\n",
      "Requirement already satisfied: six>=1.5 in /usr/lib/python3/dist-packages (from python-dateutil>=2.7->matplotlib>=2.2->seaborn) (1.14.0)\n",
      "Installing collected packages: scipy, pandas, seaborn\n",
      "Successfully installed pandas-1.4.2 scipy-1.8.0 seaborn-0.11.2\n",
      "\u001b[33mWARNING: You are using pip version 22.0.3; however, version 22.0.4 is available.\n",
      "You should consider upgrading via the '/usr/bin/python3 -m pip install --upgrade pip' command.\u001b[0m\u001b[33m\n",
      "\u001b[0mNote: you may need to restart the kernel to use updated packages.\n"
     ]
    }
   ],
   "source": [
    "pip install seaborn\n",
    "# pip install matplotlib"
   ]
  },
  {
   "cell_type": "code",
   "execution_count": 51,
   "metadata": {},
   "outputs": [
    {
     "name": "stdout",
     "output_type": "stream",
     "text": [
      "0    1.0\n",
      "1    2.0\n",
      "2    3.0\n",
      "3    4.0\n",
      "4    5.0\n",
      "Name: EMLP, dtype: float64\n"
     ]
    }
   ],
   "source": [
    "import matplotlib.pyplot as plt\n",
    "import seaborn as sns\n",
    "import numpy as np\n",
    "import pandas as pd\n",
    "\n",
    "# df = sns.load_dataset('iris')\n",
    "# print(df)\n",
    "# print(df.keys())\n",
    "# print(type(df['sepal_length']))\n",
    "# np.random.seed(0)\n",
    "emlp = [1.0,2.0,3.0,4.0,5.0]\n",
    "rpp = [2.0,3.0,4.0,5.0,6.0]\n",
    "per = [3.0,4.0,5.0,6.0,7.0]\n",
    "hybridper = [4.0,5.0,6.0,7.0,8.0]\n",
    "data = pd.DataFrame({'EMLP':emlp,'RPP':rpp,'PER':per,'HybridPER':hybridper})\n",
    "print(data['EMLP'])\n",
    "# print(data['EMLP'].astype('float'))"
   ]
  },
  {
   "cell_type": "code",
   "execution_count": 52,
   "metadata": {},
   "outputs": [
    {
     "ename": "TypeError",
     "evalue": "Neither the `x` nor `y` variable appears to be numeric.",
     "output_type": "error",
     "traceback": [
      "\u001b[0;31m---------------------------------------------------------------------------\u001b[0m",
      "\u001b[0;31mTypeError\u001b[0m                                 Traceback (most recent call last)",
      "\u001b[1;32m/siml/shkeum/dev/SoftEMLP/experiments/boxplot.ipynb Cell 3'\u001b[0m in \u001b[0;36m<module>\u001b[0;34m\u001b[0m\n\u001b[1;32m      <a href='vscode-notebook-cell://ssh-remote%2Bshkeum1%28gpu2%29/siml/shkeum/dev/SoftEMLP/experiments/boxplot.ipynb#ch0000002vscode-remote?line=1'>2</a>\u001b[0m \u001b[39m# 계절별 대여수 분포\u001b[39;00m\n\u001b[1;32m      <a href='vscode-notebook-cell://ssh-remote%2Bshkeum1%28gpu2%29/siml/shkeum/dev/SoftEMLP/experiments/boxplot.ipynb#ch0000002vscode-remote?line=2'>3</a>\u001b[0m keys \u001b[39m=\u001b[39m \u001b[39mlist\u001b[39m(data\u001b[39m.\u001b[39mkeys())\n\u001b[0;32m----> <a href='vscode-notebook-cell://ssh-remote%2Bshkeum1%28gpu2%29/siml/shkeum/dev/SoftEMLP/experiments/boxplot.ipynb#ch0000002vscode-remote?line=3'>4</a>\u001b[0m sns\u001b[39m.\u001b[39;49mboxplot(x \u001b[39m=\u001b[39;49m keys, y \u001b[39m=\u001b[39;49m [data[\u001b[39m'\u001b[39;49m\u001b[39mEMLP\u001b[39;49m\u001b[39m'\u001b[39;49m]\u001b[39m.\u001b[39;49mastype(\u001b[39m'\u001b[39;49m\u001b[39mfloat\u001b[39;49m\u001b[39m'\u001b[39;49m),data[\u001b[39m'\u001b[39;49m\u001b[39mRPP\u001b[39;49m\u001b[39m'\u001b[39;49m]\u001b[39m.\u001b[39;49mastype(\u001b[39m'\u001b[39;49m\u001b[39mfloat\u001b[39;49m\u001b[39m'\u001b[39;49m),\n\u001b[1;32m      <a href='vscode-notebook-cell://ssh-remote%2Bshkeum1%28gpu2%29/siml/shkeum/dev/SoftEMLP/experiments/boxplot.ipynb#ch0000002vscode-remote?line=4'>5</a>\u001b[0m data[\u001b[39m'\u001b[39;49m\u001b[39mPER\u001b[39;49m\u001b[39m'\u001b[39;49m]\u001b[39m.\u001b[39;49mastype(\u001b[39m'\u001b[39;49m\u001b[39mfloat\u001b[39;49m\u001b[39m'\u001b[39;49m),data[\u001b[39m'\u001b[39;49m\u001b[39mHybridPER\u001b[39;49m\u001b[39m'\u001b[39;49m]\u001b[39m.\u001b[39;49mastype(\u001b[39m'\u001b[39;49m\u001b[39mfloat\u001b[39;49m\u001b[39m'\u001b[39;49m)], \n\u001b[1;32m      <a href='vscode-notebook-cell://ssh-remote%2Bshkeum1%28gpu2%29/siml/shkeum/dev/SoftEMLP/experiments/boxplot.ipynb#ch0000002vscode-remote?line=5'>6</a>\u001b[0m palette \u001b[39m=\u001b[39;49m \u001b[39m'\u001b[39;49m\u001b[39mSpectral\u001b[39;49m\u001b[39m'\u001b[39;49m, linewidth \u001b[39m=\u001b[39;49m \u001b[39m3\u001b[39;49m, width \u001b[39m=\u001b[39;49m \u001b[39m0.5\u001b[39;49m)\n\u001b[1;32m      <a href='vscode-notebook-cell://ssh-remote%2Bshkeum1%28gpu2%29/siml/shkeum/dev/SoftEMLP/experiments/boxplot.ipynb#ch0000002vscode-remote?line=7'>8</a>\u001b[0m \u001b[39m# x축 이름 설정\u001b[39;00m\n\u001b[1;32m      <a href='vscode-notebook-cell://ssh-remote%2Bshkeum1%28gpu2%29/siml/shkeum/dev/SoftEMLP/experiments/boxplot.ipynb#ch0000002vscode-remote?line=8'>9</a>\u001b[0m \u001b[39m# plt.xticks(range(4), ['spring', 'summer', 'autumn', 'winter'])\u001b[39;00m\n\u001b[1;32m     <a href='vscode-notebook-cell://ssh-remote%2Bshkeum1%28gpu2%29/siml/shkeum/dev/SoftEMLP/experiments/boxplot.ipynb#ch0000002vscode-remote?line=9'>10</a>\u001b[0m plt\u001b[39m.\u001b[39mshow()\n",
      "File \u001b[0;32m~/.local/lib/python3.9/site-packages/seaborn/_decorators.py:46\u001b[0m, in \u001b[0;36m_deprecate_positional_args.<locals>.inner_f\u001b[0;34m(*args, **kwargs)\u001b[0m\n\u001b[1;32m     <a href='file:///siml/shkeum/.local/lib/python3.9/site-packages/seaborn/_decorators.py?line=35'>36</a>\u001b[0m     warnings\u001b[39m.\u001b[39mwarn(\n\u001b[1;32m     <a href='file:///siml/shkeum/.local/lib/python3.9/site-packages/seaborn/_decorators.py?line=36'>37</a>\u001b[0m         \u001b[39m\"\u001b[39m\u001b[39mPass the following variable\u001b[39m\u001b[39m{}\u001b[39;00m\u001b[39m as \u001b[39m\u001b[39m{}\u001b[39;00m\u001b[39mkeyword arg\u001b[39m\u001b[39m{}\u001b[39;00m\u001b[39m: \u001b[39m\u001b[39m{}\u001b[39;00m\u001b[39m. \u001b[39m\u001b[39m\"\u001b[39m\n\u001b[1;32m     <a href='file:///siml/shkeum/.local/lib/python3.9/site-packages/seaborn/_decorators.py?line=37'>38</a>\u001b[0m         \u001b[39m\"\u001b[39m\u001b[39mFrom version 0.12, the only valid positional argument \u001b[39m\u001b[39m\"\u001b[39m\n\u001b[0;32m   (...)\u001b[0m\n\u001b[1;32m     <a href='file:///siml/shkeum/.local/lib/python3.9/site-packages/seaborn/_decorators.py?line=42'>43</a>\u001b[0m         \u001b[39mFutureWarning\u001b[39;00m\n\u001b[1;32m     <a href='file:///siml/shkeum/.local/lib/python3.9/site-packages/seaborn/_decorators.py?line=43'>44</a>\u001b[0m     )\n\u001b[1;32m     <a href='file:///siml/shkeum/.local/lib/python3.9/site-packages/seaborn/_decorators.py?line=44'>45</a>\u001b[0m kwargs\u001b[39m.\u001b[39mupdate({k: arg \u001b[39mfor\u001b[39;00m k, arg \u001b[39min\u001b[39;00m \u001b[39mzip\u001b[39m(sig\u001b[39m.\u001b[39mparameters, args)})\n\u001b[0;32m---> <a href='file:///siml/shkeum/.local/lib/python3.9/site-packages/seaborn/_decorators.py?line=45'>46</a>\u001b[0m \u001b[39mreturn\u001b[39;00m f(\u001b[39m*\u001b[39;49m\u001b[39m*\u001b[39;49mkwargs)\n",
      "File \u001b[0;32m~/.local/lib/python3.9/site-packages/seaborn/categorical.py:2243\u001b[0m, in \u001b[0;36mboxplot\u001b[0;34m(x, y, hue, data, order, hue_order, orient, color, palette, saturation, width, dodge, fliersize, linewidth, whis, ax, **kwargs)\u001b[0m\n\u001b[1;32m   <a href='file:///siml/shkeum/.local/lib/python3.9/site-packages/seaborn/categorical.py?line=2230'>2231</a>\u001b[0m \u001b[39m@_deprecate_positional_args\u001b[39m\n\u001b[1;32m   <a href='file:///siml/shkeum/.local/lib/python3.9/site-packages/seaborn/categorical.py?line=2231'>2232</a>\u001b[0m \u001b[39mdef\u001b[39;00m \u001b[39mboxplot\u001b[39m(\n\u001b[1;32m   <a href='file:///siml/shkeum/.local/lib/python3.9/site-packages/seaborn/categorical.py?line=2232'>2233</a>\u001b[0m     \u001b[39m*\u001b[39m,\n\u001b[0;32m   (...)\u001b[0m\n\u001b[1;32m   <a href='file:///siml/shkeum/.local/lib/python3.9/site-packages/seaborn/categorical.py?line=2239'>2240</a>\u001b[0m     \u001b[39m*\u001b[39m\u001b[39m*\u001b[39mkwargs\n\u001b[1;32m   <a href='file:///siml/shkeum/.local/lib/python3.9/site-packages/seaborn/categorical.py?line=2240'>2241</a>\u001b[0m ):\n\u001b[0;32m-> <a href='file:///siml/shkeum/.local/lib/python3.9/site-packages/seaborn/categorical.py?line=2242'>2243</a>\u001b[0m     plotter \u001b[39m=\u001b[39m _BoxPlotter(x, y, hue, data, order, hue_order,\n\u001b[1;32m   <a href='file:///siml/shkeum/.local/lib/python3.9/site-packages/seaborn/categorical.py?line=2243'>2244</a>\u001b[0m                           orient, color, palette, saturation,\n\u001b[1;32m   <a href='file:///siml/shkeum/.local/lib/python3.9/site-packages/seaborn/categorical.py?line=2244'>2245</a>\u001b[0m                           width, dodge, fliersize, linewidth)\n\u001b[1;32m   <a href='file:///siml/shkeum/.local/lib/python3.9/site-packages/seaborn/categorical.py?line=2246'>2247</a>\u001b[0m     \u001b[39mif\u001b[39;00m ax \u001b[39mis\u001b[39;00m \u001b[39mNone\u001b[39;00m:\n\u001b[1;32m   <a href='file:///siml/shkeum/.local/lib/python3.9/site-packages/seaborn/categorical.py?line=2247'>2248</a>\u001b[0m         ax \u001b[39m=\u001b[39m plt\u001b[39m.\u001b[39mgca()\n",
      "File \u001b[0;32m~/.local/lib/python3.9/site-packages/seaborn/categorical.py:406\u001b[0m, in \u001b[0;36m_BoxPlotter.__init__\u001b[0;34m(self, x, y, hue, data, order, hue_order, orient, color, palette, saturation, width, dodge, fliersize, linewidth)\u001b[0m\n\u001b[1;32m    <a href='file:///siml/shkeum/.local/lib/python3.9/site-packages/seaborn/categorical.py?line=401'>402</a>\u001b[0m \u001b[39mdef\u001b[39;00m \u001b[39m__init__\u001b[39m(\u001b[39mself\u001b[39m, x, y, hue, data, order, hue_order,\n\u001b[1;32m    <a href='file:///siml/shkeum/.local/lib/python3.9/site-packages/seaborn/categorical.py?line=402'>403</a>\u001b[0m              orient, color, palette, saturation,\n\u001b[1;32m    <a href='file:///siml/shkeum/.local/lib/python3.9/site-packages/seaborn/categorical.py?line=403'>404</a>\u001b[0m              width, dodge, fliersize, linewidth):\n\u001b[0;32m--> <a href='file:///siml/shkeum/.local/lib/python3.9/site-packages/seaborn/categorical.py?line=405'>406</a>\u001b[0m     \u001b[39mself\u001b[39;49m\u001b[39m.\u001b[39;49mestablish_variables(x, y, hue, data, orient, order, hue_order)\n\u001b[1;32m    <a href='file:///siml/shkeum/.local/lib/python3.9/site-packages/seaborn/categorical.py?line=406'>407</a>\u001b[0m     \u001b[39mself\u001b[39m\u001b[39m.\u001b[39mestablish_colors(color, palette, saturation)\n\u001b[1;32m    <a href='file:///siml/shkeum/.local/lib/python3.9/site-packages/seaborn/categorical.py?line=408'>409</a>\u001b[0m     \u001b[39mself\u001b[39m\u001b[39m.\u001b[39mdodge \u001b[39m=\u001b[39m dodge\n",
      "File \u001b[0;32m~/.local/lib/python3.9/site-packages/seaborn/categorical.py:156\u001b[0m, in \u001b[0;36m_CategoricalPlotter.establish_variables\u001b[0;34m(self, x, y, hue, data, orient, order, hue_order, units)\u001b[0m\n\u001b[1;32m    <a href='file:///siml/shkeum/.local/lib/python3.9/site-packages/seaborn/categorical.py?line=152'>153</a>\u001b[0m         \u001b[39mraise\u001b[39;00m \u001b[39mValueError\u001b[39;00m(err)\n\u001b[1;32m    <a href='file:///siml/shkeum/.local/lib/python3.9/site-packages/seaborn/categorical.py?line=154'>155</a>\u001b[0m \u001b[39m# Figure out the plotting orientation\u001b[39;00m\n\u001b[0;32m--> <a href='file:///siml/shkeum/.local/lib/python3.9/site-packages/seaborn/categorical.py?line=155'>156</a>\u001b[0m orient \u001b[39m=\u001b[39m infer_orient(\n\u001b[1;32m    <a href='file:///siml/shkeum/.local/lib/python3.9/site-packages/seaborn/categorical.py?line=156'>157</a>\u001b[0m     x, y, orient, require_numeric\u001b[39m=\u001b[39;49m\u001b[39mself\u001b[39;49m\u001b[39m.\u001b[39;49mrequire_numeric\n\u001b[1;32m    <a href='file:///siml/shkeum/.local/lib/python3.9/site-packages/seaborn/categorical.py?line=157'>158</a>\u001b[0m )\n\u001b[1;32m    <a href='file:///siml/shkeum/.local/lib/python3.9/site-packages/seaborn/categorical.py?line=159'>160</a>\u001b[0m \u001b[39m# Option 2a:\u001b[39;00m\n\u001b[1;32m    <a href='file:///siml/shkeum/.local/lib/python3.9/site-packages/seaborn/categorical.py?line=160'>161</a>\u001b[0m \u001b[39m# We are plotting a single set of data\u001b[39;00m\n\u001b[1;32m    <a href='file:///siml/shkeum/.local/lib/python3.9/site-packages/seaborn/categorical.py?line=161'>162</a>\u001b[0m \u001b[39m# ------------------------------------\u001b[39;00m\n\u001b[1;32m    <a href='file:///siml/shkeum/.local/lib/python3.9/site-packages/seaborn/categorical.py?line=162'>163</a>\u001b[0m \u001b[39mif\u001b[39;00m x \u001b[39mis\u001b[39;00m \u001b[39mNone\u001b[39;00m \u001b[39mor\u001b[39;00m y \u001b[39mis\u001b[39;00m \u001b[39mNone\u001b[39;00m:\n\u001b[1;32m    <a href='file:///siml/shkeum/.local/lib/python3.9/site-packages/seaborn/categorical.py?line=163'>164</a>\u001b[0m \n\u001b[1;32m    <a href='file:///siml/shkeum/.local/lib/python3.9/site-packages/seaborn/categorical.py?line=164'>165</a>\u001b[0m     \u001b[39m# Determine where the data are\u001b[39;00m\n",
      "File \u001b[0;32m~/.local/lib/python3.9/site-packages/seaborn/_core.py:1352\u001b[0m, in \u001b[0;36minfer_orient\u001b[0;34m(x, y, orient, require_numeric)\u001b[0m\n\u001b[1;32m   <a href='file:///siml/shkeum/.local/lib/python3.9/site-packages/seaborn/_core.py?line=1349'>1350</a>\u001b[0m \u001b[39melif\u001b[39;00m require_numeric \u001b[39mand\u001b[39;00m \u001b[39m\"\u001b[39m\u001b[39mnumeric\u001b[39m\u001b[39m\"\u001b[39m \u001b[39mnot\u001b[39;00m \u001b[39min\u001b[39;00m (x_type, y_type):\n\u001b[1;32m   <a href='file:///siml/shkeum/.local/lib/python3.9/site-packages/seaborn/_core.py?line=1350'>1351</a>\u001b[0m     err \u001b[39m=\u001b[39m \u001b[39m\"\u001b[39m\u001b[39mNeither the `x` nor `y` variable appears to be numeric.\u001b[39m\u001b[39m\"\u001b[39m\n\u001b[0;32m-> <a href='file:///siml/shkeum/.local/lib/python3.9/site-packages/seaborn/_core.py?line=1351'>1352</a>\u001b[0m     \u001b[39mraise\u001b[39;00m \u001b[39mTypeError\u001b[39;00m(err)\n\u001b[1;32m   <a href='file:///siml/shkeum/.local/lib/python3.9/site-packages/seaborn/_core.py?line=1353'>1354</a>\u001b[0m \u001b[39melse\u001b[39;00m:\n\u001b[1;32m   <a href='file:///siml/shkeum/.local/lib/python3.9/site-packages/seaborn/_core.py?line=1354'>1355</a>\u001b[0m     \u001b[39mreturn\u001b[39;00m \u001b[39m\"\u001b[39m\u001b[39mv\u001b[39m\u001b[39m\"\u001b[39m\n",
      "\u001b[0;31mTypeError\u001b[0m: Neither the `x` nor `y` variable appears to be numeric."
     ]
    },
    {
     "data": {
      "text/plain": [
       "<Figure size 1000x700 with 0 Axes>"
      ]
     },
     "metadata": {},
     "output_type": "display_data"
    }
   ],
   "source": [
    "plt.figure(figsize = (10, 7))\n",
    "# 계절별 대여수 분포\n",
    "keys = list(data.keys())\n",
    "sns.boxplot(x = keys, y = [data['EMLP'].astype('float'),data['RPP'].astype('float'),\n",
    "data['PER'].astype('float'),data['HybridPER'].astype('float')], \n",
    "palette = 'Spectral', linewidth = 3, width = 0.5)\n",
    "\n",
    "# x축 이름 설정\n",
    "# plt.xticks(range(4), ['spring', 'summer', 'autumn', 'winter'])\n",
    "plt.show()"
   ]
  },
  {
   "cell_type": "code",
   "execution_count": 14,
   "metadata": {},
   "outputs": [
    {
     "data": {
      "image/png": "[encoded data removed]",
      "text/plain": [
       "<Figure size 400x300 with 1 Axes>"
      ]
     },
     "metadata": {},
     "output_type": "display_data"
    }
   ],
   "source": [
    "#  1. 기본 스타일 설정\n",
    "plt.style.use('default')\n",
    "plt.rcParams['figure.figsize'] = (4, 3)\n",
    "plt.rcParams['font.size'] = 10\n",
    "\n",
    "# 2. 데이터 준비\n",
    "np.random.seed(0)\n",
    "emlp = np.random.normal(0, 2.0, 1000)\n",
    "rpp = np.random.normal(-3.0, 1.5, 500)\n",
    "per = np.random.normal(1.2, 1.5, 1500)\n",
    "hybridper = np.random.normal(1.2, 1.5, 1500)\n",
    "\n",
    "# 3. 그래프 그리기\n",
    "fig, ax = plt.subplots()\n",
    "\n",
    "ax.boxplot([emlp, rpp, per, hybridper])\n",
    "ax.set_ylim(-10.0, 10.0)\n",
    "ax.set_xticklabels(['emlp', 'rpp', 'per', 'hybridper'], fontsize=8)\n",
    "ax.set_xlabel('Inertia')\n",
    "ax.set_ylabel('MSE')\n",
    "\n",
    "plt.show()"
   ]
  }
 ],
 "metadata": {
  "interpreter": {
   "hash": "31f2aee4e71d21fbe5cf8b01ff0e069b9275f58929596ceb00d14d90e3e16cd6"
  },
  "kernelspec": {
   "display_name": "Python 3.8.9 64-bit",
   "language": "python",
   "name": "python3"
  },
  "language_info": {
   "codemirror_mode": {
    "name": "ipython",
    "version": 3
   },
   "file_extension": ".py",
   "mimetype": "text/x-python",
   "name": "python",
   "nbconvert_exporter": "python",
   "pygments_lexer": "ipython3",
   "version": "3.9.10"
  },
  "orig_nbformat": 4
 },
 "nbformat": 4,
 "nbformat_minor": 2
}
