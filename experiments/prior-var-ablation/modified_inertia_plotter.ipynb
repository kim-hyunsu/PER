{
 "cells": [
  {
   "cell_type": "code",
   "execution_count": 4,
   "id": "5fe972c5-047b-4f0e-b718-5927f096c491",
   "metadata": {},
   "outputs": [],
   "source": [
    "import pandas as pd\n",
    "import numpy as np\n",
    "import matplotlib.pyplot as plt\n",
    "import seaborn as sns\n",
    "import matplotlib as mpl\n",
    "import sys\n",
    "import os\n",
    "import cmocean\n",
    "import cmocean.cm as cmo\n",
    "\n",
    "from matplotlib.lines import Line2D\n",
    "from matplotlib import pyplot"
   ]
  },
  {
   "cell_type": "code",
   "execution_count": 5,
   "id": "a3cf002b-a407-4f22-9342-3a3d300f06cf",
   "metadata": {},
   "outputs": [
    {
     "data": {
      "text/plain": [
       "<function genericpath.exists(path)>"
      ]
     },
     "execution_count": 5,
     "metadata": {},
     "output_type": "execute_result"
    }
   ],
   "source": [
    "os.path.exists"
   ]
  },
  {
   "cell_type": "code",
   "execution_count": 6,
   "id": "1ad0f97a-32a6-42d6-8f8c-74e84015e631",
   "metadata": {},
   "outputs": [],
   "source": [
    "basic_wds = [5e-2,5e-1,1e-1,1.0,10.,100.]\n",
    "equiv_wds = [1e-2,1e-3,1e-4,1e-5]\n",
    "results = []\n",
    "results = pd.DataFrame(columns=range(5))\n",
    "for basic_idx, basic_wd in enumerate(basic_wds):\n",
    "    for equiv_idx, equiv_wd in enumerate(equiv_wds):\n",
    "        fname = \"inertia_log_MixedEMLP_basic\" + str(basic_wd) + \"_equiv\" + str(equiv_wd) + \".pkl\"\n",
    "        if os.path.exists(\"./saved-outputs/\" + fname):\n",
    "            df = pd.read_pickle(\"./saved-outputs/\" + fname)\n",
    "            if basic_wd == 0.:\n",
    "                df['basic_wd'] = 1e-7\n",
    "            else:\n",
    "                df['basic_wd'] = basic_wd\n",
    "            if equiv_wd == 0.:\n",
    "                df['equiv_wd'] = 1e-7\n",
    "            else:\n",
    "                df['equiv_wd'] = equiv_wd\n",
    "            \n",
    "            results = pd.concat((results, df))\n",
    "\n",
    "results.columns = ['trial', 'tr_loss', 'te_loss', 'basic_wd', 'equiv_wd']"
   ]
  },
  {
   "cell_type": "code",
   "execution_count": 7,
   "id": "ee50edbd-0f4f-4b6c-990f-8e8da6b8f650",
   "metadata": {},
   "outputs": [],
   "source": [
    "results['log_basic'] = np.log10(results['basic_wd'])\n",
    "results['log_equiv'] = np.log10(results['equiv_wd'])\n",
    "# results = results.replace(to_replace=-7, value=r'-inf')\n",
    "\n",
    "results[\"equiv_hue\"] = [\"$%s$\" % x for x in results[\"log_equiv\"]]\n",
    "results[\"basic_hue\"] = [\"$%s$\" % x for x in results[\"log_basic\"]]"
   ]
  },
  {
   "cell_type": "code",
   "execution_count": 8,
   "id": "d969b7c0-01b0-43c8-9797-1c58df0eec7f",
   "metadata": {},
   "outputs": [],
   "source": [
    "results[results['te_loss'] > 10.] = None"
   ]
  },
  {
   "cell_type": "code",
   "execution_count": 9,
   "id": "861e90d1-2fe8-4c8f-a61c-9a3e5b3920e7",
   "metadata": {},
   "outputs": [],
   "source": [
    "# results = results[(results['log_basic'] >= 0.) & (results['log_equiv'] <= -2.)]"
   ]
  },
  {
   "cell_type": "code",
   "execution_count": 15,
   "id": "6ff6362f-eda5-4e54-b190-c114cea8543e",
   "metadata": {},
   "outputs": [
    {
     "ename": "ValueError",
     "evalue": "The palette list has the wrong number of colors.",
     "output_type": "error",
     "traceback": [
      "\u001b[0;31m---------------------------------------------------------------------------\u001b[0m",
      "\u001b[0;31mValueError\u001b[0m                                Traceback (most recent call last)",
      "\u001b[1;32m/workspace/siml/hyunsu/residual-pathway-priors/experiments/prior-var-ablation/modified_inertia_plotter.ipynb Cell 7'\u001b[0m in \u001b[0;36m<cell line: 21>\u001b[0;34m()\u001b[0m\n\u001b[1;32m     <a href='vscode-notebook-cell://ssh-remote%2Bkaist-siml02/workspace/siml/hyunsu/residual-pathway-priors/experiments/prior-var-ablation/modified_inertia_plotter.ipynb#ch0000006vscode-remote?line=16'>17</a>\u001b[0m \u001b[39m# sns.lineplot(x='log_equiv', y='te_loss', hue='basic_hue', data=results[results['log_basic'] < -1.],\u001b[39;00m\n\u001b[1;32m     <a href='vscode-notebook-cell://ssh-remote%2Bkaist-siml02/workspace/siml/hyunsu/residual-pathway-priors/experiments/prior-var-ablation/modified_inertia_plotter.ipynb#ch0000006vscode-remote?line=17'>18</a>\u001b[0m \u001b[39m#             palette='RdYlBu')\u001b[39;00m\n\u001b[1;32m     <a href='vscode-notebook-cell://ssh-remote%2Bkaist-siml02/workspace/siml/hyunsu/residual-pathway-priors/experiments/prior-var-ablation/modified_inertia_plotter.ipynb#ch0000006vscode-remote?line=19'>20</a>\u001b[0m fig, ax \u001b[39m=\u001b[39m plt\u001b[39m.\u001b[39msubplots(dpi\u001b[39m=\u001b[39m\u001b[39m150\u001b[39m, figsize\u001b[39m=\u001b[39m(\u001b[39m6\u001b[39m, \u001b[39m3\u001b[39m))\n\u001b[0;32m---> <a href='vscode-notebook-cell://ssh-remote%2Bkaist-siml02/workspace/siml/hyunsu/residual-pathway-priors/experiments/prior-var-ablation/modified_inertia_plotter.ipynb#ch0000006vscode-remote?line=20'>21</a>\u001b[0m g \u001b[39m=\u001b[39m sns\u001b[39m.\u001b[39;49mlineplot(x\u001b[39m=\u001b[39;49m\u001b[39m'\u001b[39;49m\u001b[39mequiv_wd\u001b[39;49m\u001b[39m'\u001b[39;49m, y\u001b[39m=\u001b[39;49m\u001b[39m'\u001b[39;49m\u001b[39mte_loss\u001b[39;49m\u001b[39m'\u001b[39;49m, data\u001b[39m=\u001b[39;49mresults,\n\u001b[1;32m     <a href='vscode-notebook-cell://ssh-remote%2Bkaist-siml02/workspace/siml/hyunsu/residual-pathway-priors/experiments/prior-var-ablation/modified_inertia_plotter.ipynb#ch0000006vscode-remote?line=21'>22</a>\u001b[0m         hue\u001b[39m=\u001b[39;49m\u001b[39m'\u001b[39;49m\u001b[39mbasic_hue\u001b[39;49m\u001b[39m'\u001b[39;49m, markers\u001b[39m=\u001b[39;49m[\u001b[39m'\u001b[39;49m\u001b[39mo\u001b[39;49m\u001b[39m'\u001b[39;49m \u001b[39mfor\u001b[39;49;00m _ \u001b[39min\u001b[39;49;00m \u001b[39mrange\u001b[39;49m(ncolor)],\n\u001b[1;32m     <a href='vscode-notebook-cell://ssh-remote%2Bkaist-siml02/workspace/siml/hyunsu/residual-pathway-priors/experiments/prior-var-ablation/modified_inertia_plotter.ipynb#ch0000006vscode-remote?line=22'>23</a>\u001b[0m              style\u001b[39m=\u001b[39;49m\u001b[39m'\u001b[39;49m\u001b[39mbasic_hue\u001b[39;49m\u001b[39m'\u001b[39;49m, dashes\u001b[39m=\u001b[39;49m\u001b[39mFalse\u001b[39;49;00m, markersize\u001b[39m=\u001b[39;49m\u001b[39m10\u001b[39;49m,\n\u001b[1;32m     <a href='vscode-notebook-cell://ssh-remote%2Bkaist-siml02/workspace/siml/hyunsu/residual-pathway-priors/experiments/prior-var-ablation/modified_inertia_plotter.ipynb#ch0000006vscode-remote?line=23'>24</a>\u001b[0m                 ax\u001b[39m=\u001b[39;49max, palette\u001b[39m=\u001b[39;49mcpal, legend\u001b[39m=\u001b[39;49m\u001b[39mFalse\u001b[39;49;00m)\n\u001b[1;32m     <a href='vscode-notebook-cell://ssh-remote%2Bkaist-siml02/workspace/siml/hyunsu/residual-pathway-priors/experiments/prior-var-ablation/modified_inertia_plotter.ipynb#ch0000006vscode-remote?line=24'>25</a>\u001b[0m \u001b[39mprint\u001b[39m(g)\n\u001b[1;32m     <a href='vscode-notebook-cell://ssh-remote%2Bkaist-siml02/workspace/siml/hyunsu/residual-pathway-priors/experiments/prior-var-ablation/modified_inertia_plotter.ipynb#ch0000006vscode-remote?line=25'>26</a>\u001b[0m ax\u001b[39m.\u001b[39mlegend(loc\u001b[39m=\u001b[39m\u001b[39m'\u001b[39m\u001b[39mlower left\u001b[39m\u001b[39m'\u001b[39m, title\u001b[39m=\u001b[39m\u001b[39m'\u001b[39m\u001b[39mLog Basic Precision\u001b[39m\u001b[39m'\u001b[39m, bbox_to_anchor\u001b[39m=\u001b[39m(\u001b[39m1.\u001b[39m, \u001b[39m0.3\u001b[39m),\n\u001b[1;32m     <a href='vscode-notebook-cell://ssh-remote%2Bkaist-siml02/workspace/siml/hyunsu/residual-pathway-priors/experiments/prior-var-ablation/modified_inertia_plotter.ipynb#ch0000006vscode-remote?line=26'>27</a>\u001b[0m          labels\u001b[39m=\u001b[39m[\u001b[39mr\u001b[39m\u001b[39m\"\u001b[39m\u001b[39m$10^\u001b[39m\u001b[39m{\u001b[39m\u001b[39m-1}$\u001b[39m\u001b[39m\"\u001b[39m, \u001b[39mr\u001b[39m\u001b[39m\"\u001b[39m\u001b[39m$10^\u001b[39m\u001b[39m{0}\u001b[39;00m\u001b[39m$\u001b[39m\u001b[39m\"\u001b[39m, \u001b[39mr\u001b[39m\u001b[39m\"\u001b[39m\u001b[39m$10^\u001b[39m\u001b[39m{1}\u001b[39;00m\u001b[39m$\u001b[39m\u001b[39m\"\u001b[39m, \u001b[39mr\u001b[39m\u001b[39m\"\u001b[39m\u001b[39m$10^\u001b[39m\u001b[39m{2}\u001b[39;00m\u001b[39m$\u001b[39m\u001b[39m\"\u001b[39m])\n",
      "File \u001b[0;32m~/hyunsu/residual-pathway-priors/.venv/lib/python3.8/site-packages/seaborn/_decorators.py:46\u001b[0m, in \u001b[0;36m_deprecate_positional_args.<locals>.inner_f\u001b[0;34m(*args, **kwargs)\u001b[0m\n\u001b[1;32m     <a href='file:///workspace/siml/hyunsu/residual-pathway-priors/.venv/lib/python3.8/site-packages/seaborn/_decorators.py?line=35'>36</a>\u001b[0m     warnings\u001b[39m.\u001b[39mwarn(\n\u001b[1;32m     <a href='file:///workspace/siml/hyunsu/residual-pathway-priors/.venv/lib/python3.8/site-packages/seaborn/_decorators.py?line=36'>37</a>\u001b[0m         \u001b[39m\"\u001b[39m\u001b[39mPass the following variable\u001b[39m\u001b[39m{}\u001b[39;00m\u001b[39m as \u001b[39m\u001b[39m{}\u001b[39;00m\u001b[39mkeyword arg\u001b[39m\u001b[39m{}\u001b[39;00m\u001b[39m: \u001b[39m\u001b[39m{}\u001b[39;00m\u001b[39m. \u001b[39m\u001b[39m\"\u001b[39m\n\u001b[1;32m     <a href='file:///workspace/siml/hyunsu/residual-pathway-priors/.venv/lib/python3.8/site-packages/seaborn/_decorators.py?line=37'>38</a>\u001b[0m         \u001b[39m\"\u001b[39m\u001b[39mFrom version 0.12, the only valid positional argument \u001b[39m\u001b[39m\"\u001b[39m\n\u001b[0;32m   (...)\u001b[0m\n\u001b[1;32m     <a href='file:///workspace/siml/hyunsu/residual-pathway-priors/.venv/lib/python3.8/site-packages/seaborn/_decorators.py?line=42'>43</a>\u001b[0m         \u001b[39mFutureWarning\u001b[39;00m\n\u001b[1;32m     <a href='file:///workspace/siml/hyunsu/residual-pathway-priors/.venv/lib/python3.8/site-packages/seaborn/_decorators.py?line=43'>44</a>\u001b[0m     )\n\u001b[1;32m     <a href='file:///workspace/siml/hyunsu/residual-pathway-priors/.venv/lib/python3.8/site-packages/seaborn/_decorators.py?line=44'>45</a>\u001b[0m kwargs\u001b[39m.\u001b[39mupdate({k: arg \u001b[39mfor\u001b[39;00m k, arg \u001b[39min\u001b[39;00m \u001b[39mzip\u001b[39m(sig\u001b[39m.\u001b[39mparameters, args)})\n\u001b[0;32m---> <a href='file:///workspace/siml/hyunsu/residual-pathway-priors/.venv/lib/python3.8/site-packages/seaborn/_decorators.py?line=45'>46</a>\u001b[0m \u001b[39mreturn\u001b[39;00m f(\u001b[39m*\u001b[39;49m\u001b[39m*\u001b[39;49mkwargs)\n",
      "File \u001b[0;32m~/hyunsu/residual-pathway-priors/.venv/lib/python3.8/site-packages/seaborn/relational.py:698\u001b[0m, in \u001b[0;36mlineplot\u001b[0;34m(x, y, hue, size, style, data, palette, hue_order, hue_norm, sizes, size_order, size_norm, dashes, markers, style_order, units, estimator, ci, n_boot, seed, sort, err_style, err_kws, legend, ax, **kwargs)\u001b[0m\n\u001b[1;32m    <a href='file:///workspace/siml/hyunsu/residual-pathway-priors/.venv/lib/python3.8/site-packages/seaborn/relational.py?line=690'>691</a>\u001b[0m variables \u001b[39m=\u001b[39m _LinePlotter\u001b[39m.\u001b[39mget_semantics(\u001b[39mlocals\u001b[39m())\n\u001b[1;32m    <a href='file:///workspace/siml/hyunsu/residual-pathway-priors/.venv/lib/python3.8/site-packages/seaborn/relational.py?line=691'>692</a>\u001b[0m p \u001b[39m=\u001b[39m _LinePlotter(\n\u001b[1;32m    <a href='file:///workspace/siml/hyunsu/residual-pathway-priors/.venv/lib/python3.8/site-packages/seaborn/relational.py?line=692'>693</a>\u001b[0m     data\u001b[39m=\u001b[39mdata, variables\u001b[39m=\u001b[39mvariables,\n\u001b[1;32m    <a href='file:///workspace/siml/hyunsu/residual-pathway-priors/.venv/lib/python3.8/site-packages/seaborn/relational.py?line=693'>694</a>\u001b[0m     estimator\u001b[39m=\u001b[39mestimator, ci\u001b[39m=\u001b[39mci, n_boot\u001b[39m=\u001b[39mn_boot, seed\u001b[39m=\u001b[39mseed,\n\u001b[1;32m    <a href='file:///workspace/siml/hyunsu/residual-pathway-priors/.venv/lib/python3.8/site-packages/seaborn/relational.py?line=694'>695</a>\u001b[0m     sort\u001b[39m=\u001b[39msort, err_style\u001b[39m=\u001b[39merr_style, err_kws\u001b[39m=\u001b[39merr_kws, legend\u001b[39m=\u001b[39mlegend,\n\u001b[1;32m    <a href='file:///workspace/siml/hyunsu/residual-pathway-priors/.venv/lib/python3.8/site-packages/seaborn/relational.py?line=695'>696</a>\u001b[0m )\n\u001b[0;32m--> <a href='file:///workspace/siml/hyunsu/residual-pathway-priors/.venv/lib/python3.8/site-packages/seaborn/relational.py?line=697'>698</a>\u001b[0m p\u001b[39m.\u001b[39;49mmap_hue(palette\u001b[39m=\u001b[39;49mpalette, order\u001b[39m=\u001b[39;49mhue_order, norm\u001b[39m=\u001b[39;49mhue_norm)\n\u001b[1;32m    <a href='file:///workspace/siml/hyunsu/residual-pathway-priors/.venv/lib/python3.8/site-packages/seaborn/relational.py?line=698'>699</a>\u001b[0m p\u001b[39m.\u001b[39mmap_size(sizes\u001b[39m=\u001b[39msizes, order\u001b[39m=\u001b[39msize_order, norm\u001b[39m=\u001b[39msize_norm)\n\u001b[1;32m    <a href='file:///workspace/siml/hyunsu/residual-pathway-priors/.venv/lib/python3.8/site-packages/seaborn/relational.py?line=699'>700</a>\u001b[0m p\u001b[39m.\u001b[39mmap_style(markers\u001b[39m=\u001b[39mmarkers, dashes\u001b[39m=\u001b[39mdashes, order\u001b[39m=\u001b[39mstyle_order)\n",
      "File \u001b[0;32m~/hyunsu/residual-pathway-priors/.venv/lib/python3.8/site-packages/seaborn/_core.py:53\u001b[0m, in \u001b[0;36mSemanticMapping.map\u001b[0;34m(cls, plotter, *args, **kwargs)\u001b[0m\n\u001b[1;32m     <a href='file:///workspace/siml/hyunsu/residual-pathway-priors/.venv/lib/python3.8/site-packages/seaborn/_core.py?line=49'>50</a>\u001b[0m \u001b[39mdef\u001b[39;00m \u001b[39mmap\u001b[39m(\u001b[39mcls\u001b[39m, plotter, \u001b[39m*\u001b[39margs, \u001b[39m*\u001b[39m\u001b[39m*\u001b[39mkwargs):\n\u001b[1;32m     <a href='file:///workspace/siml/hyunsu/residual-pathway-priors/.venv/lib/python3.8/site-packages/seaborn/_core.py?line=50'>51</a>\u001b[0m     \u001b[39m# This method is assigned the __init__ docstring\u001b[39;00m\n\u001b[1;32m     <a href='file:///workspace/siml/hyunsu/residual-pathway-priors/.venv/lib/python3.8/site-packages/seaborn/_core.py?line=51'>52</a>\u001b[0m     method_name \u001b[39m=\u001b[39m \u001b[39m\"\u001b[39m\u001b[39m_\u001b[39m\u001b[39m{}\u001b[39;00m\u001b[39m_map\u001b[39m\u001b[39m\"\u001b[39m\u001b[39m.\u001b[39mformat(\u001b[39mcls\u001b[39m\u001b[39m.\u001b[39m\u001b[39m__name__\u001b[39m[:\u001b[39m-\u001b[39m\u001b[39m7\u001b[39m]\u001b[39m.\u001b[39mlower())\n\u001b[0;32m---> <a href='file:///workspace/siml/hyunsu/residual-pathway-priors/.venv/lib/python3.8/site-packages/seaborn/_core.py?line=52'>53</a>\u001b[0m     \u001b[39msetattr\u001b[39m(plotter, method_name, \u001b[39mcls\u001b[39;49m(plotter, \u001b[39m*\u001b[39;49margs, \u001b[39m*\u001b[39;49m\u001b[39m*\u001b[39;49mkwargs))\n\u001b[1;32m     <a href='file:///workspace/siml/hyunsu/residual-pathway-priors/.venv/lib/python3.8/site-packages/seaborn/_core.py?line=53'>54</a>\u001b[0m     \u001b[39mreturn\u001b[39;00m plotter\n",
      "File \u001b[0;32m~/hyunsu/residual-pathway-priors/.venv/lib/python3.8/site-packages/seaborn/_core.py:118\u001b[0m, in \u001b[0;36mHueMapping.__init__\u001b[0;34m(self, plotter, palette, order, norm)\u001b[0m\n\u001b[1;32m    <a href='file:///workspace/siml/hyunsu/residual-pathway-priors/.venv/lib/python3.8/site-packages/seaborn/_core.py?line=114'>115</a>\u001b[0m \u001b[39melif\u001b[39;00m map_type \u001b[39m==\u001b[39m \u001b[39m\"\u001b[39m\u001b[39mcategorical\u001b[39m\u001b[39m\"\u001b[39m:\n\u001b[1;32m    <a href='file:///workspace/siml/hyunsu/residual-pathway-priors/.venv/lib/python3.8/site-packages/seaborn/_core.py?line=116'>117</a>\u001b[0m     cmap \u001b[39m=\u001b[39m norm \u001b[39m=\u001b[39m \u001b[39mNone\u001b[39;00m\n\u001b[0;32m--> <a href='file:///workspace/siml/hyunsu/residual-pathway-priors/.venv/lib/python3.8/site-packages/seaborn/_core.py?line=117'>118</a>\u001b[0m     levels, lookup_table \u001b[39m=\u001b[39m \u001b[39mself\u001b[39;49m\u001b[39m.\u001b[39;49mcategorical_mapping(\n\u001b[1;32m    <a href='file:///workspace/siml/hyunsu/residual-pathway-priors/.venv/lib/python3.8/site-packages/seaborn/_core.py?line=118'>119</a>\u001b[0m         data, palette, order,\n\u001b[1;32m    <a href='file:///workspace/siml/hyunsu/residual-pathway-priors/.venv/lib/python3.8/site-packages/seaborn/_core.py?line=119'>120</a>\u001b[0m     )\n\u001b[1;32m    <a href='file:///workspace/siml/hyunsu/residual-pathway-priors/.venv/lib/python3.8/site-packages/seaborn/_core.py?line=121'>122</a>\u001b[0m \u001b[39m# --- Option 3: datetime mapping\u001b[39;00m\n\u001b[1;32m    <a href='file:///workspace/siml/hyunsu/residual-pathway-priors/.venv/lib/python3.8/site-packages/seaborn/_core.py?line=122'>123</a>\u001b[0m \n\u001b[1;32m    <a href='file:///workspace/siml/hyunsu/residual-pathway-priors/.venv/lib/python3.8/site-packages/seaborn/_core.py?line=123'>124</a>\u001b[0m \u001b[39melse\u001b[39;00m:\n\u001b[1;32m    <a href='file:///workspace/siml/hyunsu/residual-pathway-priors/.venv/lib/python3.8/site-packages/seaborn/_core.py?line=124'>125</a>\u001b[0m     \u001b[39m# TODO this needs actual implementation\u001b[39;00m\n\u001b[1;32m    <a href='file:///workspace/siml/hyunsu/residual-pathway-priors/.venv/lib/python3.8/site-packages/seaborn/_core.py?line=125'>126</a>\u001b[0m     cmap \u001b[39m=\u001b[39m norm \u001b[39m=\u001b[39m \u001b[39mNone\u001b[39;00m\n",
      "File \u001b[0;32m~/hyunsu/residual-pathway-priors/.venv/lib/python3.8/site-packages/seaborn/_core.py:204\u001b[0m, in \u001b[0;36mHueMapping.categorical_mapping\u001b[0;34m(self, data, palette, order)\u001b[0m\n\u001b[1;32m    <a href='file:///workspace/siml/hyunsu/residual-pathway-priors/.venv/lib/python3.8/site-packages/seaborn/_core.py?line=201'>202</a>\u001b[0m     \u001b[39mif\u001b[39;00m \u001b[39mlen\u001b[39m(palette) \u001b[39m!=\u001b[39m n_colors:\n\u001b[1;32m    <a href='file:///workspace/siml/hyunsu/residual-pathway-priors/.venv/lib/python3.8/site-packages/seaborn/_core.py?line=202'>203</a>\u001b[0m         err \u001b[39m=\u001b[39m \u001b[39m\"\u001b[39m\u001b[39mThe palette list has the wrong number of colors.\u001b[39m\u001b[39m\"\u001b[39m\n\u001b[0;32m--> <a href='file:///workspace/siml/hyunsu/residual-pathway-priors/.venv/lib/python3.8/site-packages/seaborn/_core.py?line=203'>204</a>\u001b[0m         \u001b[39mraise\u001b[39;00m \u001b[39mValueError\u001b[39;00m(err)\n\u001b[1;32m    <a href='file:///workspace/siml/hyunsu/residual-pathway-priors/.venv/lib/python3.8/site-packages/seaborn/_core.py?line=204'>205</a>\u001b[0m     colors \u001b[39m=\u001b[39m palette\n\u001b[1;32m    <a href='file:///workspace/siml/hyunsu/residual-pathway-priors/.venv/lib/python3.8/site-packages/seaborn/_core.py?line=205'>206</a>\u001b[0m \u001b[39melse\u001b[39;00m:\n",
      "\u001b[0;31mValueError\u001b[0m: The palette list has the wrong number of colors."
     ]
    },
    {
     "data": {
      "text/plain": [
       "<Figure size 900x600 with 0 Axes>"
      ]
     },
     "metadata": {},
     "output_type": "display_data"
    },
    {
     "data": {
      "image/png": "[encoded data removed]",
      "text/plain": [
       "<Figure size 900x450 with 1 Axes>"
      ]
     },
     "metadata": {},
     "output_type": "display_data"
    }
   ],
   "source": [
    "\n",
    "ncolor = len(results['log_basic'].unique())\n",
    "# ncolor=4\n",
    "\n",
    "lightcmap = cmocean.tools.crop_by_percent(cmo.matter, ncolor, which='min', N=None)\n",
    "cpal = sns.color_palette(\"cmo.matter\", n_colors=ncolor)#, desat=0.2)\n",
    "\n",
    "fs = 16\n",
    "sns.set_style(\"whitegrid\")\n",
    "\n",
    "COLOR = '#444444'\n",
    "mpl.rcParams['text.color'] = COLOR\n",
    "mpl.rcParams['axes.labelcolor'] = COLOR\n",
    "mpl.rcParams['xtick.color'] = COLOR\n",
    "mpl.rcParams['ytick.color'] = COLOR\n",
    "\n",
    "plt.figure(dpi=150)\n",
    "# sns.lineplot(x='log_equiv', y='te_loss', hue='basic_hue', data=results[results['log_basic'] < -1.],\n",
    "#             palette='RdYlBu')\n",
    "\n",
    "fig, ax = plt.subplots(dpi=150, figsize=(6, 3))\n",
    "g = sns.lineplot(x='equiv_wd', y='te_loss', data=results,\n",
    "        hue='basic_hue', markers=['o' for _ in range(ncolor)],\n",
    "             style='basic_hue', dashes=False, markersize=10,\n",
    "                ax=ax, palette=cpal, legend=False)\n",
    "print(g)\n",
    "ax.legend(loc='lower left', title='Log Basic Precision', bbox_to_anchor=(1., 0.3),\n",
    "         labels=[r\"$10^{-1}$\", r\"$10^{0}$\", r\"$10^{1}$\", r\"$10^{2}$\"])\n",
    "ax.set_xlabel(\"Equivariant Precision\", fontsize=fs)\n",
    "ax.set_ylabel(\"Test MSE\", fontsize=fs)\n",
    "ax.set_title(\"Modified Inertia Test MSE\", fontsize=16)\n",
    "# plt.ylim(0, 10)\n",
    "# ax.set_xlim(-7, -1)\n",
    "# ax.set_xticklabels([r\"-$\\infty$\", -6, -5, -4, -3, -2, -1])\n",
    "ax.tick_params('both', labelsize=fs-2)\n",
    "ax.axhline(4.791855, linewidth=2.)\n",
    "ax.axhline(1.053696, linestyle='--', linewidth=2.)\n",
    "sns.despine()\n",
    "for axis in ['top','bottom','left','right']:\n",
    "    ax.spines[axis].set_linewidth(2.)\n",
    "\n",
    "ax.set_yticks([1., 5.])\n",
    "ax.set_yticklabels([r\"$1x10^{0}$\", r\"$5x10^{0}$\"])\n",
    "    \n",
    "handles = []\n",
    "labels = []\n",
    "plt.semilogx()\n",
    "plt.semilogy()\n",
    "handles.append(Line2D([0], [0], color=\"#1f77b4\", lw=2))\n",
    "handles.append(Line2D([0], [0], color=\"#1f77b4\", lw=2, ls=\"--\"))\n",
    "labels.append(\"MLP\")\n",
    "labels.append(\"EMLP\")\n",
    "\n",
    "legend1 = fig.legend(handles, labels, bbox_to_anchor=(1.12, 0.35))\n",
    "pyplot.gca().add_artist(legend1)\n",
    "\n",
    "ax.set_yticks([1., 5.])\n",
    "ax.set_yticklabels([r\"$10^{0}$\", r\"$5x10^{0}$\"])\n",
    "\n",
    "\n",
    "plt.savefig(\"./figs/inertia_equiv_wd.pdf\", bbox_inches='tight')\n",
    "plt.show()"
   ]
  },
  {
   "cell_type": "code",
   "execution_count": null,
   "id": "05590740-c6da-4e48-a607-3aa2b73b5612",
   "metadata": {},
   "outputs": [
    {
     "data": {
      "text/plain": [
       "array([], dtype=object)"
      ]
     },
     "execution_count": 9,
     "metadata": {},
     "output_type": "execute_result"
    }
   ],
   "source": [
    "results.log_basic.unique()"
   ]
  },
  {
   "cell_type": "code",
   "execution_count": null,
   "id": "09e4d934-fee2-4c10-8695-a0aad29c6355",
   "metadata": {},
   "outputs": [
    {
     "ename": "FileNotFoundError",
     "evalue": "[Errno 2] No such file or directory: './saved-outputs/inertia_log_mlp_basic100.0_equiv0.001.pkl'",
     "output_type": "error",
     "traceback": [
      "\u001b[0;31m---------------------------------------------------------------------------\u001b[0m",
      "\u001b[0;31mFileNotFoundError\u001b[0m                         Traceback (most recent call last)",
      "\u001b[1;32m/workspace/siml/hyunsu/residual-pathway-priors/experiments/prior-var-ablation/modified_inertia_plotter.ipynb Cell 9'\u001b[0m in \u001b[0;36m<cell line: 7>\u001b[0;34m()\u001b[0m\n\u001b[1;32m      <a href='vscode-notebook-cell://ssh-remote%2Bkaist-siml02/workspace/siml/hyunsu/residual-pathway-priors/experiments/prior-var-ablation/modified_inertia_plotter.ipynb#ch0000008vscode-remote?line=3'>4</a>\u001b[0m fname \u001b[39m=\u001b[39m \u001b[39m\"\u001b[39m\u001b[39m./saved-outputs/inertia_log_mlp_basic\u001b[39m\u001b[39m\"\u001b[39m \u001b[39m+\u001b[39m \u001b[39mstr\u001b[39m(basic_wd)\n\u001b[1;32m      <a href='vscode-notebook-cell://ssh-remote%2Bkaist-siml02/workspace/siml/hyunsu/residual-pathway-priors/experiments/prior-var-ablation/modified_inertia_plotter.ipynb#ch0000008vscode-remote?line=4'>5</a>\u001b[0m fname \u001b[39m=\u001b[39m fname \u001b[39m+\u001b[39m \u001b[39m\"\u001b[39m\u001b[39m_equiv\u001b[39m\u001b[39m\"\u001b[39m \u001b[39m+\u001b[39m \u001b[39mstr\u001b[39m(equiv_wd) \u001b[39m+\u001b[39m \u001b[39m\"\u001b[39m\u001b[39m.pkl\u001b[39m\u001b[39m\"\u001b[39m\n\u001b[0;32m----> <a href='vscode-notebook-cell://ssh-remote%2Bkaist-siml02/workspace/siml/hyunsu/residual-pathway-priors/experiments/prior-var-ablation/modified_inertia_plotter.ipynb#ch0000008vscode-remote?line=6'>7</a>\u001b[0m mlp \u001b[39m=\u001b[39m pd\u001b[39m.\u001b[39;49mread_pickle(fname)\n",
      "File \u001b[0;32m~/hyunsu/residual-pathway-priors/.venv/lib/python3.8/site-packages/pandas/io/pickle.py:187\u001b[0m, in \u001b[0;36mread_pickle\u001b[0;34m(filepath_or_buffer, compression, storage_options)\u001b[0m\n\u001b[1;32m    <a href='file:///workspace/siml/hyunsu/residual-pathway-priors/.venv/lib/python3.8/site-packages/pandas/io/pickle.py?line=123'>124</a>\u001b[0m \u001b[39m\"\"\"\u001b[39;00m\n\u001b[1;32m    <a href='file:///workspace/siml/hyunsu/residual-pathway-priors/.venv/lib/python3.8/site-packages/pandas/io/pickle.py?line=124'>125</a>\u001b[0m \u001b[39mLoad pickled pandas object (or any object) from file.\u001b[39;00m\n\u001b[1;32m    <a href='file:///workspace/siml/hyunsu/residual-pathway-priors/.venv/lib/python3.8/site-packages/pandas/io/pickle.py?line=125'>126</a>\u001b[0m \n\u001b[0;32m   (...)\u001b[0m\n\u001b[1;32m    <a href='file:///workspace/siml/hyunsu/residual-pathway-priors/.venv/lib/python3.8/site-packages/pandas/io/pickle.py?line=183'>184</a>\u001b[0m \u001b[39m4    4    9\u001b[39;00m\n\u001b[1;32m    <a href='file:///workspace/siml/hyunsu/residual-pathway-priors/.venv/lib/python3.8/site-packages/pandas/io/pickle.py?line=184'>185</a>\u001b[0m \u001b[39m\"\"\"\u001b[39;00m  \u001b[39m# noqa: E501\u001b[39;00m\n\u001b[1;32m    <a href='file:///workspace/siml/hyunsu/residual-pathway-priors/.venv/lib/python3.8/site-packages/pandas/io/pickle.py?line=185'>186</a>\u001b[0m excs_to_catch \u001b[39m=\u001b[39m (\u001b[39mAttributeError\u001b[39;00m, \u001b[39mImportError\u001b[39;00m, \u001b[39mModuleNotFoundError\u001b[39;00m, \u001b[39mTypeError\u001b[39;00m)\n\u001b[0;32m--> <a href='file:///workspace/siml/hyunsu/residual-pathway-priors/.venv/lib/python3.8/site-packages/pandas/io/pickle.py?line=186'>187</a>\u001b[0m \u001b[39mwith\u001b[39;00m get_handle(\n\u001b[1;32m    <a href='file:///workspace/siml/hyunsu/residual-pathway-priors/.venv/lib/python3.8/site-packages/pandas/io/pickle.py?line=187'>188</a>\u001b[0m     filepath_or_buffer,\n\u001b[1;32m    <a href='file:///workspace/siml/hyunsu/residual-pathway-priors/.venv/lib/python3.8/site-packages/pandas/io/pickle.py?line=188'>189</a>\u001b[0m     \u001b[39m\"\u001b[39;49m\u001b[39mrb\u001b[39;49m\u001b[39m\"\u001b[39;49m,\n\u001b[1;32m    <a href='file:///workspace/siml/hyunsu/residual-pathway-priors/.venv/lib/python3.8/site-packages/pandas/io/pickle.py?line=189'>190</a>\u001b[0m     compression\u001b[39m=\u001b[39;49mcompression,\n\u001b[1;32m    <a href='file:///workspace/siml/hyunsu/residual-pathway-priors/.venv/lib/python3.8/site-packages/pandas/io/pickle.py?line=190'>191</a>\u001b[0m     is_text\u001b[39m=\u001b[39;49m\u001b[39mFalse\u001b[39;49;00m,\n\u001b[1;32m    <a href='file:///workspace/siml/hyunsu/residual-pathway-priors/.venv/lib/python3.8/site-packages/pandas/io/pickle.py?line=191'>192</a>\u001b[0m     storage_options\u001b[39m=\u001b[39;49mstorage_options,\n\u001b[1;32m    <a href='file:///workspace/siml/hyunsu/residual-pathway-priors/.venv/lib/python3.8/site-packages/pandas/io/pickle.py?line=192'>193</a>\u001b[0m ) \u001b[39mas\u001b[39;00m handles:\n\u001b[1;32m    <a href='file:///workspace/siml/hyunsu/residual-pathway-priors/.venv/lib/python3.8/site-packages/pandas/io/pickle.py?line=193'>194</a>\u001b[0m \n\u001b[1;32m    <a href='file:///workspace/siml/hyunsu/residual-pathway-priors/.venv/lib/python3.8/site-packages/pandas/io/pickle.py?line=194'>195</a>\u001b[0m     \u001b[39m# 1) try standard library Pickle\u001b[39;00m\n\u001b[1;32m    <a href='file:///workspace/siml/hyunsu/residual-pathway-priors/.venv/lib/python3.8/site-packages/pandas/io/pickle.py?line=195'>196</a>\u001b[0m     \u001b[39m# 2) try pickle_compat (older pandas version) to handle subclass changes\u001b[39;00m\n\u001b[1;32m    <a href='file:///workspace/siml/hyunsu/residual-pathway-priors/.venv/lib/python3.8/site-packages/pandas/io/pickle.py?line=196'>197</a>\u001b[0m     \u001b[39m# 3) try pickle_compat with latin-1 encoding upon a UnicodeDecodeError\u001b[39;00m\n\u001b[1;32m    <a href='file:///workspace/siml/hyunsu/residual-pathway-priors/.venv/lib/python3.8/site-packages/pandas/io/pickle.py?line=198'>199</a>\u001b[0m     \u001b[39mtry\u001b[39;00m:\n\u001b[1;32m    <a href='file:///workspace/siml/hyunsu/residual-pathway-priors/.venv/lib/python3.8/site-packages/pandas/io/pickle.py?line=199'>200</a>\u001b[0m         \u001b[39m# TypeError for Cython complaints about object.__new__ vs Tick.__new__\u001b[39;00m\n\u001b[1;32m    <a href='file:///workspace/siml/hyunsu/residual-pathway-priors/.venv/lib/python3.8/site-packages/pandas/io/pickle.py?line=200'>201</a>\u001b[0m         \u001b[39mtry\u001b[39;00m:\n",
      "File \u001b[0;32m~/hyunsu/residual-pathway-priors/.venv/lib/python3.8/site-packages/pandas/io/common.py:798\u001b[0m, in \u001b[0;36mget_handle\u001b[0;34m(path_or_buf, mode, encoding, compression, memory_map, is_text, errors, storage_options)\u001b[0m\n\u001b[1;32m    <a href='file:///workspace/siml/hyunsu/residual-pathway-priors/.venv/lib/python3.8/site-packages/pandas/io/common.py?line=788'>789</a>\u001b[0m         handle \u001b[39m=\u001b[39m \u001b[39mopen\u001b[39m(\n\u001b[1;32m    <a href='file:///workspace/siml/hyunsu/residual-pathway-priors/.venv/lib/python3.8/site-packages/pandas/io/common.py?line=789'>790</a>\u001b[0m             handle,\n\u001b[1;32m    <a href='file:///workspace/siml/hyunsu/residual-pathway-priors/.venv/lib/python3.8/site-packages/pandas/io/common.py?line=790'>791</a>\u001b[0m             ioargs\u001b[39m.\u001b[39mmode,\n\u001b[0;32m   (...)\u001b[0m\n\u001b[1;32m    <a href='file:///workspace/siml/hyunsu/residual-pathway-priors/.venv/lib/python3.8/site-packages/pandas/io/common.py?line=793'>794</a>\u001b[0m             newline\u001b[39m=\u001b[39m\u001b[39m\"\u001b[39m\u001b[39m\"\u001b[39m,\n\u001b[1;32m    <a href='file:///workspace/siml/hyunsu/residual-pathway-priors/.venv/lib/python3.8/site-packages/pandas/io/common.py?line=794'>795</a>\u001b[0m         )\n\u001b[1;32m    <a href='file:///workspace/siml/hyunsu/residual-pathway-priors/.venv/lib/python3.8/site-packages/pandas/io/common.py?line=795'>796</a>\u001b[0m     \u001b[39melse\u001b[39;00m:\n\u001b[1;32m    <a href='file:///workspace/siml/hyunsu/residual-pathway-priors/.venv/lib/python3.8/site-packages/pandas/io/common.py?line=796'>797</a>\u001b[0m         \u001b[39m# Binary mode\u001b[39;00m\n\u001b[0;32m--> <a href='file:///workspace/siml/hyunsu/residual-pathway-priors/.venv/lib/python3.8/site-packages/pandas/io/common.py?line=797'>798</a>\u001b[0m         handle \u001b[39m=\u001b[39m \u001b[39mopen\u001b[39;49m(handle, ioargs\u001b[39m.\u001b[39;49mmode)\n\u001b[1;32m    <a href='file:///workspace/siml/hyunsu/residual-pathway-priors/.venv/lib/python3.8/site-packages/pandas/io/common.py?line=798'>799</a>\u001b[0m     handles\u001b[39m.\u001b[39mappend(handle)\n\u001b[1;32m    <a href='file:///workspace/siml/hyunsu/residual-pathway-priors/.venv/lib/python3.8/site-packages/pandas/io/common.py?line=800'>801</a>\u001b[0m \u001b[39m# Convert BytesIO or file objects passed with an encoding\u001b[39;00m\n",
      "\u001b[0;31mFileNotFoundError\u001b[0m: [Errno 2] No such file or directory: './saved-outputs/inertia_log_mlp_basic100.0_equiv0.001.pkl'"
     ]
    }
   ],
   "source": [
    "equiv_wd = 0.001\n",
    "basic_wd = 100.0\n",
    "\n",
    "fname = \"./saved-outputs/inertia_log_mlp_basic\" + str(basic_wd)\n",
    "fname = fname + \"_equiv\" + str(equiv_wd) + \".pkl\"\n",
    "\n",
    "mlp = pd.read_pickle(fname)"
   ]
  },
  {
   "cell_type": "code",
   "execution_count": null,
   "id": "319d6795-0acc-49a8-8e9f-64a7f9e706f7",
   "metadata": {},
   "outputs": [
    {
     "data": {
      "text/html": [
       "<div>\n",
       "<style scoped>\n",
       "    .dataframe tbody tr th:only-of-type {\n",
       "        vertical-align: middle;\n",
       "    }\n",
       "\n",
       "    .dataframe tbody tr th {\n",
       "        vertical-align: top;\n",
       "    }\n",
       "\n",
       "    .dataframe thead th {\n",
       "        text-align: right;\n",
       "    }\n",
       "</style>\n",
       "<table border=\"1\" class=\"dataframe\">\n",
       "  <thead>\n",
       "    <tr style=\"text-align: right;\">\n",
       "      <th></th>\n",
       "      <th>0</th>\n",
       "      <th>1</th>\n",
       "      <th>2</th>\n",
       "    </tr>\n",
       "  </thead>\n",
       "  <tbody>\n",
       "    <tr>\n",
       "      <th>0</th>\n",
       "      <td>0</td>\n",
       "      <td>0.010037</td>\n",
       "      <td>4.078928</td>\n",
       "    </tr>\n",
       "    <tr>\n",
       "      <th>1</th>\n",
       "      <td>1</td>\n",
       "      <td>0.045966</td>\n",
       "      <td>4.831995</td>\n",
       "    </tr>\n",
       "    <tr>\n",
       "      <th>2</th>\n",
       "      <td>2</td>\n",
       "      <td>0.019649</td>\n",
       "      <td>5.063202</td>\n",
       "    </tr>\n",
       "    <tr>\n",
       "      <th>3</th>\n",
       "      <td>3</td>\n",
       "      <td>0.010555</td>\n",
       "      <td>5.153609</td>\n",
       "    </tr>\n",
       "    <tr>\n",
       "      <th>4</th>\n",
       "      <td>4</td>\n",
       "      <td>0.007238</td>\n",
       "      <td>4.730743</td>\n",
       "    </tr>\n",
       "    <tr>\n",
       "      <th>5</th>\n",
       "      <td>5</td>\n",
       "      <td>0.005874</td>\n",
       "      <td>4.775525</td>\n",
       "    </tr>\n",
       "    <tr>\n",
       "      <th>6</th>\n",
       "      <td>6</td>\n",
       "      <td>0.013438</td>\n",
       "      <td>4.674380</td>\n",
       "    </tr>\n",
       "    <tr>\n",
       "      <th>7</th>\n",
       "      <td>7</td>\n",
       "      <td>0.021992</td>\n",
       "      <td>5.091274</td>\n",
       "    </tr>\n",
       "    <tr>\n",
       "      <th>8</th>\n",
       "      <td>8</td>\n",
       "      <td>0.015446</td>\n",
       "      <td>4.423052</td>\n",
       "    </tr>\n",
       "    <tr>\n",
       "      <th>9</th>\n",
       "      <td>9</td>\n",
       "      <td>0.188041</td>\n",
       "      <td>5.095848</td>\n",
       "    </tr>\n",
       "  </tbody>\n",
       "</table>\n",
       "</div>"
      ],
      "text/plain": [
       "   0         1         2\n",
       "0  0  0.010037  4.078928\n",
       "1  1  0.045966  4.831995\n",
       "2  2  0.019649  5.063202\n",
       "3  3  0.010555  5.153609\n",
       "4  4  0.007238  4.730743\n",
       "5  5  0.005874  4.775525\n",
       "6  6  0.013438  4.674380\n",
       "7  7  0.021992  5.091274\n",
       "8  8  0.015446  4.423052\n",
       "9  9  0.188041  5.095848"
      ]
     },
     "execution_count": 44,
     "metadata": {},
     "output_type": "execute_result"
    }
   ],
   "source": [
    "mlp"
   ]
  },
  {
   "cell_type": "code",
   "execution_count": null,
   "id": "cbb744b2-3b49-4951-a3cf-e134417c44e3",
   "metadata": {},
   "outputs": [
    {
     "data": {
      "text/plain": [
       "0    4.500000\n",
       "1    0.033824\n",
       "2    4.791855\n",
       "dtype: float64"
      ]
     },
     "execution_count": 9,
     "metadata": {},
     "output_type": "execute_result"
    }
   ],
   "source": [
    "mlp.mean()"
   ]
  },
  {
   "cell_type": "code",
   "execution_count": null,
   "id": "9285d53c-9357-447c-88d7-7d0b3589f091",
   "metadata": {},
   "outputs": [],
   "source": [
    "equiv_wd = 0.001\n",
    "basic_wd = 100.0\n",
    "\n",
    "fname = \"./saved-outputs/inertia_log_emlp_basic\" + str(basic_wd)\n",
    "fname = fname + \"_equiv\" + str(equiv_wd) + \".pkl\"\n",
    "\n",
    "emlp = pd.read_pickle(fname)"
   ]
  },
  {
   "cell_type": "code",
   "execution_count": null,
   "id": "2f4b543a-9c90-4037-a6ec-3c9e72eeeb4b",
   "metadata": {},
   "outputs": [
    {
     "data": {
      "text/plain": [
       "0    4.500000\n",
       "1    0.505403\n",
       "2    1.185061\n",
       "dtype: float64"
      ]
     },
     "execution_count": 14,
     "metadata": {},
     "output_type": "execute_result"
    }
   ],
   "source": [
    "emlp.mean()"
   ]
  },
  {
   "cell_type": "code",
   "execution_count": null,
   "id": "5e42fa80-cff8-4694-bb58-1b137d1b6ff3",
   "metadata": {},
   "outputs": [],
   "source": []
  }
 ],
 "metadata": {
  "kernelspec": {
   "display_name": "Python 3 (ipykernel)",
   "language": "python",
   "name": "python3"
  },
  "language_info": {
   "codemirror_mode": {
    "name": "ipython",
    "version": 3
   },
   "file_extension": ".py",
   "mimetype": "text/x-python",
   "name": "python",
   "nbconvert_exporter": "python",
   "pygments_lexer": "ipython3",
   "version": "3.8.8"
  }
 },
 "nbformat": 4,
 "nbformat_minor": 5
}
