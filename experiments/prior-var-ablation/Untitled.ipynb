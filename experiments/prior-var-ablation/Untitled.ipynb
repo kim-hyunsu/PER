{
 "cells": [
  {
   "cell_type": "code",
   "execution_count": 1,
   "id": "57e2926c-f4d3-4502-bc36-b91f10ad85b0",
   "metadata": {},
   "outputs": [
    {
     "name": "stderr",
     "output_type": "stream",
     "text": [
      "WARNING:absl:No GPU/TPU found, falling back to CPU. (Set TF_CPP_MIN_LOG_LEVEL=0 and rerun for more info.)\n"
     ]
    }
   ],
   "source": [
    "from emlp.nn import MLP,EMLP,MLPH,EMLPH\n",
    "from emlp.groups import SO2eR3,O2eR3,DkeR3,Trivial\n",
    "from emlp.reps import Scalar\n",
    "import sys\n",
    "sys.path.append(\"../trainer/\")\n",
    "from hamiltonian_dynamics import IntegratedDynamicsTrainer,DoubleSpringPendulum,hnn_trial\n",
    "from hamiltonian_dynamics import WindyDoubleSpringPendulum, BHamiltonianFlow"
   ]
  },
  {
   "cell_type": "code",
   "execution_count": 2,
   "id": "dd33dc26-5b13-4cee-b61d-1b174bd859b5",
   "metadata": {},
   "outputs": [],
   "source": [
    "dataset = WindyDoubleSpringPendulum\n",
    "base_ds = dataset(n_systems=100, chunk_len=5)"
   ]
  },
  {
   "cell_type": "code",
   "execution_count": null,
   "id": "1b438133-34a6-43a2-a68d-6b99d6e4e3c0",
   "metadata": {},
   "outputs": [],
   "source": []
  }
 ],
 "metadata": {
  "kernelspec": {
   "display_name": "Python 3",
   "language": "python",
   "name": "python3"
  },
  "language_info": {
   "codemirror_mode": {
    "name": "ipython",
    "version": 3
   },
   "file_extension": ".py",
   "mimetype": "text/x-python",
   "name": "python",
   "nbconvert_exporter": "python",
   "pygments_lexer": "ipython3",
   "version": "3.8.8"
  }
 },
 "nbformat": 4,
 "nbformat_minor": 5
}
