{
 "cells": [
  {
   "cell_type": "code",
   "execution_count": 2,
   "id": "34c1c78d-32e6-409f-b464-7063c6329532",
   "metadata": {},
   "outputs": [],
   "source": [
    "import jax.numpy as jnp\n",
    "import numpy as np\n",
    "from scipy.spatial.transform import Rotation as R"
   ]
  },
  {
   "cell_type": "code",
   "execution_count": 134,
   "id": "be5c48a5-0800-496c-8380-79f8a1632783",
   "metadata": {},
   "outputs": [],
   "source": [
    "def ham_prod(q, p):\n",
    "    x = q[3] * p[0] + q[0] * p[3] + q[1] * p[2] - q[2] * p[1]\n",
    "    y = q[3] * p[1] - q[0] * p[2] + q[1] * p[3] + q[2] * p[0]\n",
    "    z = q[3] * p[2] + q[0] * p[1] - q[1] * p[0] + q[2] * p[3]\n",
    "    w = q[3] * p[3] - q[0] * p[0] - q[1] * p[1] - q[2] * p[2]\n",
    "    return jnp.array([x,y,z,w])\n",
    "    \n",
    "    \n",
    "class jax_from_quat:\n",
    "    def __init__(self, q):\n",
    "        q = q/(jnp.linalg.norm(q))\n",
    "        self.q = q\n",
    "    \n",
    "        self.q_inv = jnp.array([-q[0], -q[1], -q[2], q[3]])\n",
    "        \n",
    "    def apply(self, v):\n",
    "\n",
    "        pq_inv = ham_prod(v, self.q_inv)\n",
    "        return(ham_prod(self.q, pq_inv)[:3])"
   ]
  },
  {
   "cell_type": "code",
   "execution_count": 145,
   "id": "af16081d-8c9a-49fa-b0f0-c569694a0506",
   "metadata": {},
   "outputs": [],
   "source": [
    "quat = np.array([0,1,1,1.25])\n",
    "vec = np.array([0,1,0,0])"
   ]
  },
  {
   "cell_type": "code",
   "execution_count": 146,
   "id": "d4b7a6a5-f880-4f22-ae4e-2a735b78a235",
   "metadata": {},
   "outputs": [],
   "source": [
    "r = R.from_quat(quat)"
   ]
  },
  {
   "cell_type": "code",
   "execution_count": 147,
   "id": "388b4d9f-c19b-4574-8069-d045b4f4381b",
   "metadata": {},
   "outputs": [
    {
     "data": {
      "text/plain": [
       "array([-0.70175439,  0.43859649,  0.56140351])"
      ]
     },
     "execution_count": 147,
     "metadata": {},
     "output_type": "execute_result"
    }
   ],
   "source": [
    "r.apply(vec[:3])"
   ]
  },
  {
   "cell_type": "code",
   "execution_count": null,
   "id": "1fa32cf3-38b2-46ef-86b6-bd047d54ccda",
   "metadata": {},
   "outputs": [],
   "source": []
  },
  {
   "cell_type": "code",
   "execution_count": 148,
   "id": "4670b3fd-cd7e-4f27-8f22-d9eeda6bc482",
   "metadata": {},
   "outputs": [],
   "source": [
    "jax_r = jax_from_quat(quat)"
   ]
  },
  {
   "cell_type": "code",
   "execution_count": 149,
   "id": "9931da6c-6cf8-4758-ba59-83cf073af0aa",
   "metadata": {},
   "outputs": [
    {
     "data": {
      "text/plain": [
       "DeviceArray([-0.70175433,  0.43859643,  0.5614035 ], dtype=float32)"
      ]
     },
     "execution_count": 149,
     "metadata": {},
     "output_type": "execute_result"
    }
   ],
   "source": [
    "jax_r.apply(vec)"
   ]
  },
  {
   "cell_type": "code",
   "execution_count": null,
   "id": "25da7239-c8e2-4dbf-bf02-c1c9ef67925b",
   "metadata": {},
   "outputs": [],
   "source": []
  }
 ],
 "metadata": {
  "kernelspec": {
   "display_name": "Python 3",
   "language": "python",
   "name": "python3"
  },
  "language_info": {
   "codemirror_mode": {
    "name": "ipython",
    "version": 3
   },
   "file_extension": ".py",
   "mimetype": "text/x-python",
   "name": "python",
   "nbconvert_exporter": "python",
   "pygments_lexer": "ipython3",
   "version": "3.8.8"
  }
 },
 "nbformat": 4,
 "nbformat_minor": 5
}
