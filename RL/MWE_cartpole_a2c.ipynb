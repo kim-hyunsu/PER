{
 "cells": [
  {
   "cell_type": "code",
   "execution_count": 1,
   "metadata": {},
   "outputs": [],
   "source": [
    "import coax\n",
    "import gym\n",
    "import haiku as hk\n",
    "import jax\n",
    "import jax.numpy as jnp\n",
    "import optax\n",
    "from coax.value_losses import mse\n",
    "\n",
    "\n",
    "\n",
    "# the name of this script\n",
    "name = 'a2c'\n",
    "\n",
    "# the cart-pole MDP\n",
    "env = gym.make('CartPole-v0')\n",
    "env = coax.wrappers.TrainMonitor(env, name=name, tensorboard_dir=f\"./data/tensorboard/{name}\")"
   ]
  },
  {
   "cell_type": "code",
   "execution_count": 2,
   "metadata": {},
   "outputs": [],
   "source": [
    "\n",
    "def func_pi(S, is_training):\n",
    "    logits = hk.Sequential((\n",
    "        hk.Linear(8), jax.nn.relu,\n",
    "        hk.Linear(8), jax.nn.relu,\n",
    "        hk.Linear(8), jax.nn.relu,\n",
    "        hk.Linear(env.action_space.n, w_init=jnp.zeros)\n",
    "    ))\n",
    "    return {'logits': logits(S)}\n",
    "\n",
    "\n",
    "def func_v(S, is_training):\n",
    "    value = hk.Sequential((\n",
    "        hk.Linear(8), jax.nn.relu,\n",
    "        hk.Linear(8), jax.nn.relu,\n",
    "        hk.Linear(8), jax.nn.relu,\n",
    "        hk.Linear(1, w_init=jnp.zeros), jnp.ravel\n",
    "    ))\n",
    "    return value(S)\n",
    "\n"
   ]
  },
  {
   "cell_type": "code",
   "execution_count": 6,
   "metadata": {},
   "outputs": [
    {
     "name": "stderr",
     "output_type": "stream",
     "text": [
      "[a2c|root|INFO] Initing EMLP\n",
      "[a2c|root|INFO] Linear W components:400 rep:96V⁰+48V+20V²+8V³+4V⁴\n",
      "[a2c|root|INFO] Linear W components:10000 rep:576V⁰+576V+384V²+216V³+121V⁴+44V⁵+14V⁶+4V⁷+V⁸\n",
      "[a2c|root|INFO] Linear W components:200 rep:48V⁰+24V+10V²+4V³+2V⁴\n",
      "[a2c|root|INFO] Initing EMLP\n",
      "[a2c|root|INFO] Linear W components:400 rep:96V⁰+48V+20V²+8V³+4V⁴\n",
      "[a2c|root|INFO] Linear W components:10000 rep:576V⁰+576V+384V²+216V³+121V⁴+44V⁵+14V⁶+4V⁷+V⁸\n",
      "[a2c|root|INFO] Linear W components:100 rep:24V⁰+12V+5V²+2V³+V⁴\n"
     ]
    }
   ],
   "source": [
    "from emlp import T, Scalar\n",
    "from emlp.groups import SO, S, O, Trivial\n",
    "from emlp_haiku import EMLPBlock, Sequential, Linear,EMLP\n",
    "from emlp.reps import Rep\n",
    "from emlp.nn import gated,gate_indices,uniform_rep\n",
    "from math import prod\n",
    "\n",
    "group=Trivial(2)\n",
    "rep_in = T(0)*prod(env.observation_space.shape)\n",
    "rep_out = T(0)*env.action_space.n#prod(env.action_space.shape)\n",
    "nn_pi = EMLP(rep_in,rep_out,group,ch=100,num_layers=2)\n",
    "nn_v = EMLP(rep_in,T(0),group,ch=100,num_layers=2)\n",
    "\n",
    "def func_pi(S, is_training):\n",
    "    return {'logits': nn_pi(S)}\n",
    "\n",
    "\n",
    "def func_v(S, is_training):\n",
    "    return nn_v(S).reshape(-1)"
   ]
  },
  {
   "cell_type": "code",
   "execution_count": null,
   "metadata": {},
   "outputs": [
    {
     "name": "stderr",
     "output_type": "stream",
     "text": [
      "[a2c|TrainMonitor|INFO] ep: 229,\tT: 6,594,\tG: 11,\tavg_r: 1,\tavg_G: 54.3,\tt: 11,\tdt: 19073.448ms,\tSimpleTD/loss: 0.0919,\tVanillaPG/loss: -0.0509\n",
      "[a2c|TrainMonitor|INFO] ep: 230,\tT: 6,612,\tG: 17,\tavg_r: 1,\tavg_G: 50.6,\tt: 17,\tdt: 461.121ms,\tSimpleTD/loss: 0.453,\tVanillaPG/loss: 0.646\n"
     ]
    },
    {
     "name": "stdout",
     "output_type": "stream",
     "text": [
      "Epoch reward 17.0\n"
     ]
    },
    {
     "name": "stderr",
     "output_type": "stream",
     "text": [
      "[a2c|TrainMonitor|INFO] ep: 231,\tT: 6,628,\tG: 15,\tavg_r: 1,\tavg_G: 47,\tt: 15,\tdt: 15.362ms,\tSimpleTD/loss: 0.466,\tVanillaPG/loss: 0.657\n",
      "[a2c|TrainMonitor|INFO] ep: 232,\tT: 6,638,\tG: 9,\tavg_r: 1,\tavg_G: 43.2,\tt: 9,\tdt: 14.995ms,\tSimpleTD/loss: 0.344,\tVanillaPG/loss: 0.315\n"
     ]
    },
    {
     "name": "stdout",
     "output_type": "stream",
     "text": [
      "Epoch reward 15.0\n",
      "Epoch reward 9.0\n"
     ]
    },
    {
     "name": "stderr",
     "output_type": "stream",
     "text": [
      "[a2c|TrainMonitor|INFO] ep: 233,\tT: 6,656,\tG: 17,\tavg_r: 1,\tavg_G: 40.6,\tt: 17,\tdt: 14.915ms,\tSimpleTD/loss: 0.333,\tVanillaPG/loss: 0.352\n"
     ]
    },
    {
     "name": "stdout",
     "output_type": "stream",
     "text": [
      "Epoch reward 17.0\n"
     ]
    },
    {
     "name": "stderr",
     "output_type": "stream",
     "text": [
      "[a2c|TrainMonitor|INFO] ep: 234,\tT: 6,671,\tG: 14,\tavg_r: 1,\tavg_G: 37.9,\tt: 14,\tdt: 14.720ms,\tSimpleTD/loss: 0.587,\tVanillaPG/loss: 0.471\n",
      "[a2c|TrainMonitor|INFO] ep: 235,\tT: 6,682,\tG: 10,\tavg_r: 1,\tavg_G: 35.2,\tt: 10,\tdt: 14.264ms,\tSimpleTD/loss: 3.96,\tVanillaPG/loss: 0.0658\n"
     ]
    },
    {
     "name": "stdout",
     "output_type": "stream",
     "text": [
      "Epoch reward 14.0\n",
      "Epoch reward 10.0\n"
     ]
    },
    {
     "name": "stderr",
     "output_type": "stream",
     "text": [
      "[a2c|TrainMonitor|INFO] ep: 236,\tT: 6,695,\tG: 12,\tavg_r: 1,\tavg_G: 32.8,\tt: 12,\tdt: 14.271ms,\tSimpleTD/loss: 4.12,\tVanillaPG/loss: 0.0902\n",
      "[a2c|TrainMonitor|INFO] ep: 237,\tT: 6,705,\tG: 9,\tavg_r: 1,\tavg_G: 30.5,\tt: 9,\tdt: 14.316ms,\tSimpleTD/loss: 2.98,\tVanillaPG/loss: 0.0923\n"
     ]
    },
    {
     "name": "stdout",
     "output_type": "stream",
     "text": [
      "Epoch reward 12.0\n",
      "Epoch reward 9.0\n"
     ]
    },
    {
     "name": "stderr",
     "output_type": "stream",
     "text": [
      "[a2c|TrainMonitor|INFO] ep: 238,\tT: 6,716,\tG: 10,\tavg_r: 1,\tavg_G: 28.4,\tt: 10,\tdt: 14.699ms,\tSimpleTD/loss: 0.117,\tVanillaPG/loss: 0.00942\n",
      "[a2c|TrainMonitor|INFO] ep: 239,\tT: 6,727,\tG: 10,\tavg_r: 1,\tavg_G: 26.6,\tt: 10,\tdt: 14.593ms,\tSimpleTD/loss: 0.323,\tVanillaPG/loss: 0.00014\n"
     ]
    },
    {
     "name": "stdout",
     "output_type": "stream",
     "text": [
      "Epoch reward 10.0\n",
      "Epoch reward 10.0\n"
     ]
    },
    {
     "name": "stderr",
     "output_type": "stream",
     "text": [
      "[a2c|TrainMonitor|INFO] ep: 240,\tT: 6,736,\tG: 8,\tavg_r: 1,\tavg_G: 24.7,\tt: 8,\tdt: 15.270ms,\tSimpleTD/loss: 0.0192,\tVanillaPG/loss: -0.00448\n",
      "[a2c|TrainMonitor|INFO] ep: 241,\tT: 6,747,\tG: 10,\tavg_r: 1,\tavg_G: 23.2,\tt: 10,\tdt: 14.751ms,\tSimpleTD/loss: 0.503,\tVanillaPG/loss: 0.0056\n"
     ]
    },
    {
     "name": "stdout",
     "output_type": "stream",
     "text": [
      "Epoch reward 8.0\n",
      "Epoch reward 10.0\n"
     ]
    },
    {
     "name": "stderr",
     "output_type": "stream",
     "text": [
      "[a2c|TrainMonitor|INFO] ep: 242,\tT: 6,757,\tG: 9,\tavg_r: 1,\tavg_G: 21.8,\tt: 9,\tdt: 14.376ms,\tSimpleTD/loss: 0.999,\tVanillaPG/loss: 0.0148\n",
      "[a2c|TrainMonitor|INFO] ep: 243,\tT: 6,768,\tG: 10,\tavg_r: 1,\tavg_G: 20.6,\tt: 10,\tdt: 14.819ms,\tSimpleTD/loss: 1.17,\tVanillaPG/loss: 0.0174\n"
     ]
    },
    {
     "name": "stdout",
     "output_type": "stream",
     "text": [
      "Epoch reward 9.0\n",
      "Epoch reward 10.0\n"
     ]
    },
    {
     "name": "stderr",
     "output_type": "stream",
     "text": [
      "[a2c|TrainMonitor|INFO] ep: 244,\tT: 6,777,\tG: 8,\tavg_r: 1,\tavg_G: 19.4,\tt: 8,\tdt: 14.576ms,\tSimpleTD/loss: 0.64,\tVanillaPG/loss: 0.0207\n",
      "[a2c|TrainMonitor|INFO] ep: 245,\tT: 6,787,\tG: 9,\tavg_r: 1,\tavg_G: 18.3,\tt: 9,\tdt: 14.058ms,\tSimpleTD/loss: 0.273,\tVanillaPG/loss: 0.00918\n"
     ]
    },
    {
     "name": "stdout",
     "output_type": "stream",
     "text": [
      "Epoch reward 8.0\n",
      "Epoch reward 9.0\n"
     ]
    },
    {
     "name": "stderr",
     "output_type": "stream",
     "text": [
      "[a2c|TrainMonitor|INFO] ep: 246,\tT: 6,797,\tG: 9,\tavg_r: 1,\tavg_G: 17.4,\tt: 9,\tdt: 15.149ms,\tSimpleTD/loss: 0.204,\tVanillaPG/loss: 0.00751\n",
      "[a2c|TrainMonitor|INFO] ep: 247,\tT: 6,809,\tG: 11,\tavg_r: 1,\tavg_G: 16.8,\tt: 11,\tdt: 14.725ms,\tSimpleTD/loss: 0.0593,\tVanillaPG/loss: 0.00569\n"
     ]
    },
    {
     "name": "stdout",
     "output_type": "stream",
     "text": [
      "Epoch reward 9.0\n",
      "Epoch reward 11.0\n"
     ]
    },
    {
     "name": "stderr",
     "output_type": "stream",
     "text": [
      "[a2c|TrainMonitor|INFO] ep: 248,\tT: 6,819,\tG: 9,\tavg_r: 1,\tavg_G: 16,\tt: 9,\tdt: 15.602ms,\tSimpleTD/loss: 0.0665,\tVanillaPG/loss: 0.00241\n",
      "[a2c|TrainMonitor|INFO] ep: 249,\tT: 6,830,\tG: 10,\tavg_r: 1,\tavg_G: 15.4,\tt: 10,\tdt: 14.518ms,\tSimpleTD/loss: 0.0201,\tVanillaPG/loss: 0.000972\n"
     ]
    },
    {
     "name": "stdout",
     "output_type": "stream",
     "text": [
      "Epoch reward 9.0\n",
      "Epoch reward 10.0\n"
     ]
    },
    {
     "name": "stderr",
     "output_type": "stream",
     "text": [
      "[a2c|TrainMonitor|INFO] ep: 250,\tT: 6,846,\tG: 15,\tavg_r: 1,\tavg_G: 15.3,\tt: 15,\tdt: 14.670ms,\tSimpleTD/loss: 0.0487,\tVanillaPG/loss: 0.288\n",
      "[a2c|TrainMonitor|INFO] ep: 251,\tT: 6,859,\tG: 12,\tavg_r: 1,\tavg_G: 15,\tt: 12,\tdt: 13.910ms,\tSimpleTD/loss: 0.0697,\tVanillaPG/loss: 0.245\n"
     ]
    },
    {
     "name": "stdout",
     "output_type": "stream",
     "text": [
      "Epoch reward 15.0\n",
      "Epoch reward 12.0\n"
     ]
    },
    {
     "name": "stderr",
     "output_type": "stream",
     "text": [
      "[a2c|TrainMonitor|INFO] ep: 252,\tT: 6,870,\tG: 10,\tavg_r: 1,\tavg_G: 14.5,\tt: 10,\tdt: 14.443ms,\tSimpleTD/loss: 0.0632,\tVanillaPG/loss: -0.00289\n",
      "[a2c|TrainMonitor|INFO] ep: 253,\tT: 6,883,\tG: 12,\tavg_r: 1,\tavg_G: 14.3,\tt: 12,\tdt: 14.511ms,\tSimpleTD/loss: 0.109,\tVanillaPG/loss: 0.233\n"
     ]
    },
    {
     "name": "stdout",
     "output_type": "stream",
     "text": [
      "Epoch reward 10.0\n",
      "Epoch reward 12.0\n"
     ]
    },
    {
     "name": "stderr",
     "output_type": "stream",
     "text": [
      "[a2c|TrainMonitor|INFO] ep: 254,\tT: 6,894,\tG: 10,\tavg_r: 1,\tavg_G: 13.8,\tt: 10,\tdt: 14.296ms,\tSimpleTD/loss: 6.29,\tVanillaPG/loss: 0.13\n",
      "[a2c|TrainMonitor|INFO] ep: 255,\tT: 6,908,\tG: 13,\tavg_r: 1,\tavg_G: 13.8,\tt: 13,\tdt: 14.265ms,\tSimpleTD/loss: 0.0604,\tVanillaPG/loss: -0.00309\n"
     ]
    },
    {
     "name": "stdout",
     "output_type": "stream",
     "text": [
      "Epoch reward 10.0\n",
      "Epoch reward 13.0\n"
     ]
    },
    {
     "name": "stderr",
     "output_type": "stream",
     "text": [
      "[a2c|TrainMonitor|INFO] ep: 256,\tT: 6,919,\tG: 10,\tavg_r: 1,\tavg_G: 13.4,\tt: 10,\tdt: 15.275ms,\tSimpleTD/loss: 0.551,\tVanillaPG/loss: 0.17\n"
     ]
    },
    {
     "name": "stdout",
     "output_type": "stream",
     "text": [
      "Epoch reward 10.0\n",
      "Epoch reward 14.0\n"
     ]
    },
    {
     "name": "stderr",
     "output_type": "stream",
     "text": [
      "[a2c|TrainMonitor|INFO] ep: 257,\tT: 6,934,\tG: 14,\tavg_r: 1,\tavg_G: 13.4,\tt: 14,\tdt: 14.097ms,\tSimpleTD/loss: 0.0911,\tVanillaPG/loss: 0.34\n",
      "[a2c|TrainMonitor|INFO] ep: 258,\tT: 6,944,\tG: 9,\tavg_r: 1,\tavg_G: 13,\tt: 9,\tdt: 15.764ms,\tSimpleTD/loss: 0.0527,\tVanillaPG/loss: 0.0184\n",
      "[a2c|TrainMonitor|INFO] ep: 259,\tT: 6,957,\tG: 12,\tavg_r: 1,\tavg_G: 12.9,\tt: 12,\tdt: 15.372ms,\tSimpleTD/loss: 0.324,\tVanillaPG/loss: 0.187\n"
     ]
    },
    {
     "name": "stdout",
     "output_type": "stream",
     "text": [
      "Epoch reward 9.0\n",
      "Epoch reward 12.0\n"
     ]
    },
    {
     "name": "stderr",
     "output_type": "stream",
     "text": [
      "[a2c|TrainMonitor|INFO] ep: 260,\tT: 6,970,\tG: 12,\tavg_r: 1,\tavg_G: 12.8,\tt: 12,\tdt: 14.628ms,\tSimpleTD/loss: 0.0338,\tVanillaPG/loss: 0.133\n",
      "[a2c|TrainMonitor|INFO] ep: 261,\tT: 6,981,\tG: 10,\tavg_r: 1,\tavg_G: 12.5,\tt: 10,\tdt: 15.568ms,\tSimpleTD/loss: 0.00192,\tVanillaPG/loss: 0.00388\n"
     ]
    },
    {
     "name": "stdout",
     "output_type": "stream",
     "text": [
      "Epoch reward 12.0\n",
      "Epoch reward 10.0\n"
     ]
    },
    {
     "name": "stderr",
     "output_type": "stream",
     "text": [
      "[a2c|TrainMonitor|INFO] ep: 262,\tT: 6,993,\tG: 11,\tavg_r: 1,\tavg_G: 12.4,\tt: 11,\tdt: 15.758ms,\tSimpleTD/loss: 0.281,\tVanillaPG/loss: 0.0329\n",
      "[a2c|TrainMonitor|INFO] ep: 263,\tT: 7,005,\tG: 11,\tavg_r: 1,\tavg_G: 12.2,\tt: 11,\tdt: 14.830ms,\tSimpleTD/loss: 0.81,\tVanillaPG/loss: 0.118\n"
     ]
    },
    {
     "name": "stdout",
     "output_type": "stream",
     "text": [
      "Epoch reward 11.0\n",
      "Epoch reward 11.0\n"
     ]
    },
    {
     "name": "stderr",
     "output_type": "stream",
     "text": [
      "[a2c|TrainMonitor|INFO] ep: 264,\tT: 7,016,\tG: 10,\tavg_r: 1,\tavg_G: 12,\tt: 10,\tdt: 14.220ms,\tSimpleTD/loss: 0.357,\tVanillaPG/loss: -0.000799\n"
     ]
    },
    {
     "name": "stdout",
     "output_type": "stream",
     "text": [
      "Epoch reward 10.0\n"
     ]
    },
    {
     "name": "stderr",
     "output_type": "stream",
     "text": [
      "[a2c|TrainMonitor|INFO] ep: 265,\tT: 7,034,\tG: 17,\tavg_r: 1,\tavg_G: 12.5,\tt: 17,\tdt: 13.903ms,\tSimpleTD/loss: 1.61,\tVanillaPG/loss: 0.0713\n",
      "[a2c|TrainMonitor|INFO] ep: 266,\tT: 7,047,\tG: 12,\tavg_r: 1,\tavg_G: 12.5,\tt: 12,\tdt: 13.833ms,\tSimpleTD/loss: 2.21,\tVanillaPG/loss: -0.0135\n"
     ]
    },
    {
     "name": "stdout",
     "output_type": "stream",
     "text": [
      "Epoch reward 17.0\n",
      "Epoch reward 12.0\n"
     ]
    },
    {
     "name": "stderr",
     "output_type": "stream",
     "text": [
      "[a2c|TrainMonitor|INFO] ep: 267,\tT: 7,060,\tG: 12,\tavg_r: 1,\tavg_G: 12.4,\tt: 12,\tdt: 14.403ms,\tSimpleTD/loss: 0.307,\tVanillaPG/loss: 0.044\n",
      "[a2c|TrainMonitor|INFO] ep: 268,\tT: 7,070,\tG: 9,\tavg_r: 1,\tavg_G: 12.1,\tt: 9,\tdt: 14.266ms,\tSimpleTD/loss: 0.198,\tVanillaPG/loss: 0.0238\n"
     ]
    },
    {
     "name": "stdout",
     "output_type": "stream",
     "text": [
      "Epoch reward 12.0\n",
      "Epoch reward 9.0\n"
     ]
    },
    {
     "name": "stderr",
     "output_type": "stream",
     "text": [
      "[a2c|TrainMonitor|INFO] ep: 269,\tT: 7,082,\tG: 11,\tavg_r: 1,\tavg_G: 12,\tt: 11,\tdt: 14.407ms,\tSimpleTD/loss: 0.132,\tVanillaPG/loss: 0.093\n",
      "[a2c|TrainMonitor|INFO] ep: 270,\tT: 7,093,\tG: 10,\tavg_r: 1,\tavg_G: 11.8,\tt: 10,\tdt: 15.185ms,\tSimpleTD/loss: 0.571,\tVanillaPG/loss: 0.0112\n"
     ]
    },
    {
     "name": "stdout",
     "output_type": "stream",
     "text": [
      "Epoch reward 11.0\n",
      "Epoch reward 10.0\n"
     ]
    },
    {
     "name": "stderr",
     "output_type": "stream",
     "text": [
      "[a2c|TrainMonitor|INFO] ep: 271,\tT: 7,103,\tG: 9,\tavg_r: 1,\tavg_G: 11.5,\tt: 9,\tdt: 14.045ms,\tSimpleTD/loss: 0.512,\tVanillaPG/loss: 0.00294\n",
      "[a2c|TrainMonitor|INFO] ep: 272,\tT: 7,114,\tG: 10,\tavg_r: 1,\tavg_G: 11.3,\tt: 10,\tdt: 14.266ms,\tSimpleTD/loss: 0.371,\tVanillaPG/loss: 1.44\n"
     ]
    },
    {
     "name": "stdout",
     "output_type": "stream",
     "text": [
      "Epoch reward 9.0\n",
      "Epoch reward 10.0\n"
     ]
    },
    {
     "name": "stderr",
     "output_type": "stream",
     "text": [
      "[a2c|TrainMonitor|INFO] ep: 273,\tT: 7,123,\tG: 8,\tavg_r: 1,\tavg_G: 11,\tt: 8,\tdt: 14.738ms,\tSimpleTD/loss: 0.439,\tVanillaPG/loss: -0.026\n",
      "[a2c|TrainMonitor|INFO] ep: 274,\tT: 7,134,\tG: 10,\tavg_r: 1,\tavg_G: 10.9,\tt: 10,\tdt: 14.185ms,\tSimpleTD/loss: 1.36,\tVanillaPG/loss: -0.816\n"
     ]
    },
    {
     "name": "stdout",
     "output_type": "stream",
     "text": [
      "Epoch reward 8.0\n",
      "Epoch reward 10.0\n"
     ]
    },
    {
     "name": "stderr",
     "output_type": "stream",
     "text": [
      "[a2c|TrainMonitor|INFO] ep: 275,\tT: 7,145,\tG: 10,\tavg_r: 1,\tavg_G: 10.8,\tt: 10,\tdt: 14.377ms,\tSimpleTD/loss: 2.13,\tVanillaPG/loss: -0.188\n",
      "[a2c|TrainMonitor|INFO] ep: 276,\tT: 7,158,\tG: 12,\tavg_r: 1,\tavg_G: 10.9,\tt: 12,\tdt: 14.531ms,\tSimpleTD/loss: 0.572,\tVanillaPG/loss: 0.178\n"
     ]
    },
    {
     "name": "stdout",
     "output_type": "stream",
     "text": [
      "Epoch reward 10.0\n",
      "Epoch reward 12.0\n"
     ]
    },
    {
     "name": "stderr",
     "output_type": "stream",
     "text": [
      "[a2c|TrainMonitor|INFO] ep: 277,\tT: 7,170,\tG: 11,\tavg_r: 1,\tavg_G: 10.9,\tt: 11,\tdt: 14.344ms,\tSimpleTD/loss: 0.871,\tVanillaPG/loss: 0.379\n",
      "[a2c|TrainMonitor|INFO] ep: 278,\tT: 7,183,\tG: 12,\tavg_r: 1,\tavg_G: 11,\tt: 12,\tdt: 14.524ms,\tSimpleTD/loss: 1.07,\tVanillaPG/loss: 0.685\n"
     ]
    },
    {
     "name": "stdout",
     "output_type": "stream",
     "text": [
      "Epoch reward 11.0\n",
      "Epoch reward 12.0\n"
     ]
    },
    {
     "name": "stderr",
     "output_type": "stream",
     "text": [
      "[a2c|TrainMonitor|INFO] ep: 279,\tT: 7,195,\tG: 11,\tavg_r: 1,\tavg_G: 11,\tt: 11,\tdt: 14.542ms,\tSimpleTD/loss: 0.231,\tVanillaPG/loss: 0.235\n",
      "[a2c|TrainMonitor|INFO] ep: 280,\tT: 7,209,\tG: 13,\tavg_r: 1,\tavg_G: 11.2,\tt: 13,\tdt: 14.516ms,\tSimpleTD/loss: 0.262,\tVanillaPG/loss: 0.245\n"
     ]
    },
    {
     "name": "stdout",
     "output_type": "stream",
     "text": [
      "Epoch reward 11.0\n",
      "Epoch reward 13.0\n"
     ]
    },
    {
     "name": "stderr",
     "output_type": "stream",
     "text": [
      "[a2c|TrainMonitor|INFO] ep: 281,\tT: 7,220,\tG: 10,\tavg_r: 1,\tavg_G: 11.1,\tt: 10,\tdt: 14.784ms,\tSimpleTD/loss: 0.206,\tVanillaPG/loss: -0.0466\n"
     ]
    },
    {
     "name": "stdout",
     "output_type": "stream",
     "text": [
      "Epoch reward 10.0\n"
     ]
    },
    {
     "name": "stderr",
     "output_type": "stream",
     "text": [
      "[a2c|TrainMonitor|INFO] ep: 282,\tT: 7,236,\tG: 15,\tavg_r: 1,\tavg_G: 11.5,\tt: 15,\tdt: 14.359ms,\tSimpleTD/loss: 0.554,\tVanillaPG/loss: 0.125\n",
      "[a2c|TrainMonitor|INFO] ep: 283,\tT: 7,250,\tG: 13,\tavg_r: 1,\tavg_G: 11.7,\tt: 13,\tdt: 15.024ms,\tSimpleTD/loss: 0.406,\tVanillaPG/loss: 0.0143\n"
     ]
    },
    {
     "name": "stdout",
     "output_type": "stream",
     "text": [
      "Epoch reward 15.0\n",
      "Epoch reward 13.0\n"
     ]
    },
    {
     "name": "stderr",
     "output_type": "stream",
     "text": [
      "[a2c|TrainMonitor|INFO] ep: 284,\tT: 7,270,\tG: 19,\tavg_r: 1,\tavg_G: 12.4,\tt: 19,\tdt: 14.440ms,\tSimpleTD/loss: 0.603,\tVanillaPG/loss: 0.043\n"
     ]
    },
    {
     "name": "stdout",
     "output_type": "stream",
     "text": [
      "Epoch reward 19.0\n"
     ]
    },
    {
     "name": "stderr",
     "output_type": "stream",
     "text": [
      "[a2c|TrainMonitor|INFO] ep: 285,\tT: 7,343,\tG: 72,\tavg_r: 1,\tavg_G: 18.3,\tt: 72,\tdt: 14.220ms,\tSimpleTD/loss: 0.888,\tVanillaPG/loss: 0.00207\n",
      "[a2c|TrainMonitor|INFO] ep: 286,\tT: 7,357,\tG: 13,\tavg_r: 1,\tavg_G: 17.8,\tt: 13,\tdt: 14.697ms,\tSimpleTD/loss: 3.53,\tVanillaPG/loss: -0.64\n"
     ]
    },
    {
     "name": "stdout",
     "output_type": "stream",
     "text": [
      "Epoch reward 72.0\n",
      "Epoch reward 13.0\n"
     ]
    },
    {
     "name": "stderr",
     "output_type": "stream",
     "text": [
      "[a2c|TrainMonitor|INFO] ep: 287,\tT: 7,375,\tG: 17,\tavg_r: 1,\tavg_G: 17.7,\tt: 17,\tdt: 14.502ms,\tSimpleTD/loss: 0.17,\tVanillaPG/loss: 0.26\n"
     ]
    },
    {
     "name": "stdout",
     "output_type": "stream",
     "text": [
      "Epoch reward 17.0\n"
     ]
    },
    {
     "name": "stderr",
     "output_type": "stream",
     "text": [
      "[a2c|TrainMonitor|INFO] ep: 288,\tT: 7,391,\tG: 15,\tavg_r: 1,\tavg_G: 17.5,\tt: 15,\tdt: 16.071ms,\tSimpleTD/loss: 0.778,\tVanillaPG/loss: 0.581\n",
      "[a2c|TrainMonitor|INFO] ep: 289,\tT: 7,403,\tG: 11,\tavg_r: 1,\tavg_G: 16.8,\tt: 11,\tdt: 14.016ms,\tSimpleTD/loss: 1.35,\tVanillaPG/loss: 0.563\n"
     ]
    },
    {
     "name": "stdout",
     "output_type": "stream",
     "text": [
      "Epoch reward 15.0\n",
      "Epoch reward 11.0\n"
     ]
    },
    {
     "name": "stderr",
     "output_type": "stream",
     "text": [
      "[a2c|TrainMonitor|INFO] ep: 290,\tT: 7,421,\tG: 17,\tavg_r: 1,\tavg_G: 16.8,\tt: 17,\tdt: 13.854ms,\tSimpleTD/loss: 0.786,\tVanillaPG/loss: 0.957\n"
     ]
    },
    {
     "name": "stdout",
     "output_type": "stream",
     "text": [
      "Epoch reward 17.0\n"
     ]
    },
    {
     "name": "stderr",
     "output_type": "stream",
     "text": [
      "[a2c|TrainMonitor|INFO] ep: 291,\tT: 7,464,\tG: 42,\tavg_r: 1,\tavg_G: 19.3,\tt: 42,\tdt: 14.363ms,\tSimpleTD/loss: 0.479,\tVanillaPG/loss: 0.273\n"
     ]
    },
    {
     "name": "stdout",
     "output_type": "stream",
     "text": [
      "Epoch reward 42.0\n"
     ]
    },
    {
     "name": "stderr",
     "output_type": "stream",
     "text": [
      "[a2c|TrainMonitor|INFO] ep: 292,\tT: 7,483,\tG: 18,\tavg_r: 1,\tavg_G: 19.2,\tt: 18,\tdt: 13.774ms,\tSimpleTD/loss: 1.32,\tVanillaPG/loss: -0.0324\n"
     ]
    },
    {
     "name": "stdout",
     "output_type": "stream",
     "text": [
      "Epoch reward 18.0\n"
     ]
    },
    {
     "name": "stderr",
     "output_type": "stream",
     "text": [
      "[a2c|TrainMonitor|INFO] ep: 293,\tT: 7,537,\tG: 53,\tavg_r: 1,\tavg_G: 22.6,\tt: 53,\tdt: 13.820ms,\tSimpleTD/loss: 0.492,\tVanillaPG/loss: 0.0856\n"
     ]
    },
    {
     "name": "stdout",
     "output_type": "stream",
     "text": [
      "Epoch reward 53.0\n"
     ]
    },
    {
     "name": "stderr",
     "output_type": "stream",
     "text": [
      "[a2c|TrainMonitor|INFO] ep: 294,\tT: 7,597,\tG: 59,\tavg_r: 1,\tavg_G: 26.2,\tt: 59,\tdt: 14.319ms,\tSimpleTD/loss: 0.845,\tVanillaPG/loss: -0.0365\n"
     ]
    },
    {
     "name": "stdout",
     "output_type": "stream",
     "text": [
      "Epoch reward 59.0\n"
     ]
    },
    {
     "name": "stderr",
     "output_type": "stream",
     "text": [
      "[a2c|TrainMonitor|INFO] ep: 295,\tT: 7,640,\tG: 42,\tavg_r: 1,\tavg_G: 27.8,\tt: 42,\tdt: 14.225ms,\tSimpleTD/loss: 0.677,\tVanillaPG/loss: -0.158\n",
      "[a2c|TrainMonitor|INFO] ep: 296,\tT: 7,652,\tG: 11,\tavg_r: 1,\tavg_G: 26.1,\tt: 11,\tdt: 13.978ms,\tSimpleTD/loss: 2.28,\tVanillaPG/loss: -0.355\n"
     ]
    },
    {
     "name": "stdout",
     "output_type": "stream",
     "text": [
      "Epoch reward 42.0\n",
      "Epoch reward 11.0\n"
     ]
    },
    {
     "name": "stderr",
     "output_type": "stream",
     "text": [
      "[a2c|TrainMonitor|INFO] ep: 297,\tT: 7,668,\tG: 15,\tavg_r: 1,\tavg_G: 25,\tt: 15,\tdt: 14.423ms,\tSimpleTD/loss: 0.876,\tVanillaPG/loss: -0.0111\n",
      "[a2c|TrainMonitor|INFO] ep: 298,\tT: 7,681,\tG: 12,\tavg_r: 1,\tavg_G: 23.7,\tt: 12,\tdt: 14.455ms,\tSimpleTD/loss: 0.881,\tVanillaPG/loss: -0.132\n"
     ]
    },
    {
     "name": "stdout",
     "output_type": "stream",
     "text": [
      "Epoch reward 15.0\n",
      "Epoch reward 12.0\n"
     ]
    },
    {
     "name": "stderr",
     "output_type": "stream",
     "text": [
      "[a2c|TrainMonitor|INFO] ep: 299,\tT: 7,699,\tG: 17,\tavg_r: 1,\tavg_G: 23,\tt: 17,\tdt: 14.770ms,\tSimpleTD/loss: 0.458,\tVanillaPG/loss: 0.2\n",
      "[a2c|TrainMonitor|INFO] ep: 300,\tT: 7,712,\tG: 12,\tavg_r: 1,\tavg_G: 21.9,\tt: 12,\tdt: 14.691ms,\tSimpleTD/loss: 0.686,\tVanillaPG/loss: -0.025\n"
     ]
    },
    {
     "name": "stdout",
     "output_type": "stream",
     "text": [
      "Epoch reward 17.0\n",
      "Epoch reward 12.0\n"
     ]
    },
    {
     "name": "stderr",
     "output_type": "stream",
     "text": [
      "[a2c|TrainMonitor|INFO] ep: 301,\tT: 7,725,\tG: 12,\tavg_r: 1,\tavg_G: 20.9,\tt: 12,\tdt: 14.465ms,\tSimpleTD/loss: 0.423,\tVanillaPG/loss: 0.0426\n",
      "[a2c|TrainMonitor|INFO] ep: 302,\tT: 7,736,\tG: 10,\tavg_r: 1,\tavg_G: 19.9,\tt: 10,\tdt: 14.169ms,\tSimpleTD/loss: 0.384,\tVanillaPG/loss: -0.00102\n"
     ]
    },
    {
     "name": "stdout",
     "output_type": "stream",
     "text": [
      "Epoch reward 12.0\n",
      "Epoch reward 10.0\n"
     ]
    },
    {
     "name": "stderr",
     "output_type": "stream",
     "text": [
      "[a2c|TrainMonitor|INFO] ep: 303,\tT: 7,746,\tG: 9,\tavg_r: 1,\tavg_G: 18.8,\tt: 9,\tdt: 14.913ms,\tSimpleTD/loss: 0.239,\tVanillaPG/loss: -0.171\n",
      "[a2c|TrainMonitor|INFO] ep: 304,\tT: 7,757,\tG: 10,\tavg_r: 1,\tavg_G: 17.9,\tt: 10,\tdt: 14.912ms,\tSimpleTD/loss: 0.43,\tVanillaPG/loss: -0.00204\n"
     ]
    },
    {
     "name": "stdout",
     "output_type": "stream",
     "text": [
      "Epoch reward 9.0\n",
      "Epoch reward 10.0\n"
     ]
    },
    {
     "name": "stderr",
     "output_type": "stream",
     "text": [
      "[a2c|TrainMonitor|INFO] ep: 305,\tT: 7,767,\tG: 9,\tavg_r: 1,\tavg_G: 17,\tt: 9,\tdt: 14.416ms,\tSimpleTD/loss: 0.124,\tVanillaPG/loss: 0.153\n"
     ]
    },
    {
     "name": "stdout",
     "output_type": "stream",
     "text": [
      "Epoch reward 9.0\n"
     ]
    },
    {
     "name": "stderr",
     "output_type": "stream",
     "text": [
      "[a2c|TrainMonitor|INFO] ep: 306,\tT: 7,782,\tG: 14,\tavg_r: 1,\tavg_G: 16.7,\tt: 14,\tdt: 15.723ms,\tSimpleTD/loss: 0.375,\tVanillaPG/loss: 0.457\n",
      "[a2c|TrainMonitor|INFO] ep: 307,\tT: 7,794,\tG: 11,\tavg_r: 1,\tavg_G: 16.1,\tt: 11,\tdt: 15.002ms,\tSimpleTD/loss: 0.246,\tVanillaPG/loss: 0.36\n"
     ]
    },
    {
     "name": "stdout",
     "output_type": "stream",
     "text": [
      "Epoch reward 14.0\n",
      "Epoch reward 11.0\n"
     ]
    },
    {
     "name": "stderr",
     "output_type": "stream",
     "text": [
      "[a2c|TrainMonitor|INFO] ep: 308,\tT: 7,810,\tG: 15,\tavg_r: 1,\tavg_G: 16,\tt: 15,\tdt: 14.839ms,\tSimpleTD/loss: 1.1,\tVanillaPG/loss: 0.483\n",
      "[a2c|TrainMonitor|INFO] ep: 309,\tT: 7,821,\tG: 10,\tavg_r: 1,\tavg_G: 15.4,\tt: 10,\tdt: 14.862ms,\tSimpleTD/loss: 0.328,\tVanillaPG/loss: 0.0378\n"
     ]
    },
    {
     "name": "stdout",
     "output_type": "stream",
     "text": [
      "Epoch reward 15.0\n",
      "Epoch reward 10.0\n"
     ]
    },
    {
     "name": "stderr",
     "output_type": "stream",
     "text": [
      "[a2c|TrainMonitor|INFO] ep: 310,\tT: 7,838,\tG: 16,\tavg_r: 1,\tavg_G: 15.5,\tt: 16,\tdt: 15.098ms,\tSimpleTD/loss: 0.791,\tVanillaPG/loss: 0.0617\n"
     ]
    },
    {
     "name": "stdout",
     "output_type": "stream",
     "text": [
      "Epoch reward 16.0\n"
     ]
    },
    {
     "name": "stderr",
     "output_type": "stream",
     "text": [
      "[a2c|TrainMonitor|INFO] ep: 311,\tT: 7,882,\tG: 43,\tavg_r: 1,\tavg_G: 18.2,\tt: 43,\tdt: 15.003ms,\tSimpleTD/loss: 0.58,\tVanillaPG/loss: 0.0198\n"
     ]
    },
    {
     "name": "stdout",
     "output_type": "stream",
     "text": [
      "Epoch reward 43.0\n"
     ]
    },
    {
     "name": "stderr",
     "output_type": "stream",
     "text": [
      "[a2c|TrainMonitor|INFO] ep: 312,\tT: 7,902,\tG: 19,\tavg_r: 1,\tavg_G: 18.3,\tt: 19,\tdt: 14.784ms,\tSimpleTD/loss: 1.3,\tVanillaPG/loss: -0.335\n"
     ]
    },
    {
     "name": "stdout",
     "output_type": "stream",
     "text": [
      "Epoch reward 19.0\n"
     ]
    },
    {
     "name": "stderr",
     "output_type": "stream",
     "text": [
      "[a2c|TrainMonitor|INFO] ep: 313,\tT: 7,934,\tG: 31,\tavg_r: 1,\tavg_G: 19.6,\tt: 31,\tdt: 14.319ms,\tSimpleTD/loss: 0.663,\tVanillaPG/loss: -0.00121\n"
     ]
    },
    {
     "name": "stdout",
     "output_type": "stream",
     "text": [
      "Epoch reward 31.0\n"
     ]
    },
    {
     "name": "stderr",
     "output_type": "stream",
     "text": [
      "[a2c|TrainMonitor|INFO] ep: 314,\tT: 7,955,\tG: 20,\tavg_r: 1,\tavg_G: 19.6,\tt: 20,\tdt: 14.804ms,\tSimpleTD/loss: 0.983,\tVanillaPG/loss: -0.108\n"
     ]
    },
    {
     "name": "stdout",
     "output_type": "stream",
     "text": [
      "Epoch reward 20.0\n"
     ]
    },
    {
     "name": "stderr",
     "output_type": "stream",
     "text": [
      "[a2c|TrainMonitor|INFO] ep: 315,\tT: 7,977,\tG: 21,\tavg_r: 1,\tavg_G: 19.8,\tt: 21,\tdt: 14.676ms,\tSimpleTD/loss: 0.394,\tVanillaPG/loss: 0.108\n"
     ]
    },
    {
     "name": "stdout",
     "output_type": "stream",
     "text": [
      "Epoch reward 21.0\n"
     ]
    },
    {
     "name": "stderr",
     "output_type": "stream",
     "text": [
      "[a2c|TrainMonitor|INFO] ep: 316,\tT: 7,996,\tG: 18,\tavg_r: 1,\tavg_G: 19.6,\tt: 18,\tdt: 14.964ms,\tSimpleTD/loss: 0.546,\tVanillaPG/loss: 0.0699\n"
     ]
    },
    {
     "name": "stdout",
     "output_type": "stream",
     "text": [
      "Epoch reward 18.0\n"
     ]
    },
    {
     "name": "stderr",
     "output_type": "stream",
     "text": [
      "[a2c|TrainMonitor|INFO] ep: 317,\tT: 8,020,\tG: 23,\tavg_r: 1,\tavg_G: 19.9,\tt: 23,\tdt: 14.096ms,\tSimpleTD/loss: 0.564,\tVanillaPG/loss: 0.1\n"
     ]
    },
    {
     "name": "stdout",
     "output_type": "stream",
     "text": [
      "Epoch reward 23.0\n"
     ]
    },
    {
     "name": "stderr",
     "output_type": "stream",
     "text": [
      "[a2c|TrainMonitor|INFO] ep: 318,\tT: 8,041,\tG: 20,\tavg_r: 1,\tavg_G: 19.9,\tt: 20,\tdt: 14.505ms,\tSimpleTD/loss: 0.4,\tVanillaPG/loss: 0.107\n",
      "[a2c|TrainMonitor|INFO] ep: 319,\tT: 8,055,\tG: 13,\tavg_r: 1,\tavg_G: 19.2,\tt: 13,\tdt: 14.847ms,\tSimpleTD/loss: 0.803,\tVanillaPG/loss: 0.032\n"
     ]
    },
    {
     "name": "stdout",
     "output_type": "stream",
     "text": [
      "Epoch reward 20.0\n",
      "Epoch reward 13.0\n"
     ]
    },
    {
     "name": "stderr",
     "output_type": "stream",
     "text": [
      "[a2c|TrainMonitor|INFO] ep: 320,\tT: 8,071,\tG: 15,\tavg_r: 1,\tavg_G: 18.8,\tt: 15,\tdt: 14.598ms,\tSimpleTD/loss: 0.929,\tVanillaPG/loss: 0.114\n"
     ]
    },
    {
     "name": "stdout",
     "output_type": "stream",
     "text": [
      "Epoch reward 15.0\n"
     ]
    },
    {
     "name": "stderr",
     "output_type": "stream",
     "text": [
      "[a2c|TrainMonitor|INFO] ep: 321,\tT: 8,087,\tG: 15,\tavg_r: 1,\tavg_G: 18.4,\tt: 15,\tdt: 14.616ms,\tSimpleTD/loss: 0.638,\tVanillaPG/loss: -0.206\n"
     ]
    },
    {
     "name": "stdout",
     "output_type": "stream",
     "text": [
      "Epoch reward 15.0\n"
     ]
    },
    {
     "name": "stderr",
     "output_type": "stream",
     "text": [
      "[a2c|TrainMonitor|INFO] ep: 322,\tT: 8,138,\tG: 50,\tavg_r: 1,\tavg_G: 21.6,\tt: 50,\tdt: 15.068ms,\tSimpleTD/loss: 0.453,\tVanillaPG/loss: 0.0232\n"
     ]
    },
    {
     "name": "stdout",
     "output_type": "stream",
     "text": [
      "Epoch reward 50.0\n"
     ]
    },
    {
     "name": "stderr",
     "output_type": "stream",
     "text": [
      "[a2c|TrainMonitor|INFO] ep: 323,\tT: 8,181,\tG: 42,\tavg_r: 1,\tavg_G: 23.6,\tt: 42,\tdt: 14.163ms,\tSimpleTD/loss: 1.32,\tVanillaPG/loss: -0.0867\n"
     ]
    },
    {
     "name": "stdout",
     "output_type": "stream",
     "text": [
      "Epoch reward 42.0\n"
     ]
    },
    {
     "name": "stderr",
     "output_type": "stream",
     "text": [
      "[a2c|TrainMonitor|INFO] ep: 324,\tT: 8,211,\tG: 29,\tavg_r: 1,\tavg_G: 24.2,\tt: 29,\tdt: 14.264ms,\tSimpleTD/loss: 0.554,\tVanillaPG/loss: -0.238\n"
     ]
    },
    {
     "name": "stdout",
     "output_type": "stream",
     "text": [
      "Epoch reward 29.0\n"
     ]
    },
    {
     "name": "stderr",
     "output_type": "stream",
     "text": [
      "[a2c|TrainMonitor|INFO] ep: 325,\tT: 8,231,\tG: 19,\tavg_r: 1,\tavg_G: 23.6,\tt: 19,\tdt: 14.042ms,\tSimpleTD/loss: 0.962,\tVanillaPG/loss: 0.0945\n"
     ]
    },
    {
     "name": "stdout",
     "output_type": "stream",
     "text": [
      "Epoch reward 19.0\n"
     ]
    },
    {
     "name": "stderr",
     "output_type": "stream",
     "text": [
      "[a2c|TrainMonitor|INFO] ep: 326,\tT: 8,262,\tG: 30,\tavg_r: 1,\tavg_G: 24.3,\tt: 30,\tdt: 14.467ms,\tSimpleTD/loss: 0.805,\tVanillaPG/loss: 0.0313\n"
     ]
    },
    {
     "name": "stdout",
     "output_type": "stream",
     "text": [
      "Epoch reward 30.0\n"
     ]
    },
    {
     "name": "stderr",
     "output_type": "stream",
     "text": [
      "[a2c|TrainMonitor|INFO] ep: 327,\tT: 8,287,\tG: 24,\tavg_r: 1,\tavg_G: 24.3,\tt: 24,\tdt: 15.978ms,\tSimpleTD/loss: 1.13,\tVanillaPG/loss: -0.289\n"
     ]
    },
    {
     "name": "stdout",
     "output_type": "stream",
     "text": [
      "Epoch reward 24.0\n"
     ]
    },
    {
     "name": "stderr",
     "output_type": "stream",
     "text": [
      "[a2c|TrainMonitor|INFO] ep: 328,\tT: 8,341,\tG: 53,\tavg_r: 1,\tavg_G: 27.1,\tt: 53,\tdt: 15.746ms,\tSimpleTD/loss: 0.502,\tVanillaPG/loss: 0.164\n"
     ]
    },
    {
     "name": "stdout",
     "output_type": "stream",
     "text": [
      "Epoch reward 53.0\n"
     ]
    },
    {
     "name": "stderr",
     "output_type": "stream",
     "text": [
      "[a2c|TrainMonitor|INFO] ep: 329,\tT: 8,402,\tG: 60,\tavg_r: 1,\tavg_G: 30.4,\tt: 60,\tdt: 15.612ms,\tSimpleTD/loss: 0.548,\tVanillaPG/loss: -0.293\n"
     ]
    },
    {
     "name": "stdout",
     "output_type": "stream",
     "text": [
      "Epoch reward 60.0\n"
     ]
    },
    {
     "name": "stderr",
     "output_type": "stream",
     "text": [
      "[a2c|TrainMonitor|INFO] ep: 330,\tT: 8,435,\tG: 32,\tavg_r: 1,\tavg_G: 30.6,\tt: 32,\tdt: 15.475ms,\tSimpleTD/loss: 0.916,\tVanillaPG/loss: -0.182\n"
     ]
    },
    {
     "name": "stdout",
     "output_type": "stream",
     "text": [
      "Epoch reward 32.0\n"
     ]
    },
    {
     "name": "stderr",
     "output_type": "stream",
     "text": [
      "[a2c|TrainMonitor|INFO] ep: 331,\tT: 8,452,\tG: 16,\tavg_r: 1,\tavg_G: 29.1,\tt: 16,\tdt: 15.825ms,\tSimpleTD/loss: 1.64,\tVanillaPG/loss: -0.114\n"
     ]
    },
    {
     "name": "stdout",
     "output_type": "stream",
     "text": [
      "Epoch reward 16.0\n"
     ]
    },
    {
     "name": "stderr",
     "output_type": "stream",
     "text": [
      "[a2c|TrainMonitor|INFO] ep: 332,\tT: 8,476,\tG: 23,\tavg_r: 1,\tavg_G: 28.5,\tt: 23,\tdt: 16.184ms,\tSimpleTD/loss: 0.518,\tVanillaPG/loss: 0.123\n"
     ]
    },
    {
     "name": "stdout",
     "output_type": "stream",
     "text": [
      "Epoch reward 23.0\n"
     ]
    },
    {
     "name": "stderr",
     "output_type": "stream",
     "text": [
      "[a2c|TrainMonitor|INFO] ep: 333,\tT: 8,493,\tG: 16,\tavg_r: 1,\tavg_G: 27.3,\tt: 16,\tdt: 13.987ms,\tSimpleTD/loss: 0.781,\tVanillaPG/loss: -0.273\n"
     ]
    },
    {
     "name": "stdout",
     "output_type": "stream",
     "text": [
      "Epoch reward 16.0\n"
     ]
    },
    {
     "name": "stderr",
     "output_type": "stream",
     "text": [
      "[a2c|TrainMonitor|INFO] ep: 334,\tT: 8,516,\tG: 22,\tavg_r: 1,\tavg_G: 26.7,\tt: 22,\tdt: 14.460ms,\tSimpleTD/loss: 0.782,\tVanillaPG/loss: 0.0731\n"
     ]
    },
    {
     "name": "stdout",
     "output_type": "stream",
     "text": [
      "Epoch reward 22.0\n"
     ]
    },
    {
     "name": "stderr",
     "output_type": "stream",
     "text": [
      "[a2c|TrainMonitor|INFO] ep: 335,\tT: 8,536,\tG: 19,\tavg_r: 1,\tavg_G: 26,\tt: 19,\tdt: 14.705ms,\tSimpleTD/loss: 0.796,\tVanillaPG/loss: 0.0969\n"
     ]
    },
    {
     "name": "stdout",
     "output_type": "stream",
     "text": [
      "Epoch reward 19.0\n"
     ]
    },
    {
     "name": "stderr",
     "output_type": "stream",
     "text": [
      "[a2c|TrainMonitor|INFO] ep: 336,\tT: 8,561,\tG: 24,\tavg_r: 1,\tavg_G: 25.8,\tt: 24,\tdt: 14.419ms,\tSimpleTD/loss: 0.599,\tVanillaPG/loss: 0.122\n"
     ]
    },
    {
     "name": "stdout",
     "output_type": "stream",
     "text": [
      "Epoch reward 24.0\n"
     ]
    },
    {
     "name": "stderr",
     "output_type": "stream",
     "text": [
      "[a2c|TrainMonitor|INFO] ep: 337,\tT: 8,585,\tG: 23,\tavg_r: 1,\tavg_G: 25.5,\tt: 23,\tdt: 14.402ms,\tSimpleTD/loss: 0.72,\tVanillaPG/loss: 0.0586\n"
     ]
    },
    {
     "name": "stdout",
     "output_type": "stream",
     "text": [
      "Epoch reward 23.0\n"
     ]
    },
    {
     "name": "stderr",
     "output_type": "stream",
     "text": [
      "[a2c|TrainMonitor|INFO] ep: 338,\tT: 8,616,\tG: 30,\tavg_r: 1,\tavg_G: 25.9,\tt: 30,\tdt: 14.628ms,\tSimpleTD/loss: 0.419,\tVanillaPG/loss: 0.131\n"
     ]
    },
    {
     "name": "stdout",
     "output_type": "stream",
     "text": [
      "Epoch reward 30.0\n"
     ]
    },
    {
     "name": "stderr",
     "output_type": "stream",
     "text": [
      "[a2c|TrainMonitor|INFO] ep: 339,\tT: 8,634,\tG: 17,\tavg_r: 1,\tavg_G: 25,\tt: 17,\tdt: 14.681ms,\tSimpleTD/loss: 0.905,\tVanillaPG/loss: -0.197\n"
     ]
    },
    {
     "name": "stdout",
     "output_type": "stream",
     "text": [
      "Epoch reward 17.0\n"
     ]
    },
    {
     "name": "stderr",
     "output_type": "stream",
     "text": [
      "[a2c|TrainMonitor|INFO] ep: 340,\tT: 8,669,\tG: 34,\tavg_r: 1,\tavg_G: 25.9,\tt: 34,\tdt: 14.619ms,\tSimpleTD/loss: 0.486,\tVanillaPG/loss: 0.0518\n"
     ]
    },
    {
     "name": "stdout",
     "output_type": "stream",
     "text": [
      "Epoch reward 34.0\n"
     ]
    },
    {
     "name": "stderr",
     "output_type": "stream",
     "text": [
      "[a2c|TrainMonitor|INFO] ep: 341,\tT: 8,690,\tG: 20,\tavg_r: 1,\tavg_G: 25.3,\tt: 20,\tdt: 14.153ms,\tSimpleTD/loss: 0.892,\tVanillaPG/loss: -0.0021\n"
     ]
    },
    {
     "name": "stdout",
     "output_type": "stream",
     "text": [
      "Epoch reward 20.0\n"
     ]
    },
    {
     "name": "stderr",
     "output_type": "stream",
     "text": [
      "[a2c|TrainMonitor|INFO] ep: 342,\tT: 8,721,\tG: 30,\tavg_r: 1,\tavg_G: 25.8,\tt: 30,\tdt: 14.254ms,\tSimpleTD/loss: 0.333,\tVanillaPG/loss: 0.121\n"
     ]
    },
    {
     "name": "stdout",
     "output_type": "stream",
     "text": [
      "Epoch reward 30.0\n"
     ]
    },
    {
     "name": "stderr",
     "output_type": "stream",
     "text": [
      "[a2c|TrainMonitor|INFO] ep: 343,\tT: 8,743,\tG: 21,\tavg_r: 1,\tavg_G: 25.3,\tt: 21,\tdt: 14.384ms,\tSimpleTD/loss: 0.395,\tVanillaPG/loss: 0.0884\n"
     ]
    },
    {
     "name": "stdout",
     "output_type": "stream",
     "text": [
      "Epoch reward 21.0\n"
     ]
    },
    {
     "name": "stderr",
     "output_type": "stream",
     "text": [
      "[a2c|TrainMonitor|INFO] ep: 344,\tT: 8,775,\tG: 31,\tavg_r: 1,\tavg_G: 25.9,\tt: 31,\tdt: 14.143ms,\tSimpleTD/loss: 0.431,\tVanillaPG/loss: 0.0243\n"
     ]
    },
    {
     "name": "stdout",
     "output_type": "stream",
     "text": [
      "Epoch reward 31.0\n"
     ]
    },
    {
     "name": "stderr",
     "output_type": "stream",
     "text": [
      "[a2c|TrainMonitor|INFO] ep: 345,\tT: 8,834,\tG: 58,\tavg_r: 1,\tavg_G: 29.1,\tt: 58,\tdt: 14.628ms,\tSimpleTD/loss: 0.309,\tVanillaPG/loss: 0.076\n"
     ]
    },
    {
     "name": "stdout",
     "output_type": "stream",
     "text": [
      "Epoch reward 58.0\n"
     ]
    },
    {
     "name": "stderr",
     "output_type": "stream",
     "text": [
      "[a2c|TrainMonitor|INFO] ep: 346,\tT: 8,873,\tG: 38,\tavg_r: 1,\tavg_G: 30,\tt: 38,\tdt: 14.729ms,\tSimpleTD/loss: 0.339,\tVanillaPG/loss: 0.0188\n"
     ]
    },
    {
     "name": "stdout",
     "output_type": "stream",
     "text": [
      "Epoch reward 38.0\n"
     ]
    },
    {
     "name": "stderr",
     "output_type": "stream",
     "text": [
      "[a2c|TrainMonitor|INFO] ep: 347,\tT: 8,963,\tG: 89,\tavg_r: 1,\tavg_G: 35.9,\tt: 89,\tdt: 14.125ms,\tSimpleTD/loss: 0.968,\tVanillaPG/loss: -0.0265\n"
     ]
    },
    {
     "name": "stdout",
     "output_type": "stream",
     "text": [
      "Epoch reward 89.0\n"
     ]
    },
    {
     "name": "stderr",
     "output_type": "stream",
     "text": [
      "[a2c|TrainMonitor|INFO] ep: 348,\tT: 9,002,\tG: 38,\tavg_r: 1,\tavg_G: 36.1,\tt: 38,\tdt: 14.854ms,\tSimpleTD/loss: 0.431,\tVanillaPG/loss: -0.29\n"
     ]
    },
    {
     "name": "stdout",
     "output_type": "stream",
     "text": [
      "Epoch reward 38.0\n"
     ]
    },
    {
     "name": "stderr",
     "output_type": "stream",
     "text": [
      "[a2c|TrainMonitor|INFO] ep: 349,\tT: 9,086,\tG: 83,\tavg_r: 1,\tavg_G: 40.8,\tt: 83,\tdt: 15.076ms,\tSimpleTD/loss: 0.375,\tVanillaPG/loss: 0.143\n"
     ]
    },
    {
     "name": "stdout",
     "output_type": "stream",
     "text": [
      "Epoch reward 83.0\n"
     ]
    },
    {
     "name": "stderr",
     "output_type": "stream",
     "text": [
      "[a2c|TrainMonitor|INFO] ep: 350,\tT: 9,146,\tG: 59,\tavg_r: 1,\tavg_G: 42.6,\tt: 59,\tdt: 14.312ms,\tSimpleTD/loss: 0.275,\tVanillaPG/loss: -0.225\n"
     ]
    },
    {
     "name": "stdout",
     "output_type": "stream",
     "text": [
      "Epoch reward 59.0\n"
     ]
    },
    {
     "name": "stderr",
     "output_type": "stream",
     "text": [
      "[a2c|TrainMonitor|INFO] ep: 351,\tT: 9,262,\tG: 115,\tavg_r: 1,\tavg_G: 49.9,\tt: 115,\tdt: 14.121ms,\tSimpleTD/loss: 0.524,\tVanillaPG/loss: -0.0614\n"
     ]
    },
    {
     "name": "stdout",
     "output_type": "stream",
     "text": [
      "Epoch reward 115.0\n"
     ]
    },
    {
     "name": "stderr",
     "output_type": "stream",
     "text": [
      "[a2c|TrainMonitor|INFO] ep: 352,\tT: 9,346,\tG: 83,\tavg_r: 1,\tavg_G: 53.2,\tt: 83,\tdt: 14.551ms,\tSimpleTD/loss: 0.526,\tVanillaPG/loss: 0.00791\n"
     ]
    },
    {
     "name": "stdout",
     "output_type": "stream",
     "text": [
      "Epoch reward 83.0\n"
     ]
    },
    {
     "name": "stderr",
     "output_type": "stream",
     "text": [
      "[a2c|TrainMonitor|INFO] ep: 353,\tT: 9,408,\tG: 61,\tavg_r: 1,\tavg_G: 54,\tt: 61,\tdt: 14.195ms,\tSimpleTD/loss: 0.26,\tVanillaPG/loss: 0.0334\n"
     ]
    },
    {
     "name": "stdout",
     "output_type": "stream",
     "text": [
      "Epoch reward 61.0\n"
     ]
    },
    {
     "name": "stderr",
     "output_type": "stream",
     "text": [
      "[a2c|TrainMonitor|INFO] ep: 354,\tT: 9,455,\tG: 46,\tavg_r: 1,\tavg_G: 53.2,\tt: 46,\tdt: 14.621ms,\tSimpleTD/loss: 0.459,\tVanillaPG/loss: 0.0349\n"
     ]
    },
    {
     "name": "stdout",
     "output_type": "stream",
     "text": [
      "Epoch reward 46.0\n"
     ]
    },
    {
     "name": "stderr",
     "output_type": "stream",
     "text": [
      "[a2c|TrainMonitor|INFO] ep: 355,\tT: 9,544,\tG: 88,\tavg_r: 1,\tavg_G: 56.6,\tt: 88,\tdt: 14.310ms,\tSimpleTD/loss: 0.161,\tVanillaPG/loss: 0.0357\n"
     ]
    },
    {
     "name": "stdout",
     "output_type": "stream",
     "text": [
      "Epoch reward 88.0\n"
     ]
    },
    {
     "name": "stderr",
     "output_type": "stream",
     "text": [
      "[a2c|TrainMonitor|INFO] ep: 356,\tT: 9,587,\tG: 42,\tavg_r: 1,\tavg_G: 55.2,\tt: 42,\tdt: 14.829ms,\tSimpleTD/loss: 0.116,\tVanillaPG/loss: -0.00557\n"
     ]
    },
    {
     "name": "stdout",
     "output_type": "stream",
     "text": [
      "Epoch reward 42.0\n"
     ]
    },
    {
     "name": "stderr",
     "output_type": "stream",
     "text": [
      "[a2c|TrainMonitor|INFO] ep: 357,\tT: 9,641,\tG: 53,\tavg_r: 1,\tavg_G: 55,\tt: 53,\tdt: 14.071ms,\tSimpleTD/loss: 0.0795,\tVanillaPG/loss: 0.0227\n"
     ]
    },
    {
     "name": "stdout",
     "output_type": "stream",
     "text": [
      "Epoch reward 53.0\n"
     ]
    },
    {
     "name": "stderr",
     "output_type": "stream",
     "text": [
      "[a2c|TrainMonitor|INFO] ep: 358,\tT: 9,675,\tG: 33,\tavg_r: 1,\tavg_G: 52.8,\tt: 33,\tdt: 14.345ms,\tSimpleTD/loss: 0.407,\tVanillaPG/loss: -0.199\n"
     ]
    },
    {
     "name": "stdout",
     "output_type": "stream",
     "text": [
      "Epoch reward 33.0\n"
     ]
    },
    {
     "name": "stderr",
     "output_type": "stream",
     "text": [
      "[a2c|TrainMonitor|INFO] ep: 359,\tT: 9,729,\tG: 53,\tavg_r: 1,\tavg_G: 52.8,\tt: 53,\tdt: 14.385ms,\tSimpleTD/loss: 0.668,\tVanillaPG/loss: 0.114\n"
     ]
    },
    {
     "name": "stdout",
     "output_type": "stream",
     "text": [
      "Epoch reward 53.0\n"
     ]
    },
    {
     "name": "stderr",
     "output_type": "stream",
     "text": [
      "[a2c|TrainMonitor|INFO] ep: 360,\tT: 9,833,\tG: 103,\tavg_r: 1,\tavg_G: 57.8,\tt: 103,\tdt: 14.565ms,\tSimpleTD/loss: 0.261,\tVanillaPG/loss: -0.0275\n"
     ]
    },
    {
     "name": "stdout",
     "output_type": "stream",
     "text": [
      "Epoch reward 103.0\n"
     ]
    },
    {
     "name": "stderr",
     "output_type": "stream",
     "text": [
      "[a2c|TrainMonitor|INFO] ep: 361,\tT: 10,034,\tG: 200,\tavg_r: 1,\tavg_G: 72,\tt: 200,\tdt: 14.471ms,\tSimpleTD/loss: 0.00555,\tVanillaPG/loss: -0.0204\n"
     ]
    },
    {
     "name": "stdout",
     "output_type": "stream",
     "text": [
      "Epoch reward 209.0\n"
     ]
    },
    {
     "name": "stderr",
     "output_type": "stream",
     "text": [
      "[a2c|TrainMonitor|INFO] ep: 362,\tT: 10,105,\tG: 70,\tavg_r: 1,\tavg_G: 71.8,\tt: 70,\tdt: 14.668ms,\tSimpleTD/loss: 0.373,\tVanillaPG/loss: 0.0117\n"
     ]
    },
    {
     "name": "stdout",
     "output_type": "stream",
     "text": [
      "Epoch reward 70.0\n"
     ]
    },
    {
     "name": "stderr",
     "output_type": "stream",
     "text": [
      "[a2c|TrainMonitor|INFO] ep: 363,\tT: 10,152,\tG: 46,\tavg_r: 1,\tavg_G: 69.2,\tt: 46,\tdt: 14.446ms,\tSimpleTD/loss: 0.383,\tVanillaPG/loss: 0.0165\n"
     ]
    },
    {
     "name": "stdout",
     "output_type": "stream",
     "text": [
      "Epoch reward 46.0\n"
     ]
    },
    {
     "name": "stderr",
     "output_type": "stream",
     "text": [
      "[a2c|TrainMonitor|INFO] ep: 364,\tT: 10,185,\tG: 32,\tavg_r: 1,\tavg_G: 65.5,\tt: 32,\tdt: 14.135ms,\tSimpleTD/loss: 0.37,\tVanillaPG/loss: -0.0874\n"
     ]
    },
    {
     "name": "stdout",
     "output_type": "stream",
     "text": [
      "Epoch reward 32.0\n"
     ]
    },
    {
     "name": "stderr",
     "output_type": "stream",
     "text": [
      "[a2c|TrainMonitor|INFO] ep: 365,\tT: 10,224,\tG: 38,\tavg_r: 1,\tavg_G: 62.8,\tt: 38,\tdt: 15.555ms,\tSimpleTD/loss: 0.327,\tVanillaPG/loss: 0.0376\n"
     ]
    },
    {
     "name": "stdout",
     "output_type": "stream",
     "text": [
      "Epoch reward 38.0\n"
     ]
    },
    {
     "name": "stderr",
     "output_type": "stream",
     "text": [
      "[a2c|TrainMonitor|INFO] ep: 366,\tT: 10,263,\tG: 38,\tavg_r: 1,\tavg_G: 60.3,\tt: 38,\tdt: 13.951ms,\tSimpleTD/loss: 0.345,\tVanillaPG/loss: -0.0223\n"
     ]
    },
    {
     "name": "stdout",
     "output_type": "stream",
     "text": [
      "Epoch reward 38.0\n"
     ]
    },
    {
     "name": "stderr",
     "output_type": "stream",
     "text": [
      "[a2c|TrainMonitor|INFO] ep: 367,\tT: 10,295,\tG: 31,\tavg_r: 1,\tavg_G: 57.4,\tt: 31,\tdt: 14.612ms,\tSimpleTD/loss: 0.266,\tVanillaPG/loss: 0.0163\n"
     ]
    },
    {
     "name": "stdout",
     "output_type": "stream",
     "text": [
      "Epoch reward 31.0\n"
     ]
    },
    {
     "name": "stderr",
     "output_type": "stream",
     "text": [
      "[a2c|TrainMonitor|INFO] ep: 368,\tT: 10,342,\tG: 46,\tavg_r: 1,\tavg_G: 56.2,\tt: 46,\tdt: 14.820ms,\tSimpleTD/loss: 0.06,\tVanillaPG/loss: 0.0414\n"
     ]
    },
    {
     "name": "stdout",
     "output_type": "stream",
     "text": [
      "Epoch reward 46.0\n"
     ]
    },
    {
     "name": "stderr",
     "output_type": "stream",
     "text": [
      "[a2c|TrainMonitor|INFO] ep: 369,\tT: 10,378,\tG: 35,\tavg_r: 1,\tavg_G: 54.1,\tt: 35,\tdt: 14.391ms,\tSimpleTD/loss: 0.281,\tVanillaPG/loss: 0.0176\n"
     ]
    },
    {
     "name": "stdout",
     "output_type": "stream",
     "text": [
      "Epoch reward 35.0\n"
     ]
    },
    {
     "name": "stderr",
     "output_type": "stream",
     "text": [
      "[a2c|TrainMonitor|INFO] ep: 370,\tT: 10,418,\tG: 39,\tavg_r: 1,\tavg_G: 52.6,\tt: 39,\tdt: 14.711ms,\tSimpleTD/loss: 0.247,\tVanillaPG/loss: -0.0803\n"
     ]
    },
    {
     "name": "stdout",
     "output_type": "stream",
     "text": [
      "Epoch reward 39.0\n"
     ]
    },
    {
     "name": "stderr",
     "output_type": "stream",
     "text": [
      "[a2c|TrainMonitor|INFO] ep: 371,\tT: 10,456,\tG: 37,\tavg_r: 1,\tavg_G: 51,\tt: 37,\tdt: 14.781ms,\tSimpleTD/loss: 0.0704,\tVanillaPG/loss: 0.06\n"
     ]
    },
    {
     "name": "stdout",
     "output_type": "stream",
     "text": [
      "Epoch reward 37.0\n"
     ]
    },
    {
     "name": "stderr",
     "output_type": "stream",
     "text": [
      "[a2c|TrainMonitor|INFO] ep: 372,\tT: 10,584,\tG: 127,\tavg_r: 1,\tavg_G: 58.6,\tt: 127,\tdt: 14.362ms,\tSimpleTD/loss: 0.14,\tVanillaPG/loss: 0.0331\n"
     ]
    },
    {
     "name": "stdout",
     "output_type": "stream",
     "text": [
      "Epoch reward 127.0\n"
     ]
    },
    {
     "name": "stderr",
     "output_type": "stream",
     "text": [
      "[a2c|TrainMonitor|INFO] ep: 373,\tT: 10,663,\tG: 78,\tavg_r: 1,\tavg_G: 60.6,\tt: 78,\tdt: 14.099ms,\tSimpleTD/loss: 0.338,\tVanillaPG/loss: -0.0762\n"
     ]
    },
    {
     "name": "stdout",
     "output_type": "stream",
     "text": [
      "Epoch reward 78.0\n"
     ]
    },
    {
     "name": "stderr",
     "output_type": "stream",
     "text": [
      "[a2c|TrainMonitor|INFO] ep: 374,\tT: 10,748,\tG: 84,\tavg_r: 1,\tavg_G: 62.9,\tt: 84,\tdt: 14.373ms,\tSimpleTD/loss: 0.407,\tVanillaPG/loss: -0.0379\n"
     ]
    },
    {
     "name": "stdout",
     "output_type": "stream",
     "text": [
      "Epoch reward 84.0\n"
     ]
    },
    {
     "name": "stderr",
     "output_type": "stream",
     "text": [
      "[a2c|TrainMonitor|INFO] ep: 375,\tT: 10,828,\tG: 79,\tavg_r: 1,\tavg_G: 64.5,\tt: 79,\tdt: 14.587ms,\tSimpleTD/loss: 0.513,\tVanillaPG/loss: 0.041\n"
     ]
    },
    {
     "name": "stdout",
     "output_type": "stream",
     "text": [
      "Epoch reward 79.0\n"
     ]
    },
    {
     "name": "stderr",
     "output_type": "stream",
     "text": [
      "[a2c|TrainMonitor|INFO] ep: 376,\tT: 11,029,\tG: 200,\tavg_r: 1,\tavg_G: 78.1,\tt: 200,\tdt: 14.372ms,\tSimpleTD/loss: 0.0209,\tVanillaPG/loss: -0.00736\n"
     ]
    },
    {
     "name": "stdout",
     "output_type": "stream",
     "text": [
      "Epoch reward 209.0\n"
     ]
    },
    {
     "name": "stderr",
     "output_type": "stream",
     "text": [
      "[a2c|TrainMonitor|INFO] ep: 377,\tT: 11,188,\tG: 158,\tavg_r: 1,\tavg_G: 86.1,\tt: 158,\tdt: 14.621ms,\tSimpleTD/loss: 0.202,\tVanillaPG/loss: -0.0339\n"
     ]
    },
    {
     "name": "stdout",
     "output_type": "stream",
     "text": [
      "Epoch reward 158.0\n"
     ]
    },
    {
     "name": "stderr",
     "output_type": "stream",
     "text": [
      "[a2c|TrainMonitor|INFO] ep: 378,\tT: 11,245,\tG: 56,\tavg_r: 1,\tavg_G: 83.1,\tt: 56,\tdt: 14.621ms,\tSimpleTD/loss: 0.437,\tVanillaPG/loss: -0.413\n"
     ]
    },
    {
     "name": "stdout",
     "output_type": "stream",
     "text": [
      "Epoch reward 56.0\n"
     ]
    },
    {
     "name": "stderr",
     "output_type": "stream",
     "text": [
      "[a2c|TrainMonitor|INFO] ep: 379,\tT: 11,446,\tG: 200,\tavg_r: 1,\tavg_G: 94.7,\tt: 200,\tdt: 14.798ms,\tSimpleTD/loss: 0.0102,\tVanillaPG/loss: -0.00883\n"
     ]
    },
    {
     "name": "stdout",
     "output_type": "stream",
     "text": [
      "Epoch reward 209.0\n"
     ]
    },
    {
     "name": "stderr",
     "output_type": "stream",
     "text": [
      "[a2c|TrainMonitor|INFO] ep: 380,\tT: 11,647,\tG: 200,\tavg_r: 1,\tavg_G: 105,\tt: 200,\tdt: 14.644ms,\tSimpleTD/loss: 0.00319,\tVanillaPG/loss: -0.0107\n"
     ]
    },
    {
     "name": "stdout",
     "output_type": "stream",
     "text": [
      "Epoch reward 209.0\n"
     ]
    },
    {
     "name": "stderr",
     "output_type": "stream",
     "text": [
      "[a2c|TrainMonitor|INFO] ep: 381,\tT: 11,848,\tG: 200,\tavg_r: 1,\tavg_G: 115,\tt: 200,\tdt: 14.762ms,\tSimpleTD/loss: 0.00176,\tVanillaPG/loss: -0.0191\n"
     ]
    },
    {
     "name": "stdout",
     "output_type": "stream",
     "text": [
      "Epoch reward 209.0\n"
     ]
    },
    {
     "name": "stderr",
     "output_type": "stream",
     "text": [
      "[a2c|TrainMonitor|INFO] ep: 382,\tT: 12,040,\tG: 191,\tavg_r: 1,\tavg_G: 122,\tt: 191,\tdt: 14.209ms,\tSimpleTD/loss: 0.196,\tVanillaPG/loss: -0.0343\n"
     ]
    },
    {
     "name": "stdout",
     "output_type": "stream",
     "text": [
      "Epoch reward 191.0\n"
     ]
    },
    {
     "name": "stderr",
     "output_type": "stream",
     "text": [
      "[a2c|TrainMonitor|INFO] ep: 383,\tT: 12,119,\tG: 78,\tavg_r: 1,\tavg_G: 118,\tt: 78,\tdt: 14.518ms,\tSimpleTD/loss: 0.176,\tVanillaPG/loss: 0.018\n"
     ]
    },
    {
     "name": "stdout",
     "output_type": "stream",
     "text": [
      "Epoch reward 78.0\n"
     ]
    },
    {
     "name": "stderr",
     "output_type": "stream",
     "text": [
      "[a2c|TrainMonitor|INFO] ep: 384,\tT: 12,245,\tG: 125,\tavg_r: 1,\tavg_G: 119,\tt: 125,\tdt: 14.589ms,\tSimpleTD/loss: 0.0593,\tVanillaPG/loss: 0.00326\n"
     ]
    },
    {
     "name": "stdout",
     "output_type": "stream",
     "text": [
      "Epoch reward 125.0\n"
     ]
    },
    {
     "name": "stderr",
     "output_type": "stream",
     "text": [
      "[a2c|TrainMonitor|INFO] ep: 385,\tT: 12,446,\tG: 200,\tavg_r: 1,\tavg_G: 127,\tt: 200,\tdt: 14.395ms,\tSimpleTD/loss: 0.0247,\tVanillaPG/loss: -0.0141\n"
     ]
    },
    {
     "name": "stdout",
     "output_type": "stream",
     "text": [
      "Epoch reward 209.0\n"
     ]
    },
    {
     "name": "stderr",
     "output_type": "stream",
     "text": [
      "[a2c|TrainMonitor|INFO] ep: 386,\tT: 12,647,\tG: 200,\tavg_r: 1,\tavg_G: 134,\tt: 200,\tdt: 14.676ms,\tSimpleTD/loss: 0.00408,\tVanillaPG/loss: -0.0137\n"
     ]
    },
    {
     "name": "stdout",
     "output_type": "stream",
     "text": [
      "Epoch reward 209.0\n"
     ]
    },
    {
     "name": "stderr",
     "output_type": "stream",
     "text": [
      "[a2c|TrainMonitor|INFO] ep: 387,\tT: 12,848,\tG: 200,\tavg_r: 1,\tavg_G: 141,\tt: 200,\tdt: 15.066ms,\tSimpleTD/loss: 0.00196,\tVanillaPG/loss: -0.00342\n"
     ]
    },
    {
     "name": "stdout",
     "output_type": "stream",
     "text": [
      "Epoch reward 209.0\n"
     ]
    },
    {
     "name": "stderr",
     "output_type": "stream",
     "text": [
      "[a2c|TrainMonitor|INFO] ep: 388,\tT: 13,049,\tG: 200,\tavg_r: 1,\tavg_G: 147,\tt: 200,\tdt: 14.430ms,\tSimpleTD/loss: 0.000721,\tVanillaPG/loss: -0.00896\n"
     ]
    },
    {
     "name": "stdout",
     "output_type": "stream",
     "text": [
      "Epoch reward 209.0\n"
     ]
    },
    {
     "name": "stderr",
     "output_type": "stream",
     "text": [
      "[a2c|TrainMonitor|INFO] ep: 389,\tT: 13,250,\tG: 200,\tavg_r: 1,\tavg_G: 152,\tt: 200,\tdt: 14.071ms,\tSimpleTD/loss: 0.00265,\tVanillaPG/loss: 0.000195\n"
     ]
    },
    {
     "name": "stdout",
     "output_type": "stream",
     "text": [
      "Epoch reward 209.0\n"
     ]
    },
    {
     "name": "stderr",
     "output_type": "stream",
     "text": [
      "[a2c|TrainMonitor|INFO] ep: 390,\tT: 13,451,\tG: 200,\tavg_r: 1,\tavg_G: 157,\tt: 200,\tdt: 14.391ms,\tSimpleTD/loss: 0.00378,\tVanillaPG/loss: -0.0136\n"
     ]
    },
    {
     "name": "stdout",
     "output_type": "stream",
     "text": [
      "Epoch reward 209.0\n"
     ]
    },
    {
     "name": "stderr",
     "output_type": "stream",
     "text": [
      "[a2c|TrainMonitor|INFO] ep: 391,\tT: 13,613,\tG: 161,\tavg_r: 1,\tavg_G: 157,\tt: 161,\tdt: 14.324ms,\tSimpleTD/loss: 0.264,\tVanillaPG/loss: -0.00895\n"
     ]
    },
    {
     "name": "stdout",
     "output_type": "stream",
     "text": [
      "Epoch reward 161.0\n"
     ]
    },
    {
     "name": "stderr",
     "output_type": "stream",
     "text": [
      "[a2c|TrainMonitor|INFO] ep: 392,\tT: 13,764,\tG: 150,\tavg_r: 1,\tavg_G: 156,\tt: 150,\tdt: 14.879ms,\tSimpleTD/loss: 0.144,\tVanillaPG/loss: 0.0284\n"
     ]
    },
    {
     "name": "stdout",
     "output_type": "stream",
     "text": [
      "Epoch reward 150.0\n"
     ]
    },
    {
     "name": "stderr",
     "output_type": "stream",
     "text": [
      "[a2c|TrainMonitor|INFO] ep: 393,\tT: 13,846,\tG: 81,\tavg_r: 1,\tavg_G: 149,\tt: 81,\tdt: 14.262ms,\tSimpleTD/loss: 0.484,\tVanillaPG/loss: 0.013\n"
     ]
    },
    {
     "name": "stdout",
     "output_type": "stream",
     "text": [
      "Epoch reward 81.0\n"
     ]
    },
    {
     "name": "stderr",
     "output_type": "stream",
     "text": [
      "[a2c|TrainMonitor|INFO] ep: 394,\tT: 13,987,\tG: 140,\tavg_r: 1,\tavg_G: 148,\tt: 140,\tdt: 14.486ms,\tSimpleTD/loss: 0.174,\tVanillaPG/loss: 0.0296\n"
     ]
    },
    {
     "name": "stdout",
     "output_type": "stream",
     "text": [
      "Epoch reward 140.0\n"
     ]
    },
    {
     "name": "stderr",
     "output_type": "stream",
     "text": [
      "[a2c|TrainMonitor|INFO] ep: 395,\tT: 14,152,\tG: 164,\tavg_r: 1,\tavg_G: 150,\tt: 164,\tdt: 14.218ms,\tSimpleTD/loss: 0.267,\tVanillaPG/loss: -0.00415\n"
     ]
    },
    {
     "name": "stdout",
     "output_type": "stream",
     "text": [
      "Epoch reward 164.0\n"
     ]
    },
    {
     "name": "stderr",
     "output_type": "stream",
     "text": [
      "[a2c|TrainMonitor|INFO] ep: 396,\tT: 14,279,\tG: 126,\tavg_r: 1,\tavg_G: 147,\tt: 126,\tdt: 14.636ms,\tSimpleTD/loss: 0.227,\tVanillaPG/loss: 0.0301\n"
     ]
    },
    {
     "name": "stdout",
     "output_type": "stream",
     "text": [
      "Epoch reward 126.0\n"
     ]
    },
    {
     "name": "stderr",
     "output_type": "stream",
     "text": [
      "[a2c|TrainMonitor|INFO] ep: 397,\tT: 14,305,\tG: 25,\tavg_r: 1,\tavg_G: 135,\tt: 25,\tdt: 14.781ms,\tSimpleTD/loss: 2.07,\tVanillaPG/loss: -0.106\n"
     ]
    },
    {
     "name": "stdout",
     "output_type": "stream",
     "text": [
      "Epoch reward 25.0\n"
     ]
    },
    {
     "name": "stderr",
     "output_type": "stream",
     "text": [
      "[a2c|TrainMonitor|INFO] ep: 398,\tT: 14,337,\tG: 31,\tavg_r: 1,\tavg_G: 125,\tt: 31,\tdt: 14.450ms,\tSimpleTD/loss: 0.855,\tVanillaPG/loss: -0.0163\n"
     ]
    },
    {
     "name": "stdout",
     "output_type": "stream",
     "text": [
      "Epoch reward 31.0\n"
     ]
    },
    {
     "name": "stderr",
     "output_type": "stream",
     "text": [
      "[a2c|TrainMonitor|INFO] ep: 399,\tT: 14,364,\tG: 26,\tavg_r: 1,\tavg_G: 115,\tt: 26,\tdt: 14.362ms,\tSimpleTD/loss: 0.88,\tVanillaPG/loss: -0.262\n"
     ]
    },
    {
     "name": "stdout",
     "output_type": "stream",
     "text": [
      "Epoch reward 26.0\n"
     ]
    },
    {
     "name": "stderr",
     "output_type": "stream",
     "text": [
      "[a2c|TrainMonitor|INFO] ep: 400,\tT: 14,389,\tG: 24,\tavg_r: 1,\tavg_G: 106,\tt: 24,\tdt: 14.968ms,\tSimpleTD/loss: 0.957,\tVanillaPG/loss: -0.0277\n"
     ]
    },
    {
     "name": "stdout",
     "output_type": "stream",
     "text": [
      "Epoch reward 24.0\n"
     ]
    },
    {
     "name": "stderr",
     "output_type": "stream",
     "text": [
      "[a2c|TrainMonitor|INFO] ep: 401,\tT: 14,407,\tG: 17,\tavg_r: 1,\tavg_G: 96.8,\tt: 17,\tdt: 15.118ms,\tSimpleTD/loss: 1.41,\tVanillaPG/loss: 0.0435\n",
      "[a2c|TrainMonitor|INFO] ep: 402,\tT: 14,421,\tG: 13,\tavg_r: 1,\tavg_G: 88.4,\tt: 13,\tdt: 14.573ms,\tSimpleTD/loss: 1.06,\tVanillaPG/loss: 0.0105\n"
     ]
    },
    {
     "name": "stdout",
     "output_type": "stream",
     "text": [
      "Epoch reward 17.0\n",
      "Epoch reward 13.0\n"
     ]
    },
    {
     "name": "stderr",
     "output_type": "stream",
     "text": [
      "[a2c|TrainMonitor|INFO] ep: 403,\tT: 14,433,\tG: 11,\tavg_r: 1,\tavg_G: 80.7,\tt: 11,\tdt: 14.247ms,\tSimpleTD/loss: 0.731,\tVanillaPG/loss: -0.0358\n",
      "[a2c|TrainMonitor|INFO] ep: 404,\tT: 14,444,\tG: 10,\tavg_r: 1,\tavg_G: 73.6,\tt: 10,\tdt: 14.776ms,\tSimpleTD/loss: 0.604,\tVanillaPG/loss: -0.132\n"
     ]
    },
    {
     "name": "stdout",
     "output_type": "stream",
     "text": [
      "Epoch reward 11.0\n",
      "Epoch reward 10.0\n"
     ]
    },
    {
     "name": "stderr",
     "output_type": "stream",
     "text": [
      "[a2c|TrainMonitor|INFO] ep: 405,\tT: 14,457,\tG: 12,\tavg_r: 1,\tavg_G: 67.5,\tt: 12,\tdt: 14.535ms,\tSimpleTD/loss: 0.289,\tVanillaPG/loss: 0.0426\n"
     ]
    },
    {
     "name": "stdout",
     "output_type": "stream",
     "text": [
      "Epoch reward 12.0\n"
     ]
    },
    {
     "name": "stderr",
     "output_type": "stream",
     "text": [
      "[a2c|TrainMonitor|INFO] ep: 406,\tT: 14,478,\tG: 20,\tavg_r: 1,\tavg_G: 62.7,\tt: 20,\tdt: 15.272ms,\tSimpleTD/loss: 0.902,\tVanillaPG/loss: 0.00659\n"
     ]
    },
    {
     "name": "stdout",
     "output_type": "stream",
     "text": [
      "Epoch reward 20.0\n"
     ]
    },
    {
     "name": "stderr",
     "output_type": "stream",
     "text": [
      "[a2c|TrainMonitor|INFO] ep: 407,\tT: 14,502,\tG: 23,\tavg_r: 1,\tavg_G: 58.7,\tt: 23,\tdt: 14.372ms,\tSimpleTD/loss: 0.912,\tVanillaPG/loss: 0.0401\n"
     ]
    },
    {
     "name": "stdout",
     "output_type": "stream",
     "text": [
      "Epoch reward 23.0\n"
     ]
    },
    {
     "name": "stderr",
     "output_type": "stream",
     "text": [
      "[a2c|TrainMonitor|INFO] ep: 408,\tT: 14,522,\tG: 19,\tavg_r: 1,\tavg_G: 54.8,\tt: 19,\tdt: 14.144ms,\tSimpleTD/loss: 1.08,\tVanillaPG/loss: 0.0435\n"
     ]
    },
    {
     "name": "stdout",
     "output_type": "stream",
     "text": [
      "Epoch reward 19.0\n"
     ]
    },
    {
     "name": "stderr",
     "output_type": "stream",
     "text": [
      "[a2c|TrainMonitor|INFO] ep: 409,\tT: 14,554,\tG: 31,\tavg_r: 1,\tavg_G: 52.4,\tt: 31,\tdt: 15.155ms,\tSimpleTD/loss: 0.734,\tVanillaPG/loss: 0.013\n"
     ]
    },
    {
     "name": "stdout",
     "output_type": "stream",
     "text": [
      "Epoch reward 31.0\n"
     ]
    },
    {
     "name": "stderr",
     "output_type": "stream",
     "text": [
      "[a2c|TrainMonitor|INFO] ep: 410,\tT: 14,581,\tG: 26,\tavg_r: 1,\tavg_G: 49.8,\tt: 26,\tdt: 14.383ms,\tSimpleTD/loss: 0.852,\tVanillaPG/loss: -1.21\n"
     ]
    },
    {
     "name": "stdout",
     "output_type": "stream",
     "text": [
      "Epoch reward 26.0\n"
     ]
    },
    {
     "name": "stderr",
     "output_type": "stream",
     "text": [
      "[a2c|TrainMonitor|INFO] ep: 411,\tT: 14,627,\tG: 45,\tavg_r: 1,\tavg_G: 49.3,\tt: 45,\tdt: 14.333ms,\tSimpleTD/loss: 0.323,\tVanillaPG/loss: 0.0233\n"
     ]
    },
    {
     "name": "stdout",
     "output_type": "stream",
     "text": [
      "Epoch reward 45.0\n"
     ]
    },
    {
     "name": "stderr",
     "output_type": "stream",
     "text": [
      "[a2c|TrainMonitor|INFO] ep: 412,\tT: 14,675,\tG: 47,\tavg_r: 1,\tavg_G: 49.1,\tt: 47,\tdt: 14.818ms,\tSimpleTD/loss: 0.319,\tVanillaPG/loss: 0.0121\n"
     ]
    },
    {
     "name": "stdout",
     "output_type": "stream",
     "text": [
      "Epoch reward 47.0\n"
     ]
    },
    {
     "name": "stderr",
     "output_type": "stream",
     "text": [
      "[a2c|TrainMonitor|INFO] ep: 413,\tT: 14,721,\tG: 45,\tavg_r: 1,\tavg_G: 48.6,\tt: 45,\tdt: 14.165ms,\tSimpleTD/loss: 0.285,\tVanillaPG/loss: 0.00506\n"
     ]
    },
    {
     "name": "stdout",
     "output_type": "stream",
     "text": [
      "Epoch reward 45.0\n"
     ]
    },
    {
     "name": "stderr",
     "output_type": "stream",
     "text": [
      "[a2c|TrainMonitor|INFO] ep: 414,\tT: 14,789,\tG: 67,\tavg_r: 1,\tavg_G: 50.5,\tt: 67,\tdt: 14.703ms,\tSimpleTD/loss: 0.171,\tVanillaPG/loss: 0.00604\n"
     ]
    },
    {
     "name": "stdout",
     "output_type": "stream",
     "text": [
      "Epoch reward 67.0\n"
     ]
    },
    {
     "name": "stderr",
     "output_type": "stream",
     "text": [
      "[a2c|TrainMonitor|INFO] ep: 415,\tT: 14,844,\tG: 54,\tavg_r: 1,\tavg_G: 50.8,\tt: 54,\tdt: 14.935ms,\tSimpleTD/loss: 0.105,\tVanillaPG/loss: -0.0035\n"
     ]
    },
    {
     "name": "stdout",
     "output_type": "stream",
     "text": [
      "Epoch reward 54.0\n"
     ]
    },
    {
     "name": "stderr",
     "output_type": "stream",
     "text": [
      "[a2c|TrainMonitor|INFO] ep: 416,\tT: 14,929,\tG: 84,\tavg_r: 1,\tavg_G: 54.2,\tt: 84,\tdt: 14.681ms,\tSimpleTD/loss: 0.0547,\tVanillaPG/loss: 0.00226\n"
     ]
    },
    {
     "name": "stdout",
     "output_type": "stream",
     "text": [
      "Epoch reward 84.0\n"
     ]
    },
    {
     "name": "stderr",
     "output_type": "stream",
     "text": [
      "[a2c|TrainMonitor|INFO] ep: 417,\tT: 15,003,\tG: 73,\tavg_r: 1,\tavg_G: 56,\tt: 73,\tdt: 14.615ms,\tSimpleTD/loss: 0.0367,\tVanillaPG/loss: 0.00851\n"
     ]
    },
    {
     "name": "stdout",
     "output_type": "stream",
     "text": [
      "Epoch reward 73.0\n"
     ]
    },
    {
     "name": "stderr",
     "output_type": "stream",
     "text": [
      "[a2c|TrainMonitor|INFO] ep: 418,\tT: 15,089,\tG: 85,\tavg_r: 1,\tavg_G: 58.9,\tt: 85,\tdt: 13.863ms,\tSimpleTD/loss: 0.264,\tVanillaPG/loss: -0.0105\n"
     ]
    },
    {
     "name": "stdout",
     "output_type": "stream",
     "text": [
      "Epoch reward 85.0\n"
     ]
    },
    {
     "name": "stderr",
     "output_type": "stream",
     "text": [
      "[a2c|TrainMonitor|INFO] ep: 419,\tT: 15,163,\tG: 73,\tavg_r: 1,\tavg_G: 60.3,\tt: 73,\tdt: 14.610ms,\tSimpleTD/loss: 0.303,\tVanillaPG/loss: -0.047\n"
     ]
    },
    {
     "name": "stdout",
     "output_type": "stream",
     "text": [
      "Epoch reward 73.0\n"
     ]
    },
    {
     "name": "stderr",
     "output_type": "stream",
     "text": [
      "[a2c|TrainMonitor|INFO] ep: 420,\tT: 15,293,\tG: 129,\tavg_r: 1,\tavg_G: 67.2,\tt: 129,\tdt: 14.331ms,\tSimpleTD/loss: 0.272,\tVanillaPG/loss: 0.0204\n"
     ]
    },
    {
     "name": "stdout",
     "output_type": "stream",
     "text": [
      "Epoch reward 129.0\n"
     ]
    },
    {
     "name": "stderr",
     "output_type": "stream",
     "text": [
      "[a2c|TrainMonitor|INFO] ep: 421,\tT: 15,449,\tG: 155,\tavg_r: 1,\tavg_G: 76,\tt: 155,\tdt: 14.641ms,\tSimpleTD/loss: 0.121,\tVanillaPG/loss: 0.00601\n"
     ]
    },
    {
     "name": "stdout",
     "output_type": "stream",
     "text": [
      "Epoch reward 155.0\n"
     ]
    },
    {
     "name": "stderr",
     "output_type": "stream",
     "text": [
      "[a2c|TrainMonitor|INFO] ep: 422,\tT: 15,603,\tG: 153,\tavg_r: 1,\tavg_G: 83.7,\tt: 153,\tdt: 14.403ms,\tSimpleTD/loss: 0.0731,\tVanillaPG/loss: 0.00458\n"
     ]
    },
    {
     "name": "stdout",
     "output_type": "stream",
     "text": [
      "Epoch reward 153.0\n"
     ]
    },
    {
     "name": "stderr",
     "output_type": "stream",
     "text": [
      "[a2c|TrainMonitor|INFO] ep: 423,\tT: 15,785,\tG: 181,\tavg_r: 1,\tavg_G: 93.4,\tt: 181,\tdt: 14.235ms,\tSimpleTD/loss: 0.147,\tVanillaPG/loss: 0.00666\n"
     ]
    },
    {
     "name": "stdout",
     "output_type": "stream",
     "text": [
      "Epoch reward 181.0\n"
     ]
    },
    {
     "name": "stderr",
     "output_type": "stream",
     "text": [
      "[a2c|TrainMonitor|INFO] ep: 424,\tT: 15,940,\tG: 154,\tavg_r: 1,\tavg_G: 99.5,\tt: 154,\tdt: 14.442ms,\tSimpleTD/loss: 0.202,\tVanillaPG/loss: -0.00467\n"
     ]
    },
    {
     "name": "stdout",
     "output_type": "stream",
     "text": [
      "Epoch reward 154.0\n"
     ]
    },
    {
     "name": "stderr",
     "output_type": "stream",
     "text": [
      "[a2c|TrainMonitor|INFO] ep: 425,\tT: 16,141,\tG: 200,\tavg_r: 1,\tavg_G: 110,\tt: 200,\tdt: 14.548ms,\tSimpleTD/loss: 0.0356,\tVanillaPG/loss: 0.00253\n"
     ]
    },
    {
     "name": "stdout",
     "output_type": "stream",
     "text": [
      "Epoch reward 209.0\n"
     ]
    },
    {
     "name": "stderr",
     "output_type": "stream",
     "text": [
      "[a2c|TrainMonitor|INFO] ep: 426,\tT: 16,271,\tG: 129,\tavg_r: 1,\tavg_G: 111,\tt: 129,\tdt: 14.680ms,\tSimpleTD/loss: 0.277,\tVanillaPG/loss: 6.52e-05\n"
     ]
    },
    {
     "name": "stdout",
     "output_type": "stream",
     "text": [
      "Epoch reward 129.0\n"
     ]
    },
    {
     "name": "stderr",
     "output_type": "stream",
     "text": [
      "[a2c|TrainMonitor|INFO] ep: 427,\tT: 16,389,\tG: 117,\tavg_r: 1,\tavg_G: 112,\tt: 117,\tdt: 14.631ms,\tSimpleTD/loss: 0.204,\tVanillaPG/loss: 0.00415\n"
     ]
    },
    {
     "name": "stdout",
     "output_type": "stream",
     "text": [
      "Epoch reward 117.0\n"
     ]
    },
    {
     "name": "stderr",
     "output_type": "stream",
     "text": [
      "[a2c|TrainMonitor|INFO] ep: 428,\tT: 16,552,\tG: 162,\tavg_r: 1,\tavg_G: 117,\tt: 162,\tdt: 15.057ms,\tSimpleTD/loss: 0.0525,\tVanillaPG/loss: -0.0431\n"
     ]
    },
    {
     "name": "stdout",
     "output_type": "stream",
     "text": [
      "Epoch reward 162.0\n"
     ]
    },
    {
     "name": "stderr",
     "output_type": "stream",
     "text": [
      "[a2c|TrainMonitor|INFO] ep: 429,\tT: 16,611,\tG: 58,\tavg_r: 1,\tavg_G: 111,\tt: 58,\tdt: 14.304ms,\tSimpleTD/loss: 0.608,\tVanillaPG/loss: 0.00558\n"
     ]
    },
    {
     "name": "stdout",
     "output_type": "stream",
     "text": [
      "Epoch reward 58.0\n"
     ]
    },
    {
     "name": "stderr",
     "output_type": "stream",
     "text": [
      "[a2c|TrainMonitor|INFO] ep: 430,\tT: 16,688,\tG: 76,\tavg_r: 1,\tavg_G: 108,\tt: 76,\tdt: 14.537ms,\tSimpleTD/loss: 0.266,\tVanillaPG/loss: 0.0146\n"
     ]
    },
    {
     "name": "stdout",
     "output_type": "stream",
     "text": [
      "Epoch reward 76.0\n"
     ]
    },
    {
     "name": "stderr",
     "output_type": "stream",
     "text": [
      "[a2c|TrainMonitor|INFO] ep: 431,\tT: 16,774,\tG: 85,\tavg_r: 1,\tavg_G: 105,\tt: 85,\tdt: 14.208ms,\tSimpleTD/loss: 0.114,\tVanillaPG/loss: 0.0105\n"
     ]
    },
    {
     "name": "stdout",
     "output_type": "stream",
     "text": [
      "Epoch reward 85.0\n"
     ]
    },
    {
     "name": "stderr",
     "output_type": "stream",
     "text": [
      "[a2c|TrainMonitor|INFO] ep: 432,\tT: 16,861,\tG: 86,\tavg_r: 1,\tavg_G: 103,\tt: 86,\tdt: 14.327ms,\tSimpleTD/loss: 0.0969,\tVanillaPG/loss: 0.00666\n"
     ]
    },
    {
     "name": "stdout",
     "output_type": "stream",
     "text": [
      "Epoch reward 86.0\n"
     ]
    },
    {
     "name": "stderr",
     "output_type": "stream",
     "text": [
      "[a2c|TrainMonitor|INFO] ep: 433,\tT: 16,943,\tG: 81,\tavg_r: 1,\tavg_G: 101,\tt: 81,\tdt: 14.338ms,\tSimpleTD/loss: 0.0417,\tVanillaPG/loss: 0.00752\n"
     ]
    },
    {
     "name": "stdout",
     "output_type": "stream",
     "text": [
      "Epoch reward 81.0\n"
     ]
    },
    {
     "name": "stderr",
     "output_type": "stream",
     "text": [
      "[a2c|TrainMonitor|INFO] ep: 434,\tT: 17,012,\tG: 68,\tavg_r: 1,\tavg_G: 97.9,\tt: 68,\tdt: 14.385ms,\tSimpleTD/loss: 0.331,\tVanillaPG/loss: -0.00705\n"
     ]
    },
    {
     "name": "stdout",
     "output_type": "stream",
     "text": [
      "Epoch reward 68.0\n"
     ]
    },
    {
     "name": "stderr",
     "output_type": "stream",
     "text": [
      "[a2c|TrainMonitor|INFO] ep: 435,\tT: 17,155,\tG: 142,\tavg_r: 1,\tavg_G: 102,\tt: 142,\tdt: 14.730ms,\tSimpleTD/loss: 0.144,\tVanillaPG/loss: 0.00915\n"
     ]
    },
    {
     "name": "stdout",
     "output_type": "stream",
     "text": [
      "Epoch reward 142.0\n"
     ]
    },
    {
     "name": "stderr",
     "output_type": "stream",
     "text": [
      "[a2c|TrainMonitor|INFO] ep: 436,\tT: 17,312,\tG: 156,\tavg_r: 1,\tavg_G: 108,\tt: 156,\tdt: 14.413ms,\tSimpleTD/loss: 0.142,\tVanillaPG/loss: 0.0031\n"
     ]
    },
    {
     "name": "stdout",
     "output_type": "stream",
     "text": [
      "Epoch reward 156.0\n"
     ]
    },
    {
     "name": "stderr",
     "output_type": "stream",
     "text": [
      "[a2c|TrainMonitor|INFO] ep: 437,\tT: 17,513,\tG: 200,\tavg_r: 1,\tavg_G: 117,\tt: 200,\tdt: 14.640ms,\tSimpleTD/loss: 0.00962,\tVanillaPG/loss: 0.00589\n"
     ]
    },
    {
     "name": "stdout",
     "output_type": "stream",
     "text": [
      "Epoch reward 209.0\n"
     ]
    },
    {
     "name": "stderr",
     "output_type": "stream",
     "text": [
      "[a2c|TrainMonitor|INFO] ep: 438,\tT: 17,714,\tG: 200,\tavg_r: 1,\tavg_G: 125,\tt: 200,\tdt: 14.275ms,\tSimpleTD/loss: 0.00145,\tVanillaPG/loss: -0.0064\n"
     ]
    },
    {
     "name": "stdout",
     "output_type": "stream",
     "text": [
      "Epoch reward 209.0\n"
     ]
    },
    {
     "name": "stderr",
     "output_type": "stream",
     "text": [
      "[a2c|TrainMonitor|INFO] ep: 439,\tT: 17,855,\tG: 140,\tavg_r: 1,\tavg_G: 127,\tt: 140,\tdt: 14.430ms,\tSimpleTD/loss: 0.255,\tVanillaPG/loss: 0.00153\n"
     ]
    },
    {
     "name": "stdout",
     "output_type": "stream",
     "text": [
      "Epoch reward 140.0\n"
     ]
    },
    {
     "name": "stderr",
     "output_type": "stream",
     "text": [
      "[a2c|TrainMonitor|INFO] ep: 440,\tT: 17,987,\tG: 131,\tavg_r: 1,\tavg_G: 127,\tt: 131,\tdt: 14.323ms,\tSimpleTD/loss: 0.269,\tVanillaPG/loss: 0.00597\n"
     ]
    },
    {
     "name": "stdout",
     "output_type": "stream",
     "text": [
      "Epoch reward 131.0\n"
     ]
    },
    {
     "name": "stderr",
     "output_type": "stream",
     "text": [
      "[a2c|TrainMonitor|INFO] ep: 441,\tT: 18,188,\tG: 200,\tavg_r: 1,\tavg_G: 134,\tt: 200,\tdt: 14.303ms,\tSimpleTD/loss: 0.00246,\tVanillaPG/loss: 0.0039\n"
     ]
    },
    {
     "name": "stdout",
     "output_type": "stream",
     "text": [
      "Epoch reward 209.0\n"
     ]
    },
    {
     "name": "stderr",
     "output_type": "stream",
     "text": [
      "[a2c|TrainMonitor|INFO] ep: 442,\tT: 18,389,\tG: 200,\tavg_r: 1,\tavg_G: 141,\tt: 200,\tdt: 14.386ms,\tSimpleTD/loss: 0.00176,\tVanillaPG/loss: -0.00561\n"
     ]
    },
    {
     "name": "stdout",
     "output_type": "stream",
     "text": [
      "Epoch reward 209.0\n"
     ]
    },
    {
     "name": "stderr",
     "output_type": "stream",
     "text": [
      "[a2c|TrainMonitor|INFO] ep: 443,\tT: 18,590,\tG: 200,\tavg_r: 1,\tavg_G: 147,\tt: 200,\tdt: 14.869ms,\tSimpleTD/loss: 0.00146,\tVanillaPG/loss: 0.000901\n"
     ]
    },
    {
     "name": "stdout",
     "output_type": "stream",
     "text": [
      "Epoch reward 209.0\n"
     ]
    },
    {
     "name": "stderr",
     "output_type": "stream",
     "text": [
      "[a2c|TrainMonitor|INFO] ep: 444,\tT: 18,791,\tG: 200,\tavg_r: 1,\tavg_G: 152,\tt: 200,\tdt: 14.456ms,\tSimpleTD/loss: 0.00179,\tVanillaPG/loss: 4.22e-05\n"
     ]
    },
    {
     "name": "stdout",
     "output_type": "stream",
     "text": [
      "Epoch reward 209.0\n"
     ]
    },
    {
     "name": "stderr",
     "output_type": "stream",
     "text": [
      "[a2c|TrainMonitor|INFO] ep: 445,\tT: 18,992,\tG: 200,\tavg_r: 1,\tavg_G: 157,\tt: 200,\tdt: 14.617ms,\tSimpleTD/loss: 0.0022,\tVanillaPG/loss: -0.00154\n"
     ]
    },
    {
     "name": "stdout",
     "output_type": "stream",
     "text": [
      "Epoch reward 209.0\n"
     ]
    },
    {
     "name": "stderr",
     "output_type": "stream",
     "text": [
      "[a2c|TrainMonitor|INFO] ep: 446,\tT: 19,169,\tG: 176,\tavg_r: 1,\tavg_G: 159,\tt: 176,\tdt: 14.353ms,\tSimpleTD/loss: 0.226,\tVanillaPG/loss: -0.00522\n"
     ]
    },
    {
     "name": "stdout",
     "output_type": "stream",
     "text": [
      "Epoch reward 176.0\n"
     ]
    },
    {
     "name": "stderr",
     "output_type": "stream",
     "text": [
      "[a2c|TrainMonitor|INFO] ep: 447,\tT: 19,370,\tG: 200,\tavg_r: 1,\tavg_G: 163,\tt: 200,\tdt: 15.243ms,\tSimpleTD/loss: 0.0141,\tVanillaPG/loss: 0.0031\n"
     ]
    },
    {
     "name": "stdout",
     "output_type": "stream",
     "text": [
      "Epoch reward 209.0\n"
     ]
    },
    {
     "name": "stderr",
     "output_type": "stream",
     "text": [
      "[a2c|TrainMonitor|INFO] ep: 448,\tT: 19,489,\tG: 118,\tavg_r: 1,\tavg_G: 158,\tt: 118,\tdt: 16.224ms,\tSimpleTD/loss: 0.416,\tVanillaPG/loss: -0.0108\n"
     ]
    },
    {
     "name": "stdout",
     "output_type": "stream",
     "text": [
      "Epoch reward 118.0\n"
     ]
    },
    {
     "name": "stderr",
     "output_type": "stream",
     "text": [
      "[a2c|TrainMonitor|INFO] ep: 449,\tT: 19,594,\tG: 104,\tavg_r: 1,\tavg_G: 153,\tt: 104,\tdt: 14.879ms,\tSimpleTD/loss: 0.535,\tVanillaPG/loss: 0.0171\n"
     ]
    },
    {
     "name": "stdout",
     "output_type": "stream",
     "text": [
      "Epoch reward 104.0\n"
     ]
    },
    {
     "name": "stderr",
     "output_type": "stream",
     "text": [
      "[a2c|TrainMonitor|INFO] ep: 450,\tT: 19,703,\tG: 108,\tavg_r: 1,\tavg_G: 149,\tt: 108,\tdt: 14.997ms,\tSimpleTD/loss: 0.309,\tVanillaPG/loss: 0.0175\n"
     ]
    },
    {
     "name": "stdout",
     "output_type": "stream",
     "text": [
      "Epoch reward 108.0\n"
     ]
    },
    {
     "name": "stderr",
     "output_type": "stream",
     "text": [
      "[a2c|TrainMonitor|INFO] ep: 451,\tT: 19,743,\tG: 39,\tavg_r: 1,\tavg_G: 138,\tt: 39,\tdt: 14.558ms,\tSimpleTD/loss: 0.803,\tVanillaPG/loss: -0.0117\n"
     ]
    },
    {
     "name": "stdout",
     "output_type": "stream",
     "text": [
      "Epoch reward 39.0\n"
     ]
    },
    {
     "name": "stderr",
     "output_type": "stream",
     "text": [
      "[a2c|TrainMonitor|INFO] ep: 452,\tT: 19,767,\tG: 23,\tavg_r: 1,\tavg_G: 126,\tt: 23,\tdt: 14.080ms,\tSimpleTD/loss: 1.08,\tVanillaPG/loss: 0.00743\n"
     ]
    },
    {
     "name": "stdout",
     "output_type": "stream",
     "text": [
      "Epoch reward 23.0\n"
     ]
    },
    {
     "name": "stderr",
     "output_type": "stream",
     "text": [
      "[a2c|TrainMonitor|INFO] ep: 453,\tT: 19,791,\tG: 23,\tavg_r: 1,\tavg_G: 116,\tt: 23,\tdt: 14.536ms,\tSimpleTD/loss: 1.03,\tVanillaPG/loss: 0.0184\n"
     ]
    },
    {
     "name": "stdout",
     "output_type": "stream",
     "text": [
      "Epoch reward 23.0\n"
     ]
    },
    {
     "name": "stderr",
     "output_type": "stream",
     "text": [
      "[a2c|TrainMonitor|INFO] ep: 454,\tT: 19,818,\tG: 26,\tavg_r: 1,\tavg_G: 107,\tt: 26,\tdt: 14.274ms,\tSimpleTD/loss: 0.806,\tVanillaPG/loss: 0.0474\n"
     ]
    },
    {
     "name": "stdout",
     "output_type": "stream",
     "text": [
      "Epoch reward 26.0\n"
     ]
    },
    {
     "name": "stderr",
     "output_type": "stream",
     "text": [
      "[a2c|TrainMonitor|INFO] ep: 455,\tT: 19,853,\tG: 34,\tavg_r: 1,\tavg_G: 99.5,\tt: 34,\tdt: 14.262ms,\tSimpleTD/loss: 0.589,\tVanillaPG/loss: 0.00997\n"
     ]
    },
    {
     "name": "stdout",
     "output_type": "stream",
     "text": [
      "Epoch reward 34.0\n"
     ]
    },
    {
     "name": "stderr",
     "output_type": "stream",
     "text": [
      "[a2c|TrainMonitor|INFO] ep: 456,\tT: 19,890,\tG: 36,\tavg_r: 1,\tavg_G: 93.2,\tt: 36,\tdt: 14.583ms,\tSimpleTD/loss: 0.475,\tVanillaPG/loss: -0.00788\n"
     ]
    },
    {
     "name": "stdout",
     "output_type": "stream",
     "text": [
      "Epoch reward 36.0\n"
     ]
    },
    {
     "name": "stderr",
     "output_type": "stream",
     "text": [
      "[a2c|TrainMonitor|INFO] ep: 457,\tT: 19,942,\tG: 51,\tavg_r: 1,\tavg_G: 89,\tt: 51,\tdt: 14.848ms,\tSimpleTD/loss: 0.364,\tVanillaPG/loss: -0.0197\n"
     ]
    },
    {
     "name": "stdout",
     "output_type": "stream",
     "text": [
      "Epoch reward 51.0\n"
     ]
    },
    {
     "name": "stderr",
     "output_type": "stream",
     "text": [
      "[a2c|TrainMonitor|INFO] ep: 458,\tT: 19,986,\tG: 43,\tavg_r: 1,\tavg_G: 84.4,\tt: 43,\tdt: 14.478ms,\tSimpleTD/loss: 0.539,\tVanillaPG/loss: 0.00777\n"
     ]
    },
    {
     "name": "stdout",
     "output_type": "stream",
     "text": [
      "Epoch reward 43.0\n"
     ]
    },
    {
     "name": "stderr",
     "output_type": "stream",
     "text": [
      "[a2c|TrainMonitor|INFO] ep: 459,\tT: 20,045,\tG: 58,\tavg_r: 1,\tavg_G: 81.7,\tt: 58,\tdt: 14.589ms,\tSimpleTD/loss: 0.31,\tVanillaPG/loss: 0.0174\n"
     ]
    },
    {
     "name": "stdout",
     "output_type": "stream",
     "text": [
      "Epoch reward 58.0\n"
     ]
    },
    {
     "name": "stderr",
     "output_type": "stream",
     "text": [
      "[a2c|TrainMonitor|INFO] ep: 460,\tT: 20,165,\tG: 119,\tavg_r: 1,\tavg_G: 85.5,\tt: 119,\tdt: 14.423ms,\tSimpleTD/loss: 0.145,\tVanillaPG/loss: 0.0166\n"
     ]
    },
    {
     "name": "stdout",
     "output_type": "stream",
     "text": [
      "Epoch reward 119.0\n"
     ]
    },
    {
     "name": "stderr",
     "output_type": "stream",
     "text": [
      "[a2c|TrainMonitor|INFO] ep: 461,\tT: 20,224,\tG: 58,\tavg_r: 1,\tavg_G: 82.7,\tt: 58,\tdt: 14.609ms,\tSimpleTD/loss: 0.645,\tVanillaPG/loss: -0.00385\n"
     ]
    },
    {
     "name": "stdout",
     "output_type": "stream",
     "text": [
      "Epoch reward 58.0\n"
     ]
    },
    {
     "name": "stderr",
     "output_type": "stream",
     "text": [
      "[a2c|TrainMonitor|INFO] ep: 462,\tT: 20,274,\tG: 49,\tavg_r: 1,\tavg_G: 79.3,\tt: 49,\tdt: 14.745ms,\tSimpleTD/loss: 0.54,\tVanillaPG/loss: -0.0614\n"
     ]
    },
    {
     "name": "stdout",
     "output_type": "stream",
     "text": [
      "Epoch reward 49.0\n"
     ]
    },
    {
     "name": "stderr",
     "output_type": "stream",
     "text": [
      "[a2c|TrainMonitor|INFO] ep: 463,\tT: 20,382,\tG: 107,\tavg_r: 1,\tavg_G: 82.1,\tt: 107,\tdt: 14.610ms,\tSimpleTD/loss: 0.166,\tVanillaPG/loss: -0.024\n"
     ]
    },
    {
     "name": "stdout",
     "output_type": "stream",
     "text": [
      "Epoch reward 107.0\n"
     ]
    },
    {
     "name": "stderr",
     "output_type": "stream",
     "text": [
      "[a2c|TrainMonitor|INFO] ep: 464,\tT: 20,526,\tG: 143,\tavg_r: 1,\tavg_G: 88.2,\tt: 143,\tdt: 14.661ms,\tSimpleTD/loss: 0.348,\tVanillaPG/loss: 0.00359\n"
     ]
    },
    {
     "name": "stdout",
     "output_type": "stream",
     "text": [
      "Epoch reward 143.0\n"
     ]
    },
    {
     "name": "stderr",
     "output_type": "stream",
     "text": [
      "[a2c|TrainMonitor|INFO] ep: 465,\tT: 20,727,\tG: 200,\tavg_r: 1,\tavg_G: 99.4,\tt: 200,\tdt: 14.774ms,\tSimpleTD/loss: 0.0366,\tVanillaPG/loss: -0.00511\n"
     ]
    },
    {
     "name": "stdout",
     "output_type": "stream",
     "text": [
      "Epoch reward 209.0\n"
     ]
    },
    {
     "name": "stderr",
     "output_type": "stream",
     "text": [
      "[a2c|TrainMonitor|INFO] ep: 466,\tT: 20,885,\tG: 157,\tavg_r: 1,\tavg_G: 105,\tt: 157,\tdt: 14.528ms,\tSimpleTD/loss: 0.258,\tVanillaPG/loss: -0.00812\n"
     ]
    },
    {
     "name": "stdout",
     "output_type": "stream",
     "text": [
      "Epoch reward 157.0\n"
     ]
    },
    {
     "name": "stderr",
     "output_type": "stream",
     "text": [
      "[a2c|TrainMonitor|INFO] ep: 467,\tT: 21,086,\tG: 200,\tavg_r: 1,\tavg_G: 115,\tt: 200,\tdt: 14.976ms,\tSimpleTD/loss: 0.0331,\tVanillaPG/loss: 0.00348\n"
     ]
    },
    {
     "name": "stdout",
     "output_type": "stream",
     "text": [
      "Epoch reward 209.0\n"
     ]
    },
    {
     "name": "stderr",
     "output_type": "stream",
     "text": [
      "[a2c|TrainMonitor|INFO] ep: 468,\tT: 21,276,\tG: 189,\tavg_r: 1,\tavg_G: 122,\tt: 189,\tdt: 14.688ms,\tSimpleTD/loss: 0.16,\tVanillaPG/loss: -0.0199\n"
     ]
    },
    {
     "name": "stdout",
     "output_type": "stream",
     "text": [
      "Epoch reward 189.0\n"
     ]
    },
    {
     "name": "stderr",
     "output_type": "stream",
     "text": [
      "[a2c|TrainMonitor|INFO] ep: 469,\tT: 21,477,\tG: 200,\tavg_r: 1,\tavg_G: 130,\tt: 200,\tdt: 14.361ms,\tSimpleTD/loss: 0.025,\tVanillaPG/loss: -0.00195\n"
     ]
    },
    {
     "name": "stdout",
     "output_type": "stream",
     "text": [
      "Epoch reward 209.0\n"
     ]
    },
    {
     "name": "stderr",
     "output_type": "stream",
     "text": [
      "[a2c|TrainMonitor|INFO] ep: 470,\tT: 21,678,\tG: 200,\tavg_r: 1,\tavg_G: 137,\tt: 200,\tdt: 14.351ms,\tSimpleTD/loss: 0.0141,\tVanillaPG/loss: 0.000402\n"
     ]
    },
    {
     "name": "stdout",
     "output_type": "stream",
     "text": [
      "Epoch reward 209.0\n"
     ]
    },
    {
     "name": "stderr",
     "output_type": "stream",
     "text": [
      "[a2c|TrainMonitor|INFO] ep: 471,\tT: 21,879,\tG: 200,\tavg_r: 1,\tavg_G: 143,\tt: 200,\tdt: 15.707ms,\tSimpleTD/loss: 0.00465,\tVanillaPG/loss: -0.00428\n"
     ]
    },
    {
     "name": "stdout",
     "output_type": "stream",
     "text": [
      "Epoch reward 209.0\n"
     ]
    },
    {
     "name": "stderr",
     "output_type": "stream",
     "text": [
      "[a2c|TrainMonitor|INFO] ep: 472,\tT: 22,077,\tG: 197,\tavg_r: 1,\tavg_G: 149,\tt: 197,\tdt: 14.702ms,\tSimpleTD/loss: 0.14,\tVanillaPG/loss: -0.00174\n"
     ]
    },
    {
     "name": "stdout",
     "output_type": "stream",
     "text": [
      "Epoch reward 197.0\n"
     ]
    }
   ],
   "source": [
    "\n",
    "# these optimizers collect batches of grads before applying updates\n",
    "optimizer_v = optax.chain(optax.apply_every(k=32), optax.adam(0.002))\n",
    "optimizer_pi = optax.chain(optax.apply_every(k=32), optax.adam(0.001))\n",
    "\n",
    "\n",
    "# value function and its derived policy\n",
    "v = coax.V(func_v, env)\n",
    "pi = coax.Policy(func_pi, env)\n",
    "\n",
    "# experience tracer\n",
    "tracer = coax.reward_tracing.NStep(n=1, gamma=0.9)\n",
    "\n",
    "# updaters\n",
    "vanilla_pg = coax.policy_objectives.VanillaPG(pi, optimizer=optimizer_pi)\n",
    "simple_td = coax.td_learning.SimpleTD(v, loss_function=mse, optimizer=optimizer_v)\n",
    "\n",
    "\n",
    "# train\n",
    "for ep in range(1000):\n",
    "    s = env.reset()\n",
    "    er = 0\n",
    "    for t in range(env.spec.max_episode_steps):\n",
    "        a = pi(s)\n",
    "        s_next, r, done, info = env.step(a)\n",
    "        \n",
    "        if done and (t == env.spec.max_episode_steps - 1):\n",
    "            r = 1 / (1 - tracer.gamma)\n",
    "        er+=r\n",
    "        tracer.add(s, a, r, done)\n",
    "        while tracer:\n",
    "            transition_batch = tracer.pop()\n",
    "            metrics_v, td_error = simple_td.update(transition_batch, return_td_error=True)\n",
    "            metrics_pi = vanilla_pg.update(transition_batch, td_error)\n",
    "            env.record_metrics(metrics_v)\n",
    "            env.record_metrics(metrics_pi)\n",
    "\n",
    "        if done:\n",
    "            break\n",
    "\n",
    "        s = s_next\n",
    "    \n",
    "    print(\"Epoch reward\",er)\n",
    "    # early stopping\n",
    "    if env.avg_G > env.spec.reward_threshold:\n",
    "        break\n",
    "\n",
    "\n",
    "# run env one more time to render\n",
    "#coax.utils.generate_gif(env, policy=pi, filepath=f\"./data/{name}.gif\", duration=25)"
   ]
  },
  {
   "cell_type": "code",
   "execution_count": null,
   "metadata": {},
   "outputs": [],
   "source": []
  }
 ],
 "metadata": {
  "kernelspec": {
   "display_name": "Python 3",
   "language": "python",
   "name": "python3"
  },
  "language_info": {
   "codemirror_mode": {
    "name": "ipython",
    "version": 3
   },
   "file_extension": ".py",
   "mimetype": "text/x-python",
   "name": "python",
   "nbconvert_exporter": "python",
   "pygments_lexer": "ipython3",
   "version": "3.8.5"
  }
 },
 "nbformat": 4,
 "nbformat_minor": 4
}
