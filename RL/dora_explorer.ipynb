{
 "cells": [
  {
   "cell_type": "code",
   "execution_count": 116,
   "id": "46c43028-3245-4ed8-91d7-f025a574cc74",
   "metadata": {},
   "outputs": [],
   "source": [
    "import coax\n",
    "from coax.regularizers import Regularizer\n",
    "import gym\n",
    "\n",
    "from emlp import T, Scalar\n",
    "from emlp.groups import SO, S, O, Trivial,Z\n",
    "import emlp.nn.haiku as ehk\n",
    "from mixed_emlp_haiku import MixedEMLP\n",
    "from representations import PseudoScalar\n",
    "from math import prod\n",
    "from coax.value_losses import mse\n",
    "\n",
    "import optax"
   ]
  },
  {
   "cell_type": "code",
   "execution_count": 117,
   "id": "4d02b401-5b0d-4c64-82a8-eb031c03f299",
   "metadata": {},
   "outputs": [],
   "source": [
    "from coax.utils import jit"
   ]
  },
  {
   "cell_type": "code",
   "execution_count": 118,
   "id": "1e1c596d-1693-42c4-9c72-b1119607e783",
   "metadata": {},
   "outputs": [],
   "source": [
    "env = gym.make(\"rpp_gym:InclinedCartpole-v0\")"
   ]
  },
  {
   "cell_type": "code",
   "execution_count": 119,
   "id": "2a06c40a-cbc8-46c5-ab70-91563374f3c5",
   "metadata": {},
   "outputs": [],
   "source": [
    "group=Z(2)\n",
    "rep_in = PseudoScalar()*prod(env.observation_space.shape)\n",
    "rep_out = T(1)#*env.action_space.n#prod(env.action_space.shape)\n",
    "\n",
    "nn_pi = MixedEMLP(rep_in,rep_out(group),group,ch=100,num_layers=2)\n",
    "nn_v = MixedEMLP(rep_in,T(0),group,ch=100,num_layers=2)\n",
    "\n",
    "\n",
    "def func_pi(S, is_training):\n",
    "    return {'logits': nn_pi(S)}\n",
    "\n",
    "\n",
    "def func_v(S, is_training):\n",
    "    return nn_v(S).reshape(-1)"
   ]
  },
  {
   "cell_type": "code",
   "execution_count": 120,
   "id": "ea443e3d-5ead-44a4-a6ae-0a8410c0861c",
   "metadata": {},
   "outputs": [],
   "source": [
    "# value function and its derived policy\n",
    "v = coax.V(func_v, env)\n",
    "pi = coax.Policy(func_pi, env)"
   ]
  },
  {
   "cell_type": "code",
   "execution_count": 132,
   "id": "0b027d20-40ae-4068-a6db-854a02887183",
   "metadata": {},
   "outputs": [],
   "source": [
    "\n",
    "class RPPRegularizer(Regularizer):\n",
    "    r\"\"\"\n",
    "\n",
    "    Abstract base class for policy regularizers. Check out\n",
    "    :class:`coax.regularizers.EntropyRegularizer` for a specific example.\n",
    "\n",
    "    Parameters\n",
    "    ----------\n",
    "    f : stochastic function approximator\n",
    "\n",
    "        The stochastic function approximator (e.g. :class:`coax.Policy`) to regularize.\n",
    "\n",
    "    \"\"\"\n",
    "    def __init__(self, f, equiv_wd=1e-3, basic_wd=1e-3):\n",
    "        self.equiv_wd = equiv_wd\n",
    "        self.basic_wd = basic_wd\n",
    "        self.f = f\n",
    "        \n",
    "        def function(dist_params, equiv_wd, basic_wd):\n",
    "#             print(dist_params)\n",
    "            equiv_l2 = 0.0\n",
    "            basic_l2 = 0.0\n",
    "            for k1, v1 in self.f.params.items():\n",
    "                for k2, v2 in v1.items():\n",
    "                    if k2.endswith(\"_basic\"):\n",
    "                        basic_l2 += (v2 ** 2).sum()\n",
    "                    else:\n",
    "                        equiv_l2 += (v2 ** 2).sum()\n",
    "            print(\"Eq l2 = \", equiv_l2, \", Eq wd = \", equiv_wd)\n",
    "            print(\"Basic l2 = \", basic_l2, \", Basic wd = \", basic_wd)\n",
    "            return (equiv_wd * equiv_l2) + (basic_wd * basic_l2)\n",
    "            \n",
    "        \n",
    "        def metrics(dist_params, equiv_wd, basic_wd):\n",
    "            equiv_l2 = 0.0\n",
    "            basic_l2 = 0.0\n",
    "            for k1, v1 in self.f.params.items():\n",
    "                for k2, v2 in v1.items():\n",
    "                    if k2.endswith(\"_basic\"):\n",
    "                        basic_l2 += (v2 ** 2).sum()\n",
    "                    else:\n",
    "                        equiv_l2 += (v2 ** 2).sum()\n",
    "                        \n",
    "            return {'RPPRegularizer/equiv_l2':equiv_l2,\n",
    "                    'RPPRegularizer/basic_l2':basic_l2,\n",
    "                    'RPPRegularizer/equiv_wd':equiv_wd,\n",
    "                    'RPPRegularizer/basic_wd':basic_wd,}\n",
    "            \n",
    "            \n",
    "        self._function = jit(function)\n",
    "        self._metrics_func = jit(metrics)\n",
    "            \n",
    "    @property\n",
    "    def hyperparams(self):\n",
    "        return {'equiv_wd':self.equiv_wd, 'basic_wd':self.basic_wd}\n",
    "\n",
    "    @property\n",
    "    def function(self):\n",
    "        return self._function\n",
    "\n",
    "    @property\n",
    "    def metrics_func(self):\n",
    "        return self._metrics_func\n",
    "\n"
   ]
  },
  {
   "cell_type": "code",
   "execution_count": 133,
   "id": "ec2898db-561d-46e3-bfce-590d7fb18f92",
   "metadata": {},
   "outputs": [],
   "source": [
    "pi_regularizer = RPPRegularizer(pi)\n",
    "tracer = coax.reward_tracing.NStep(n=1, gamma=0.9)"
   ]
  },
  {
   "cell_type": "code",
   "execution_count": 134,
   "id": "5a472a0d-3b1a-4ea3-9345-9f6112d00485",
   "metadata": {},
   "outputs": [],
   "source": [
    "optimizer_v = optax.chain(optax.apply_every(k=32), optax.adam(0.002))\n",
    "optimizer_pi = optax.chain(optax.apply_every(k=32), optax.adam(0.001))\n",
    "\n",
    "vanilla_pg = coax.policy_objectives.VanillaPG(pi, optimizer=optimizer_pi, regularizer=pi_regularizer)\n",
    "simple_td = coax.td_learning.SimpleTD(v, loss_function=mse, optimizer=optimizer_v)"
   ]
  },
  {
   "cell_type": "code",
   "execution_count": 137,
   "id": "076ba187-7ca8-46da-b08c-b3f5c9876744",
   "metadata": {
    "tags": []
   },
   "outputs": [
    {
     "name": "stdout",
     "output_type": "stream",
     "text": [
      "False\n",
      "False\n",
      "False\n",
      "False\n",
      "False\n",
      "False\n",
      "False\n",
      "False\n",
      "False\n",
      "False\n",
      "False\n",
      "True\n"
     ]
    }
   ],
   "source": [
    "s = env.reset()\n",
    "for t in range(env.spec.max_episode_steps):\n",
    "    a = pi(s)\n",
    "    s_next, r, done, info = env.step(a)\n",
    "    print(done)\n",
    "\n",
    "    if done and (t == env.spec.max_episode_steps - 1):\n",
    "        r = 1 / (1 - tracer.gamma)\n",
    "        \n",
    "    tracer.add(s, a, r, done)\n",
    "    while tracer:\n",
    "        transition_batch = tracer.pop()\n",
    "        metrics_v, td_error = simple_td.update(transition_batch, return_td_error=True)\n",
    "        metrics_pi = vanilla_pg.update(transition_batch, td_error)\n",
    "#         env.record_metrics(metrics_v)\n",
    "#         env.record_metrics(metrics_pi)\n",
    "    if done:\n",
    "        break\n",
    "    s = s_next"
   ]
  },
  {
   "cell_type": "code",
   "execution_count": 125,
   "id": "6f14aeeb-c5ce-4fed-ab3b-0baa7678e5a3",
   "metadata": {},
   "outputs": [],
   "source": [
    "if tracer:\n",
    "    print(\"yes\")"
   ]
  },
  {
   "cell_type": "code",
   "execution_count": null,
   "id": "ecb78238-7fe9-4025-a902-efe126e50c56",
   "metadata": {},
   "outputs": [],
   "source": []
  }
 ],
 "metadata": {
  "kernelspec": {
   "display_name": "Python 3",
   "language": "python",
   "name": "python3"
  },
  "language_info": {
   "codemirror_mode": {
    "name": "ipython",
    "version": 3
   },
   "file_extension": ".py",
   "mimetype": "text/x-python",
   "name": "python",
   "nbconvert_exporter": "python",
   "pygments_lexer": "ipython3",
   "version": "3.8.8"
  }
 },
 "nbformat": 4,
 "nbformat_minor": 5
}
